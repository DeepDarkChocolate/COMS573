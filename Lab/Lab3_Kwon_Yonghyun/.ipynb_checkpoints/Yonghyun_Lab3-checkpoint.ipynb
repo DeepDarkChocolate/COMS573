{
 "cells": [
  {
   "cell_type": "markdown",
   "metadata": {},
   "source": [
    "# Data Import and Load"
   ]
  },
  {
   "cell_type": "code",
   "execution_count": 1,
   "metadata": {
    "scrolled": true
   },
   "outputs": [
    {
     "name": "stderr",
     "output_type": "stream",
     "text": [
      "DEBUG:weka.core.jvm:Adding bundled jars\n",
      "DEBUG:weka.core.jvm:Classpath=['C:\\\\Users\\\\ghkfk\\\\Anaconda3\\\\lib\\\\site-packages\\\\javabridge\\\\jars\\\\rhino-1.7R4.jar', 'C:\\\\Users\\\\ghkfk\\\\Anaconda3\\\\lib\\\\site-packages\\\\javabridge\\\\jars\\\\runnablequeue.jar', 'C:\\\\Users\\\\ghkfk\\\\Anaconda3\\\\lib\\\\site-packages\\\\javabridge\\\\jars\\\\cpython.jar', 'C:\\\\Users\\\\ghkfk\\\\Anaconda3\\\\lib\\\\site-packages\\\\weka\\\\lib\\\\python-weka-wrapper.jar', 'C:\\\\Users\\\\ghkfk\\\\Anaconda3\\\\lib\\\\site-packages\\\\weka\\\\lib\\\\weka.jar']\n",
      "DEBUG:weka.core.jvm:MaxHeapSize=default\n",
      "DEBUG:weka.core.jvm:Package support disabled\n"
     ]
    },
    {
     "name": "stdout",
     "output_type": "stream",
     "text": [
      "Numpy version = 1.16.5\n",
      "Pandas version = 0.25.1\n",
      "arff version = 2.4.0\n",
      "python-weka-wrapper3 version = 0.1.12\n",
      "javabridge version = 1.0.18\n"
     ]
    }
   ],
   "source": [
    "import numpy as np\n",
    "import pandas as pd\n",
    "\n",
    "import arff\n",
    "\n",
    "#sudo pip install python-weka-wrapper3\n",
    "#sudo pip install javabridge\n",
    "#Go to https://fracpete.github.io/python-weka-wrapper/install.html for more information\n",
    "import weka\n",
    "import weka.core.jvm as jvm\n",
    "from weka.core.dataset import create_instances_from_lists, Instances\n",
    "import weka.core.converters as converters\n",
    "from weka.core.converters import Loader\n",
    "from weka.classifiers import Classifier, Evaluation\n",
    "from weka.core.classes import Random\n",
    "import weka.plot.graph as graph\n",
    "\n",
    "print(\"Numpy version = %s\" % np.__version__)\n",
    "print(\"Pandas version = %s\" % pd.__version__)\n",
    "print(\"arff version = %s\" % arff.__version__)\n",
    "print(\"python-weka-wrapper3 version = %s\" % \"0.1.12\")\n",
    "print(\"javabridge version = %s\" % \"1.0.18\")\n",
    "\n",
    "jvm.start()"
   ]
  },
  {
   "cell_type": "code",
   "execution_count": 2,
   "metadata": {
    "scrolled": true
   },
   "outputs": [],
   "source": [
    "# inport data\n",
    "data_dir = \"https://archive.ics.uci.edu/ml/machine-learning-databases/voting-records/\"\n",
    "data1 = pd.read_csv(data_dir + \"house-votes-84.data\", header=None)\n",
    "data1 = data1.reindex(columns=[1,2,3,4,5,6,7,8,9,10,11,12,13,14,15,16,0])\n",
    "data1 = np.array(data1)\n",
    "\n",
    "# create arff file\n",
    "obj = {\n",
    "   'description': u'',\n",
    "   \"relation\": \"vote\",\n",
    "   'attributes': [\n",
    "       (\"handicapped-infants\", [\"n\", \"y\"]),\n",
    "       ('water-project-cost-sharing', ['n', 'y']),\n",
    "       ('adoption-of-the-budget-resolution', ['n', 'y']),\n",
    "       ('physician-fee-freeze', ['n', 'y']),\n",
    "       \n",
    "       ('el-salvador-aid', ['n', 'y']),\n",
    "       ('religious-groups-in-schools', ['n', 'y']),\n",
    "       ('anti-satellite-test-ban', ['n', 'y']),\n",
    "       ('aid-to-nicaraguan-contras', ['n', 'y']),\n",
    "       \n",
    "       ('mx-missile', ['n', 'y']),\n",
    "       ('immigration', ['n', 'y']),\n",
    "       ('synfuels-corporation-cutback', ['n', 'y']),\n",
    "       ('education-spending', ['n', 'y']),\n",
    "       \n",
    "       ('superfund-right-to-sue', ['n', 'y']),\n",
    "       ('crime', ['n', 'y']),\n",
    "       ('duty-free-exports', ['n', 'y']),\n",
    "       ('export-administration-act-south-africa', ['n', 'y']),\n",
    "       \n",
    "       ('\\'Class\\'', ['democrat', 'republican']),\n",
    "   ],\n",
    "   'data': data1,\n",
    "}\n",
    "fp = open(\"vote2.arff\", \"w\")\n",
    "arff.dump(obj, fp)\n",
    "fp.close()\n",
    "\n",
    "# load data\n",
    "data = converters.load_any_file(\"vote2.arff\")\n",
    "data.class_is_last()"
   ]
  },
  {
   "cell_type": "markdown",
   "metadata": {},
   "source": [
    "# Decision Tree modeling and analysis"
   ]
  },
  {
   "cell_type": "markdown",
   "metadata": {},
   "source": [
    "## Learning a Decision Tree Classifier"
   ]
  },
  {
   "cell_type": "markdown",
   "metadata": {},
   "source": [
    "In order to learn a decision tree on the vote data set, we use *J48* in *Weka*."
   ]
  },
  {
   "cell_type": "code",
   "execution_count": 3,
   "metadata": {
    "scrolled": false
   },
   "outputs": [
    {
     "name": "stdout",
     "output_type": "stream",
     "text": [
      "J48 pruned tree\n",
      "------------------\n",
      "\n",
      "physician-fee-freeze = n: democrat (253.41/3.75)\n",
      "physician-fee-freeze = y\n",
      "|   synfuels-corporation-cutback = n: republican (145.71/4.0)\n",
      "|   synfuels-corporation-cutback = y\n",
      "|   |   mx-missile = n\n",
      "|   |   |   adoption-of-the-budget-resolution = n: republican (22.61/3.32)\n",
      "|   |   |   adoption-of-the-budget-resolution = y\n",
      "|   |   |   |   anti-satellite-test-ban = n: democrat (5.04/0.02)\n",
      "|   |   |   |   anti-satellite-test-ban = y: republican (2.21)\n",
      "|   |   mx-missile = y: democrat (6.03/1.03)\n",
      "\n",
      "Number of Leaves  : \t6\n",
      "\n",
      "Size of the tree : \t11\n",
      "\n"
     ]
    }
   ],
   "source": [
    "cls = Classifier(classname=\"weka.classifiers.trees.J48\")\n",
    "cls.build_classifier(data)\n",
    "#print(cls.to_help())\n",
    "print(cls)"
   ]
  },
  {
   "cell_type": "code",
   "execution_count": 4,
   "metadata": {
    "scrolled": true
   },
   "outputs": [],
   "source": [
    "graph.plot_dot_graph(cls.graph, \"Tree.png\")"
   ]
  },
  {
   "cell_type": "markdown",
   "metadata": {},
   "source": [
    "![Tree](Tree.png)"
   ]
  },
  {
   "cell_type": "markdown",
   "metadata": {},
   "source": [
    "One of the most important attribute to classify voting records is *physician-fee-freeze*. If one voted against or announced against freezing physizian fee, it highly implies that that person affiliates democrat. This makes sense because democrats insists on more expenditure on health care and medical service. The next important attribute is *synfuels-corporation-cutback*. Republicans are about 30000% more likely to be opposed to cutback on Synthetic Fuels Corporation.\n",
    "\n",
    "Also, *mx-missile* and *education-spending* was the following important attributes in the tree. People who think that the nation should spend more on education-spending seemed to affiliate republicans. The other attributes were not considered important when classifying party affiliation."
   ]
  },
  {
   "cell_type": "markdown",
   "metadata": {},
   "source": [
    "## k-fold cross-validation"
   ]
  },
  {
   "cell_type": "code",
   "execution_count": 5,
   "metadata": {
    "scrolled": false
   },
   "outputs": [
    {
     "name": "stdout",
     "output_type": "stream",
     "text": [
      "Accuracy = 96.5517%\n",
      "95% Confidence Interval = (0.805579, 1.12546)\n",
      "\n",
      "Correctly Classified Instances         420               96.5517 %\n",
      "Incorrectly Classified Instances        15                3.4483 %\n",
      "Kappa statistic                          0.9275\n",
      "Mean absolute error                      0.059 \n",
      "Root mean squared error                  0.1731\n",
      "Relative absolute error                 12.4478 %\n",
      "Root relative squared error             35.5458 %\n",
      "Total Number of Instances              435     \n",
      "\n",
      "=== Detailed Accuracy By Class ===\n",
      "\n",
      "                 TP Rate  FP Rate  Precision  Recall   F-Measure  MCC      ROC Area  PRC Area  Class\n",
      "                 0.966    0.036    0.977      0.966    0.972      0.928    0.967     0.967     democrat\n",
      "                 0.964    0.034    0.947      0.964    0.956      0.928    0.967     0.932     republican\n",
      "Weighted Avg.    0.966    0.035    0.966      0.966    0.966      0.928    0.967     0.953     \n",
      "\n"
     ]
    }
   ],
   "source": [
    "n = 5\n",
    "evaluation = Evaluation(data)                     # initialize with priors\n",
    "evaluation.crossvalidate_model(cls, data, n, Random(1))  # 5-fold CV\n",
    "print(\"Accuracy = %g\" % evaluation.percent_correct + \"%\")\n",
    "\n",
    "z = 1.96\n",
    "accuracy = evaluation.percent_correct/100\n",
    "margin = z * np.sqrt( (accuracy * (1 - accuracy)) / n)\n",
    "print(\"95% \"+\"Confidence Interval = (%g, %g)\" % (accuracy - margin, accuracy + margin))\n",
    "\n",
    "print(evaluation.summary())\n",
    "\n",
    "#print(\"Number of incorrect = %g\" % evaluation.incorrect)\n",
    "print(evaluation.class_details())"
   ]
  },
  {
   "cell_type": "markdown",
   "metadata": {},
   "source": [
    "It turns out that the accuracy of the decision tree is 96.5517%, so we can use this model to classify one's political view. We can see that almost all of the elements in the above table is close to 1.\n",
    "\n",
    "The accuracy is based on the whole data. We trained the model based on the whole data and obtain accuracy using the same data, but we can split training and test data to compute more accurate accuracy(as we will see in the next section).\n",
    "\n",
    "Note that the 95% confidence interval includes 1. Since accuracy is strictly less than 1, one can imporve this interval by increasing the number of iterations(in this experiment, 5)"
   ]
  },
  {
   "cell_type": "markdown",
   "metadata": {},
   "source": [
    "## Stability of decision tree"
   ]
  },
  {
   "cell_type": "code",
   "execution_count": 6,
   "metadata": {},
   "outputs": [
    {
     "name": "stdout",
     "output_type": "stream",
     "text": [
      "-------------0-th fold-------------\n",
      "Accuracy for training data = 97.9885%\n",
      "Accuracy for test data = 94.2529%\n",
      "-------------1-th fold-------------\n",
      "Accuracy for training data = 97.7011%\n",
      "Accuracy for test data = 95.4023%\n",
      "-------------2-th fold-------------\n",
      "Accuracy for training data = 97.4138%\n",
      "Accuracy for test data = 88.5057%\n",
      "-------------3-th fold-------------\n",
      "Accuracy for training data = 96.2644%\n",
      "Accuracy for test data = 98.8506%\n",
      "-------------4-th fold-------------\n",
      "Accuracy for training data = 96.8391%\n",
      "Accuracy for test data = 94.2529%\n"
     ]
    }
   ],
   "source": [
    "n = 5\n",
    "seed = 1\n",
    "rnd = Random(seed)\n",
    "rand_data = Instances.copy_instances(data)\n",
    "rand_data.randomize(rnd)\n",
    "classifier = Classifier(classname=\"weka.classifiers.trees.J48\")\n",
    "\n",
    "for i in range(n):\n",
    "    # randomely splilt the dataset\n",
    "    train = rand_data.train_cv(n, i)\n",
    "    test = rand_data.test_cv(n, i)\n",
    "\n",
    "    # split train and test datasetand measure accuracy\n",
    "    cls = Classifier.make_copy(classifier)\n",
    "    cls.build_classifier(train)\n",
    "    evaluation = Evaluation(rand_data)\n",
    "    evaluation.test_model(cls, train)\n",
    "\n",
    "    print(\"-------------%g-th fold-------------\" % i)\n",
    "    print(\"Accuracy for training data = %g\" % evaluation.percent_correct + \"%\")\n",
    "    \n",
    "    evaluation = Evaluation(rand_data)\n",
    "    evaluation.test_model(cls, test)\n",
    "    print(\"Accuracy for test data = %g\" % evaluation.percent_correct + \"%\")\n",
    "    \n",
    "    #Visualize five trees constructed\n",
    "    graph.plot_dot_graph(cls.graph, (\"Tree\" + str(i) + \".png\"))"
   ]
  },
  {
   "cell_type": "markdown",
   "metadata": {},
   "source": [
    "##### Tree0\n",
    "![Tree0](Tree0.png)\n",
    "\n",
    "##### Tree1\n",
    "![Tree1](Tree1.png)\n",
    "\n",
    "##### Tree2\n",
    "![Tree2](Tree2.png)\n",
    "\n",
    "##### Tree3\n",
    "![Tree3](Tree3.png)\n",
    "\n",
    "##### Tree4\n",
    "![Tree4](Tree4.png)\n"
   ]
  },
  {
   "cell_type": "markdown",
   "metadata": {},
   "source": [
    "\n",
    "One can observe that all of the five trees are similar and they resemble the tree that is constructed using all the data in Task1. K-fold cross validation result shows that decision tree learning algorithm is stable enough, because using different training and test data does not bring out significantly different trees. We can check that the first node is always *physician-fee-freeze* but the second node varies depending on which dataset is used as test data. Putting all five experiments together, we can conclude that *physician-fee-freeze*, *synfuels-corporation-cutback* and *mx-missile* are important factors(or attribute) for classifying two different groups.\n",
    "\n",
    "Also, 5 experiments show consistent accuracy except accuracy for test data in third experiment. Outliers of test data in the third experiment may have caused lower accuracy of the model."
   ]
  }
 ],
 "metadata": {
  "kernelspec": {
   "display_name": "Python 3",
   "language": "python",
   "name": "python3"
  },
  "language_info": {
   "codemirror_mode": {
    "name": "ipython",
    "version": 3
   },
   "file_extension": ".py",
   "mimetype": "text/x-python",
   "name": "python",
   "nbconvert_exporter": "python",
   "pygments_lexer": "ipython3",
   "version": "3.7.4"
  }
 },
 "nbformat": 4,
 "nbformat_minor": 4
}
