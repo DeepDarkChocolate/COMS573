{
 "cells": [
  {
   "cell_type": "markdown",
   "metadata": {},
   "source": [
    "# Design choices\n",
    "\n",
    "During validation proecess, when choosing the best hyper-parameter of fully-connected feed-forward neural networks, we cannot experiment with all the possible choices of hyper-parameters due to time constraints. Hence, we sequentially select the hyper-parameters based on the following model-building process.\n",
    "\n",
    "1) Preprocess: input scale($c$)\n",
    "\n",
    "2) Building the model: number of hiddenlayers($nL$), number ot hidden units($nU$)\n",
    "\n",
    "3) Compiling the model: learning rate($\\eta$), momentum($\\alpha$)\n",
    "\n",
    "4) Training the model: batch size($B$)\n",
    "\n",
    "That is, we experiment with different input scales, while fixing all the other hyper-parameters($nL = 1, nU = 100, \\eta = 0.01, \\alpha = 0, B = 32$). Then, with the best scale-hyper parameter, we choose the best $nL$, $nU$, while fixing $\\eta = 0.01, \\alpha = 0, B = 32$, and so on.\n",
    "\n",
    "The hyper-parameters are selected from following sets:\n",
    "\n",
    "\\begin{gather*}\n",
    "c \\in \\{1/100, 1/10, 1, 10, 100\\} \\\\\n",
    "nL \\in \\{0, 1, 2\\} \\\\\n",
    "nU \\in \\{1, 5, 10, 50, 100, 500, 1000\\} \\\\\n",
    "\\eta \\in \\{0.001, 0.01, 0.1, 1\\} \\\\\n",
    "\\alpha \\in \\{0, 0.001, 0.01, 0.1, 1\\} \\\\\n",
    "B \\in \\{8, 16, 32, 64, 128\\}\n",
    "\\end{gather*}\n",
    "\n",
    "Most of all, we select the best hyper-parameters based on overall accuracy of validation data. We repeat computing the accuracy of validation data for five times and test the value based on its mean and 95% confidence interval.(Assuming that the mean accuracy of five repetition is normally distributed.)\n",
    "\n",
    "Experimenting with convolutional network, a series of hyper parameters were selected at the same time, not sequentally, and we choose the best hyper-parameter based on the overall classification accuracy of validation data without replication to save time."
   ]
  },
  {
   "cell_type": "markdown",
   "metadata": {},
   "source": [
    "# Fully-connected feed-forward neural network"
   ]
  },
  {
   "cell_type": "markdown",
   "metadata": {},
   "source": [
    "## Sum-of-square error vs. cross-entropy error"
   ]
  },
  {
   "cell_type": "markdown",
   "metadata": {},
   "source": [
    "### Hyperparameter for sum-of-square error; ReLU"
   ]
  },
  {
   "cell_type": "code",
   "execution_count": 4,
   "metadata": {
    "scrolled": false
   },
   "outputs": [
    {
     "data": {
      "image/png": "[encoded data removed]",
      "text/plain": [
       "<Figure size 720x720 with 4 Axes>"
      ]
     },
     "metadata": {
      "needs_background": "light"
     },
     "output_type": "display_data"
    },
    {
     "name": "stdout",
     "output_type": "stream",
     "text": [
      "The best scale hyper parameter is scale = 1\n",
      "Accuracy of validation set\n"
     ]
    },
    {
     "data": {
      "text/html": [
       "<style  type=\"text/css\" >\n",
       "    #T_11b2fc94_6753_11ea_ae0d_548ca070448erow2_col6 {\n",
       "            background-color:  yellow;\n",
       "        }</style><table id=\"T_11b2fc94_6753_11ea_ae0d_548ca070448e\" ><thead>    <tr>        <th class=\"blank level0\" ></th>        <th class=\"col_heading level0 col0\" >1</th>        <th class=\"col_heading level0 col1\" >5</th>        <th class=\"col_heading level0 col2\" >10</th>        <th class=\"col_heading level0 col3\" >50</th>        <th class=\"col_heading level0 col4\" >100</th>        <th class=\"col_heading level0 col5\" >500</th>        <th class=\"col_heading level0 col6\" >1000</th>    </tr></thead><tbody>\n",
       "                <tr>\n",
       "                        <th id=\"T_11b2fc94_6753_11ea_ae0d_548ca070448elevel0_row0\" class=\"row_heading level0 row0\" >0</th>\n",
       "                        <td id=\"T_11b2fc94_6753_11ea_ae0d_548ca070448erow0_col0\" class=\"data row0 col0\" >0.3137 (0.1465, 0.481)</td>\n",
       "                        <td id=\"T_11b2fc94_6753_11ea_ae0d_548ca070448erow0_col1\" class=\"data row0 col1\" >0.3733 (0.312, 0.4347)</td>\n",
       "                        <td id=\"T_11b2fc94_6753_11ea_ae0d_548ca070448erow0_col2\" class=\"data row0 col2\" >0.4068 (0.2608, 0.5528)</td>\n",
       "                        <td id=\"T_11b2fc94_6753_11ea_ae0d_548ca070448erow0_col3\" class=\"data row0 col3\" >0.383 (0.2939, 0.4721)</td>\n",
       "                        <td id=\"T_11b2fc94_6753_11ea_ae0d_548ca070448erow0_col4\" class=\"data row0 col4\" >0.4193 (0.337, 0.5017)</td>\n",
       "                        <td id=\"T_11b2fc94_6753_11ea_ae0d_548ca070448erow0_col5\" class=\"data row0 col5\" >0.4058 (0.3155, 0.496)</td>\n",
       "                        <td id=\"T_11b2fc94_6753_11ea_ae0d_548ca070448erow0_col6\" class=\"data row0 col6\" >0.4586 (0.4342, 0.4829)</td>\n",
       "            </tr>\n",
       "            <tr>\n",
       "                        <th id=\"T_11b2fc94_6753_11ea_ae0d_548ca070448elevel0_row1\" class=\"row_heading level0 row1\" >1</th>\n",
       "                        <td id=\"T_11b2fc94_6753_11ea_ae0d_548ca070448erow1_col0\" class=\"data row1 col0\" >0.1127 (0.0629, 0.1625)</td>\n",
       "                        <td id=\"T_11b2fc94_6753_11ea_ae0d_548ca070448erow1_col1\" class=\"data row1 col1\" >0.268 (0.1978, 0.3382)</td>\n",
       "                        <td id=\"T_11b2fc94_6753_11ea_ae0d_548ca070448erow1_col2\" class=\"data row1 col2\" >0.2918 (0.1849, 0.3986)</td>\n",
       "                        <td id=\"T_11b2fc94_6753_11ea_ae0d_548ca070448erow1_col3\" class=\"data row1 col3\" >0.5127 (0.3805, 0.6448)</td>\n",
       "                        <td id=\"T_11b2fc94_6753_11ea_ae0d_548ca070448erow1_col4\" class=\"data row1 col4\" >0.7409 (0.6861, 0.7957)</td>\n",
       "                        <td id=\"T_11b2fc94_6753_11ea_ae0d_548ca070448erow1_col5\" class=\"data row1 col5\" >0.8497 (0.7484, 0.9509)</td>\n",
       "                        <td id=\"T_11b2fc94_6753_11ea_ae0d_548ca070448erow1_col6\" class=\"data row1 col6\" >0.9621 (0.9538, 0.9704)</td>\n",
       "            </tr>\n",
       "            <tr>\n",
       "                        <th id=\"T_11b2fc94_6753_11ea_ae0d_548ca070448elevel0_row2\" class=\"row_heading level0 row2\" >2</th>\n",
       "                        <td id=\"T_11b2fc94_6753_11ea_ae0d_548ca070448erow2_col0\" class=\"data row2 col0\" >0.0988 (0.0887, 0.1089)</td>\n",
       "                        <td id=\"T_11b2fc94_6753_11ea_ae0d_548ca070448erow2_col1\" class=\"data row2 col1\" >0.2146 (0.0902, 0.3391)</td>\n",
       "                        <td id=\"T_11b2fc94_6753_11ea_ae0d_548ca070448erow2_col2\" class=\"data row2 col2\" >0.2871 (0.2358, 0.3383)</td>\n",
       "                        <td id=\"T_11b2fc94_6753_11ea_ae0d_548ca070448erow2_col3\" class=\"data row2 col3\" >0.6562 (0.5002, 0.8122)</td>\n",
       "                        <td id=\"T_11b2fc94_6753_11ea_ae0d_548ca070448erow2_col4\" class=\"data row2 col4\" >0.7791 (0.7174, 0.8408)</td>\n",
       "                        <td id=\"T_11b2fc94_6753_11ea_ae0d_548ca070448erow2_col5\" class=\"data row2 col5\" >0.9284 (0.8671, 0.9897)</td>\n",
       "                        <td id=\"T_11b2fc94_6753_11ea_ae0d_548ca070448erow2_col6\" class=\"data row2 col6\" >0.9697 (0.9653, 0.974)</td>\n",
       "            </tr>\n",
       "    </tbody></table>"
      ],
      "text/plain": [
       "<pandas.io.formats.style.Styler at 0x1f7b738e1c8>"
      ]
     },
     "metadata": {},
     "output_type": "display_data"
    },
    {
     "name": "stdout",
     "output_type": "stream",
     "text": [
      "The best accuracy of validation set is attained when # of hidden layers = 2 , # of hidden units = 1000\n",
      "\n",
      "Accuracy of training set\n"
     ]
    },
    {
     "data": {
      "text/html": [
       "<style  type=\"text/css\" >\n",
       "    #T_11c47cc8_6753_11ea_951a_548ca070448erow2_col6 {\n",
       "            background-color:  yellow;\n",
       "        }</style><table id=\"T_11c47cc8_6753_11ea_951a_548ca070448e\" ><thead>    <tr>        <th class=\"blank level0\" ></th>        <th class=\"col_heading level0 col0\" >1</th>        <th class=\"col_heading level0 col1\" >5</th>        <th class=\"col_heading level0 col2\" >10</th>        <th class=\"col_heading level0 col3\" >50</th>        <th class=\"col_heading level0 col4\" >100</th>        <th class=\"col_heading level0 col5\" >500</th>        <th class=\"col_heading level0 col6\" >1000</th>    </tr></thead><tbody>\n",
       "                <tr>\n",
       "                        <th id=\"T_11c47cc8_6753_11ea_951a_548ca070448elevel0_row0\" class=\"row_heading level0 row0\" >0</th>\n",
       "                        <td id=\"T_11c47cc8_6753_11ea_951a_548ca070448erow0_col0\" class=\"data row0 col0\" >0.3211 (0.1775, 0.4648)</td>\n",
       "                        <td id=\"T_11c47cc8_6753_11ea_951a_548ca070448erow0_col1\" class=\"data row0 col1\" >0.3731 (0.3214, 0.4248)</td>\n",
       "                        <td id=\"T_11c47cc8_6753_11ea_951a_548ca070448erow0_col2\" class=\"data row0 col2\" >0.4017 (0.2495, 0.5539)</td>\n",
       "                        <td id=\"T_11c47cc8_6753_11ea_951a_548ca070448erow0_col3\" class=\"data row0 col3\" >0.3844 (0.3021, 0.4667)</td>\n",
       "                        <td id=\"T_11c47cc8_6753_11ea_951a_548ca070448erow0_col4\" class=\"data row0 col4\" >0.4249 (0.332, 0.5178)</td>\n",
       "                        <td id=\"T_11c47cc8_6753_11ea_951a_548ca070448erow0_col5\" class=\"data row0 col5\" >0.4015 (0.3279, 0.4752)</td>\n",
       "                        <td id=\"T_11c47cc8_6753_11ea_951a_548ca070448erow0_col6\" class=\"data row0 col6\" >0.4608 (0.4407, 0.4808)</td>\n",
       "            </tr>\n",
       "            <tr>\n",
       "                        <th id=\"T_11c47cc8_6753_11ea_951a_548ca070448elevel0_row1\" class=\"row_heading level0 row1\" >1</th>\n",
       "                        <td id=\"T_11c47cc8_6753_11ea_951a_548ca070448erow1_col0\" class=\"data row1 col0\" >0.1222 (0.0727, 0.1717)</td>\n",
       "                        <td id=\"T_11c47cc8_6753_11ea_951a_548ca070448erow1_col1\" class=\"data row1 col1\" >0.2663 (0.1954, 0.3372)</td>\n",
       "                        <td id=\"T_11c47cc8_6753_11ea_951a_548ca070448erow1_col2\" class=\"data row1 col2\" >0.2889 (0.1956, 0.3823)</td>\n",
       "                        <td id=\"T_11c47cc8_6753_11ea_951a_548ca070448erow1_col3\" class=\"data row1 col3\" >0.5277 (0.3811, 0.6744)</td>\n",
       "                        <td id=\"T_11c47cc8_6753_11ea_951a_548ca070448erow1_col4\" class=\"data row1 col4\" >0.7443 (0.6758, 0.8129)</td>\n",
       "                        <td id=\"T_11c47cc8_6753_11ea_951a_548ca070448erow1_col5\" class=\"data row1 col5\" >0.8585 (0.7569, 0.9602)</td>\n",
       "                        <td id=\"T_11c47cc8_6753_11ea_951a_548ca070448erow1_col6\" class=\"data row1 col6\" >0.9772 (0.9741, 0.9802)</td>\n",
       "            </tr>\n",
       "            <tr>\n",
       "                        <th id=\"T_11c47cc8_6753_11ea_951a_548ca070448elevel0_row2\" class=\"row_heading level0 row2\" >2</th>\n",
       "                        <td id=\"T_11c47cc8_6753_11ea_951a_548ca070448erow2_col0\" class=\"data row2 col0\" >0.1023 (0.0991, 0.1055)</td>\n",
       "                        <td id=\"T_11c47cc8_6753_11ea_951a_548ca070448erow2_col1\" class=\"data row2 col1\" >0.2162 (0.0881, 0.3442)</td>\n",
       "                        <td id=\"T_11c47cc8_6753_11ea_951a_548ca070448erow2_col2\" class=\"data row2 col2\" >0.2929 (0.2583, 0.3276)</td>\n",
       "                        <td id=\"T_11c47cc8_6753_11ea_951a_548ca070448erow2_col3\" class=\"data row2 col3\" >0.6604 (0.5068, 0.814)</td>\n",
       "                        <td id=\"T_11c47cc8_6753_11ea_951a_548ca070448erow2_col4\" class=\"data row2 col4\" >0.7922 (0.7356, 0.8487)</td>\n",
       "                        <td id=\"T_11c47cc8_6753_11ea_951a_548ca070448erow2_col5\" class=\"data row2 col5\" >0.9397 (0.8737, 1.0057)</td>\n",
       "                        <td id=\"T_11c47cc8_6753_11ea_951a_548ca070448erow2_col6\" class=\"data row2 col6\" >0.9825 (0.9806, 0.9844)</td>\n",
       "            </tr>\n",
       "    </tbody></table>"
      ],
      "text/plain": [
       "<pandas.io.formats.style.Styler at 0x1f7b7577188>"
      ]
     },
     "metadata": {},
     "output_type": "display_data"
    },
    {
     "name": "stdout",
     "output_type": "stream",
     "text": [
      "The best accuracy of training set is attained when # of hidden layers = 2 , # of hidden units = 1000\n",
      "\n",
      "Number of iteration\n"
     ]
    },
    {
     "data": {
      "text/html": [
       "<style  type=\"text/css\" >\n",
       "    #T_11d64aee_6753_11ea_84fa_548ca070448erow2_col0 {\n",
       "            background-color:  yellow;\n",
       "        }</style><table id=\"T_11d64aee_6753_11ea_84fa_548ca070448e\" ><thead>    <tr>        <th class=\"blank level0\" ></th>        <th class=\"col_heading level0 col0\" >1</th>        <th class=\"col_heading level0 col1\" >5</th>        <th class=\"col_heading level0 col2\" >10</th>        <th class=\"col_heading level0 col3\" >50</th>        <th class=\"col_heading level0 col4\" >100</th>        <th class=\"col_heading level0 col5\" >500</th>        <th class=\"col_heading level0 col6\" >1000</th>    </tr></thead><tbody>\n",
       "                <tr>\n",
       "                        <th id=\"T_11d64aee_6753_11ea_84fa_548ca070448elevel0_row0\" class=\"row_heading level0 row0\" >0</th>\n",
       "                        <td id=\"T_11d64aee_6753_11ea_84fa_548ca070448erow0_col0\" class=\"data row0 col0\" >20.0 (20.0, 20.0)</td>\n",
       "                        <td id=\"T_11d64aee_6753_11ea_84fa_548ca070448erow0_col1\" class=\"data row0 col1\" >20.0 (20.0, 20.0)</td>\n",
       "                        <td id=\"T_11d64aee_6753_11ea_84fa_548ca070448erow0_col2\" class=\"data row0 col2\" >20.0 (20.0, 20.0)</td>\n",
       "                        <td id=\"T_11d64aee_6753_11ea_84fa_548ca070448erow0_col3\" class=\"data row0 col3\" >20.0 (20.0, 20.0)</td>\n",
       "                        <td id=\"T_11d64aee_6753_11ea_84fa_548ca070448erow0_col4\" class=\"data row0 col4\" >20.0 (20.0, 20.0)</td>\n",
       "                        <td id=\"T_11d64aee_6753_11ea_84fa_548ca070448erow0_col5\" class=\"data row0 col5\" >20.0 (20.0, 20.0)</td>\n",
       "                        <td id=\"T_11d64aee_6753_11ea_84fa_548ca070448erow0_col6\" class=\"data row0 col6\" >20.0 (20.0, 20.0)</td>\n",
       "            </tr>\n",
       "            <tr>\n",
       "                        <th id=\"T_11d64aee_6753_11ea_84fa_548ca070448elevel0_row1\" class=\"row_heading level0 row1\" >1</th>\n",
       "                        <td id=\"T_11d64aee_6753_11ea_84fa_548ca070448erow1_col0\" class=\"data row1 col0\" >19.6 (18.4894, 20.7106)</td>\n",
       "                        <td id=\"T_11d64aee_6753_11ea_84fa_548ca070448erow1_col1\" class=\"data row1 col1\" >20.0 (20.0, 20.0)</td>\n",
       "                        <td id=\"T_11d64aee_6753_11ea_84fa_548ca070448erow1_col2\" class=\"data row1 col2\" >20.0 (20.0, 20.0)</td>\n",
       "                        <td id=\"T_11d64aee_6753_11ea_84fa_548ca070448erow1_col3\" class=\"data row1 col3\" >20.0 (20.0, 20.0)</td>\n",
       "                        <td id=\"T_11d64aee_6753_11ea_84fa_548ca070448erow1_col4\" class=\"data row1 col4\" >20.0 (20.0, 20.0)</td>\n",
       "                        <td id=\"T_11d64aee_6753_11ea_84fa_548ca070448erow1_col5\" class=\"data row1 col5\" >20.0 (20.0, 20.0)</td>\n",
       "                        <td id=\"T_11d64aee_6753_11ea_84fa_548ca070448erow1_col6\" class=\"data row1 col6\" >20.0 (20.0, 20.0)</td>\n",
       "            </tr>\n",
       "            <tr>\n",
       "                        <th id=\"T_11d64aee_6753_11ea_84fa_548ca070448elevel0_row2\" class=\"row_heading level0 row2\" >2</th>\n",
       "                        <td id=\"T_11d64aee_6753_11ea_84fa_548ca070448erow2_col0\" class=\"data row2 col0\" >13.2 (1.6385, 24.7615)</td>\n",
       "                        <td id=\"T_11d64aee_6753_11ea_84fa_548ca070448erow2_col1\" class=\"data row2 col1\" >20.0 (20.0, 20.0)</td>\n",
       "                        <td id=\"T_11d64aee_6753_11ea_84fa_548ca070448erow2_col2\" class=\"data row2 col2\" >20.0 (20.0, 20.0)</td>\n",
       "                        <td id=\"T_11d64aee_6753_11ea_84fa_548ca070448erow2_col3\" class=\"data row2 col3\" >20.0 (20.0, 20.0)</td>\n",
       "                        <td id=\"T_11d64aee_6753_11ea_84fa_548ca070448erow2_col4\" class=\"data row2 col4\" >20.0 (20.0, 20.0)</td>\n",
       "                        <td id=\"T_11d64aee_6753_11ea_84fa_548ca070448erow2_col5\" class=\"data row2 col5\" >20.0 (20.0, 20.0)</td>\n",
       "                        <td id=\"T_11d64aee_6753_11ea_84fa_548ca070448erow2_col6\" class=\"data row2 col6\" >20.0 (20.0, 20.0)</td>\n",
       "            </tr>\n",
       "    </tbody></table>"
      ],
      "text/plain": [
       "<pandas.io.formats.style.Styler at 0x1f7b757e4c8>"
      ]
     },
     "metadata": {},
     "output_type": "display_data"
    },
    {
     "name": "stdout",
     "output_type": "stream",
     "text": [
      "The best number of iteration is attained when # of hidden layers = 2 , # of hidden units = 1\n",
      "\n",
      "Running time\n"
     ]
    },
    {
     "data": {
      "text/html": [
       "<style  type=\"text/css\" >\n",
       "    #T_11e61e92_6753_11ea_92a4_548ca070448erow2_col0 {\n",
       "            background-color:  yellow;\n",
       "        }</style><table id=\"T_11e61e92_6753_11ea_92a4_548ca070448e\" ><thead>    <tr>        <th class=\"blank level0\" ></th>        <th class=\"col_heading level0 col0\" >1</th>        <th class=\"col_heading level0 col1\" >5</th>        <th class=\"col_heading level0 col2\" >10</th>        <th class=\"col_heading level0 col3\" >50</th>        <th class=\"col_heading level0 col4\" >100</th>        <th class=\"col_heading level0 col5\" >500</th>        <th class=\"col_heading level0 col6\" >1000</th>    </tr></thead><tbody>\n",
       "                <tr>\n",
       "                        <th id=\"T_11e61e92_6753_11ea_92a4_548ca070448elevel0_row0\" class=\"row_heading level0 row0\" >0</th>\n",
       "                        <td id=\"T_11e61e92_6753_11ea_92a4_548ca070448erow0_col0\" class=\"data row0 col0\" >4.8483 (3.7397, 5.9568)</td>\n",
       "                        <td id=\"T_11e61e92_6753_11ea_92a4_548ca070448erow0_col1\" class=\"data row0 col1\" >4.936 (3.6262, 6.2457)</td>\n",
       "                        <td id=\"T_11e61e92_6753_11ea_92a4_548ca070448erow0_col2\" class=\"data row0 col2\" >4.2386 (3.6518, 4.8254)</td>\n",
       "                        <td id=\"T_11e61e92_6753_11ea_92a4_548ca070448erow0_col3\" class=\"data row0 col3\" >4.1315 (3.6236, 4.6393)</td>\n",
       "                        <td id=\"T_11e61e92_6753_11ea_92a4_548ca070448erow0_col4\" class=\"data row0 col4\" >4.2627 (3.8658, 4.6595)</td>\n",
       "                        <td id=\"T_11e61e92_6753_11ea_92a4_548ca070448erow0_col5\" class=\"data row0 col5\" >4.4446 (4.0107, 4.8785)</td>\n",
       "                        <td id=\"T_11e61e92_6753_11ea_92a4_548ca070448erow0_col6\" class=\"data row0 col6\" >4.1836 (3.9625, 4.4046)</td>\n",
       "            </tr>\n",
       "            <tr>\n",
       "                        <th id=\"T_11e61e92_6753_11ea_92a4_548ca070448elevel0_row1\" class=\"row_heading level0 row1\" >1</th>\n",
       "                        <td id=\"T_11e61e92_6753_11ea_92a4_548ca070448erow1_col0\" class=\"data row1 col0\" >4.2021 (3.6386, 4.7657)</td>\n",
       "                        <td id=\"T_11e61e92_6753_11ea_92a4_548ca070448erow1_col1\" class=\"data row1 col1\" >4.7875 (4.1744, 5.4005)</td>\n",
       "                        <td id=\"T_11e61e92_6753_11ea_92a4_548ca070448erow1_col2\" class=\"data row1 col2\" >4.4798 (3.9958, 4.9639)</td>\n",
       "                        <td id=\"T_11e61e92_6753_11ea_92a4_548ca070448erow1_col3\" class=\"data row1 col3\" >4.5196 (4.0604, 4.9787)</td>\n",
       "                        <td id=\"T_11e61e92_6753_11ea_92a4_548ca070448erow1_col4\" class=\"data row1 col4\" >4.4486 (3.8622, 5.0349)</td>\n",
       "                        <td id=\"T_11e61e92_6753_11ea_92a4_548ca070448erow1_col5\" class=\"data row1 col5\" >5.1474 (4.8221, 5.4728)</td>\n",
       "                        <td id=\"T_11e61e92_6753_11ea_92a4_548ca070448erow1_col6\" class=\"data row1 col6\" >6.0417 (5.5014, 6.5819)</td>\n",
       "            </tr>\n",
       "            <tr>\n",
       "                        <th id=\"T_11e61e92_6753_11ea_92a4_548ca070448elevel0_row2\" class=\"row_heading level0 row2\" >2</th>\n",
       "                        <td id=\"T_11e61e92_6753_11ea_92a4_548ca070448erow2_col0\" class=\"data row2 col0\" >4.1231 (1.2625, 6.9836)</td>\n",
       "                        <td id=\"T_11e61e92_6753_11ea_92a4_548ca070448erow2_col1\" class=\"data row2 col1\" >4.5684 (4.0676, 5.0693)</td>\n",
       "                        <td id=\"T_11e61e92_6753_11ea_92a4_548ca070448erow2_col2\" class=\"data row2 col2\" >4.4961 (3.8515, 5.1406)</td>\n",
       "                        <td id=\"T_11e61e92_6753_11ea_92a4_548ca070448erow2_col3\" class=\"data row2 col3\" >4.7277 (4.2084, 5.247)</td>\n",
       "                        <td id=\"T_11e61e92_6753_11ea_92a4_548ca070448erow2_col4\" class=\"data row2 col4\" >4.8911 (4.5439, 5.2383)</td>\n",
       "                        <td id=\"T_11e61e92_6753_11ea_92a4_548ca070448erow2_col5\" class=\"data row2 col5\" >12.4546 (11.9509, 12.9582)</td>\n",
       "                        <td id=\"T_11e61e92_6753_11ea_92a4_548ca070448erow2_col6\" class=\"data row2 col6\" >34.3712 (31.0611, 37.6814)</td>\n",
       "            </tr>\n",
       "    </tbody></table>"
      ],
      "text/plain": [
       "<pandas.io.formats.style.Styler at 0x1f7b7578cc8>"
      ]
     },
     "metadata": {},
     "output_type": "display_data"
    },
    {
     "name": "stdout",
     "output_type": "stream",
     "text": [
      "The best running time is attained when # of hidden layers = 2 , # of hidden units = 1\n",
      "\n",
      "The best number of hidden layers is nHiddenlayers = 2\n",
      "The best number of hidden units is nHiddenunits = 1000\n",
      "Accuracy of validation set\n"
     ]
    },
    {
     "data": {
      "text/html": [
       "<style  type=\"text/css\" >\n",
       "    #T_615200b6_6758_11ea_8ccf_548ca070448erow2_col0 {\n",
       "            background-color:  yellow;\n",
       "        }</style><table id=\"T_615200b6_6758_11ea_8ccf_548ca070448e\" ><thead>    <tr>        <th class=\"blank level0\" ></th>        <th class=\"col_heading level0 col0\" >0.0</th>        <th class=\"col_heading level0 col1\" >0.001</th>        <th class=\"col_heading level0 col2\" >0.01</th>        <th class=\"col_heading level0 col3\" >0.1</th>        <th class=\"col_heading level0 col4\" >1.0</th>    </tr></thead><tbody>\n",
       "                <tr>\n",
       "                        <th id=\"T_615200b6_6758_11ea_8ccf_548ca070448elevel0_row0\" class=\"row_heading level0 row0\" >0.001</th>\n",
       "                        <td id=\"T_615200b6_6758_11ea_8ccf_548ca070448erow0_col0\" class=\"data row0 col0\" >0.7914 (0.7413, 0.8414)</td>\n",
       "                        <td id=\"T_615200b6_6758_11ea_8ccf_548ca070448erow0_col1\" class=\"data row0 col1\" >0.8711 (0.8157, 0.9265)</td>\n",
       "                        <td id=\"T_615200b6_6758_11ea_8ccf_548ca070448erow0_col2\" class=\"data row0 col2\" >0.7895 (0.7314, 0.8476)</td>\n",
       "                        <td id=\"T_615200b6_6758_11ea_8ccf_548ca070448erow0_col3\" class=\"data row0 col3\" >0.7848 (0.722, 0.8477)</td>\n",
       "                        <td id=\"T_615200b6_6758_11ea_8ccf_548ca070448erow0_col4\" class=\"data row0 col4\" >0.8784 (0.7896, 0.9673)</td>\n",
       "            </tr>\n",
       "            <tr>\n",
       "                        <th id=\"T_615200b6_6758_11ea_8ccf_548ca070448elevel0_row1\" class=\"row_heading level0 row1\" >0.01</th>\n",
       "                        <td id=\"T_615200b6_6758_11ea_8ccf_548ca070448erow1_col0\" class=\"data row1 col0\" >0.9689 (0.9665, 0.9713)</td>\n",
       "                        <td id=\"T_615200b6_6758_11ea_8ccf_548ca070448erow1_col1\" class=\"data row1 col1\" >0.9503 (0.9049, 0.9957)</td>\n",
       "                        <td id=\"T_615200b6_6758_11ea_8ccf_548ca070448erow1_col2\" class=\"data row1 col2\" >0.9686 (0.9647, 0.9726)</td>\n",
       "                        <td id=\"T_615200b6_6758_11ea_8ccf_548ca070448erow1_col3\" class=\"data row1 col3\" >0.9715 (0.9667, 0.9763)</td>\n",
       "                        <td id=\"T_615200b6_6758_11ea_8ccf_548ca070448erow1_col4\" class=\"data row1 col4\" >0.6112 (0.4991, 0.7234)</td>\n",
       "            </tr>\n",
       "            <tr>\n",
       "                        <th id=\"T_615200b6_6758_11ea_8ccf_548ca070448elevel0_row2\" class=\"row_heading level0 row2\" >0.1</th>\n",
       "                        <td id=\"T_615200b6_6758_11ea_8ccf_548ca070448erow2_col0\" class=\"data row2 col0\" >0.9786 (0.972, 0.9851)</td>\n",
       "                        <td id=\"T_615200b6_6758_11ea_8ccf_548ca070448erow2_col1\" class=\"data row2 col1\" >0.9757 (0.9672, 0.9842)</td>\n",
       "                        <td id=\"T_615200b6_6758_11ea_8ccf_548ca070448erow2_col2\" class=\"data row2 col2\" >0.9697 (0.9609, 0.9784)</td>\n",
       "                        <td id=\"T_615200b6_6758_11ea_8ccf_548ca070448erow2_col3\" class=\"data row2 col3\" >0.9749 (0.9698, 0.98)</td>\n",
       "                        <td id=\"T_615200b6_6758_11ea_8ccf_548ca070448erow2_col4\" class=\"data row2 col4\" >0.0993 (0.0912, 0.1075)</td>\n",
       "            </tr>\n",
       "            <tr>\n",
       "                        <th id=\"T_615200b6_6758_11ea_8ccf_548ca070448elevel0_row3\" class=\"row_heading level0 row3\" >1.0</th>\n",
       "                        <td id=\"T_615200b6_6758_11ea_8ccf_548ca070448erow3_col0\" class=\"data row3 col0\" >0.274 (-0.2191, 0.767)</td>\n",
       "                        <td id=\"T_615200b6_6758_11ea_8ccf_548ca070448erow3_col1\" class=\"data row3 col1\" >0.0975 (0.0933, 0.1017)</td>\n",
       "                        <td id=\"T_615200b6_6758_11ea_8ccf_548ca070448erow3_col2\" class=\"data row3 col2\" >0.0957 (0.09, 0.1014)</td>\n",
       "                        <td id=\"T_615200b6_6758_11ea_8ccf_548ca070448erow3_col3\" class=\"data row3 col3\" >0.1007 (0.0898, 0.1115)</td>\n",
       "                        <td id=\"T_615200b6_6758_11ea_8ccf_548ca070448erow3_col4\" class=\"data row3 col4\" >0.1035 (0.0917, 0.1153)</td>\n",
       "            </tr>\n",
       "    </tbody></table>"
      ],
      "text/plain": [
       "<pandas.io.formats.style.Styler at 0x1f7b756de48>"
      ]
     },
     "metadata": {},
     "output_type": "display_data"
    },
    {
     "name": "stdout",
     "output_type": "stream",
     "text": [
      "Accuracy of training set\n"
     ]
    },
    {
     "data": {
      "text/html": [
       "<style  type=\"text/css\" >\n",
       "    #T_6168fb70_6758_11ea_90f3_548ca070448erow2_col0 {\n",
       "            background-color:  yellow;\n",
       "        }</style><table id=\"T_6168fb70_6758_11ea_90f3_548ca070448e\" ><thead>    <tr>        <th class=\"blank level0\" ></th>        <th class=\"col_heading level0 col0\" >0.0</th>        <th class=\"col_heading level0 col1\" >0.001</th>        <th class=\"col_heading level0 col2\" >0.01</th>        <th class=\"col_heading level0 col3\" >0.1</th>        <th class=\"col_heading level0 col4\" >1.0</th>    </tr></thead><tbody>\n",
       "                <tr>\n",
       "                        <th id=\"T_6168fb70_6758_11ea_90f3_548ca070448elevel0_row0\" class=\"row_heading level0 row0\" >0.001</th>\n",
       "                        <td id=\"T_6168fb70_6758_11ea_90f3_548ca070448erow0_col0\" class=\"data row0 col0\" >0.791 (0.7395, 0.8425)</td>\n",
       "                        <td id=\"T_6168fb70_6758_11ea_90f3_548ca070448erow0_col1\" class=\"data row0 col1\" >0.8731 (0.8046, 0.9416)</td>\n",
       "                        <td id=\"T_6168fb70_6758_11ea_90f3_548ca070448erow0_col2\" class=\"data row0 col2\" >0.781 (0.7179, 0.844)</td>\n",
       "                        <td id=\"T_6168fb70_6758_11ea_90f3_548ca070448erow0_col3\" class=\"data row0 col3\" >0.7886 (0.7364, 0.8407)</td>\n",
       "                        <td id=\"T_6168fb70_6758_11ea_90f3_548ca070448erow0_col4\" class=\"data row0 col4\" >0.8776 (0.7774, 0.9779)</td>\n",
       "            </tr>\n",
       "            <tr>\n",
       "                        <th id=\"T_6168fb70_6758_11ea_90f3_548ca070448elevel0_row1\" class=\"row_heading level0 row1\" >0.01</th>\n",
       "                        <td id=\"T_6168fb70_6758_11ea_90f3_548ca070448erow1_col0\" class=\"data row1 col0\" >0.9829 (0.9811, 0.9846)</td>\n",
       "                        <td id=\"T_6168fb70_6758_11ea_90f3_548ca070448erow1_col1\" class=\"data row1 col1\" >0.9631 (0.9092, 1.017)</td>\n",
       "                        <td id=\"T_6168fb70_6758_11ea_90f3_548ca070448erow1_col2\" class=\"data row1 col2\" >0.9836 (0.9827, 0.9846)</td>\n",
       "                        <td id=\"T_6168fb70_6758_11ea_90f3_548ca070448erow1_col3\" class=\"data row1 col3\" >0.9844 (0.9822, 0.9867)</td>\n",
       "                        <td id=\"T_6168fb70_6758_11ea_90f3_548ca070448erow1_col4\" class=\"data row1 col4\" >0.6037 (0.4812, 0.7262)</td>\n",
       "            </tr>\n",
       "            <tr>\n",
       "                        <th id=\"T_6168fb70_6758_11ea_90f3_548ca070448elevel0_row2\" class=\"row_heading level0 row2\" >0.1</th>\n",
       "                        <td id=\"T_6168fb70_6758_11ea_90f3_548ca070448erow2_col0\" class=\"data row2 col0\" >0.9945 (0.9903, 0.9987)</td>\n",
       "                        <td id=\"T_6168fb70_6758_11ea_90f3_548ca070448erow2_col1\" class=\"data row2 col1\" >0.9917 (0.9858, 0.9976)</td>\n",
       "                        <td id=\"T_6168fb70_6758_11ea_90f3_548ca070448erow2_col2\" class=\"data row2 col2\" >0.9878 (0.979, 0.9965)</td>\n",
       "                        <td id=\"T_6168fb70_6758_11ea_90f3_548ca070448erow2_col3\" class=\"data row2 col3\" >0.9928 (0.9858, 0.9998)</td>\n",
       "                        <td id=\"T_6168fb70_6758_11ea_90f3_548ca070448erow2_col4\" class=\"data row2 col4\" >0.1012 (0.0985, 0.104)</td>\n",
       "            </tr>\n",
       "            <tr>\n",
       "                        <th id=\"T_6168fb70_6758_11ea_90f3_548ca070448elevel0_row3\" class=\"row_heading level0 row3\" >1.0</th>\n",
       "                        <td id=\"T_6168fb70_6758_11ea_90f3_548ca070448erow3_col0\" class=\"data row3 col0\" >0.2806 (-0.2181, 0.7793)</td>\n",
       "                        <td id=\"T_6168fb70_6758_11ea_90f3_548ca070448erow3_col1\" class=\"data row3 col1\" >0.1012 (0.1003, 0.1021)</td>\n",
       "                        <td id=\"T_6168fb70_6758_11ea_90f3_548ca070448erow3_col2\" class=\"data row3 col2\" >0.1027 (0.1004, 0.105)</td>\n",
       "                        <td id=\"T_6168fb70_6758_11ea_90f3_548ca070448erow3_col3\" class=\"data row3 col3\" >0.0992 (0.0952, 0.1032)</td>\n",
       "                        <td id=\"T_6168fb70_6758_11ea_90f3_548ca070448erow3_col4\" class=\"data row3 col4\" >0.0993 (0.0952, 0.1034)</td>\n",
       "            </tr>\n",
       "    </tbody></table>"
      ],
      "text/plain": [
       "<pandas.io.formats.style.Styler at 0x1f7d93063c8>"
      ]
     },
     "metadata": {},
     "output_type": "display_data"
    },
    {
     "name": "stdout",
     "output_type": "stream",
     "text": [
      "Number of iteration\n"
     ]
    },
    {
     "data": {
      "text/html": [
       "<style  type=\"text/css\" >\n",
       "    #T_61801d1c_6758_11ea_95ec_548ca070448erow2_col4 {\n",
       "            background-color:  yellow;\n",
       "        }    #T_61801d1c_6758_11ea_95ec_548ca070448erow3_col2 {\n",
       "            background-color:  yellow;\n",
       "        }    #T_61801d1c_6758_11ea_95ec_548ca070448erow3_col4 {\n",
       "            background-color:  yellow;\n",
       "        }</style><table id=\"T_61801d1c_6758_11ea_95ec_548ca070448e\" ><thead>    <tr>        <th class=\"blank level0\" ></th>        <th class=\"col_heading level0 col0\" >0.0</th>        <th class=\"col_heading level0 col1\" >0.001</th>        <th class=\"col_heading level0 col2\" >0.01</th>        <th class=\"col_heading level0 col3\" >0.1</th>        <th class=\"col_heading level0 col4\" >1.0</th>    </tr></thead><tbody>\n",
       "                <tr>\n",
       "                        <th id=\"T_61801d1c_6758_11ea_95ec_548ca070448elevel0_row0\" class=\"row_heading level0 row0\" >0.001</th>\n",
       "                        <td id=\"T_61801d1c_6758_11ea_95ec_548ca070448erow0_col0\" class=\"data row0 col0\" >20.0 (20.0, 20.0)</td>\n",
       "                        <td id=\"T_61801d1c_6758_11ea_95ec_548ca070448erow0_col1\" class=\"data row0 col1\" >20.0 (20.0, 20.0)</td>\n",
       "                        <td id=\"T_61801d1c_6758_11ea_95ec_548ca070448erow0_col2\" class=\"data row0 col2\" >20.0 (20.0, 20.0)</td>\n",
       "                        <td id=\"T_61801d1c_6758_11ea_95ec_548ca070448erow0_col3\" class=\"data row0 col3\" >20.0 (20.0, 20.0)</td>\n",
       "                        <td id=\"T_61801d1c_6758_11ea_95ec_548ca070448erow0_col4\" class=\"data row0 col4\" >5.8 (2.7083, 8.8917)</td>\n",
       "            </tr>\n",
       "            <tr>\n",
       "                        <th id=\"T_61801d1c_6758_11ea_95ec_548ca070448elevel0_row1\" class=\"row_heading level0 row1\" >0.01</th>\n",
       "                        <td id=\"T_61801d1c_6758_11ea_95ec_548ca070448erow1_col0\" class=\"data row1 col0\" >20.0 (20.0, 20.0)</td>\n",
       "                        <td id=\"T_61801d1c_6758_11ea_95ec_548ca070448erow1_col1\" class=\"data row1 col1\" >20.0 (20.0, 20.0)</td>\n",
       "                        <td id=\"T_61801d1c_6758_11ea_95ec_548ca070448erow1_col2\" class=\"data row1 col2\" >20.0 (20.0, 20.0)</td>\n",
       "                        <td id=\"T_61801d1c_6758_11ea_95ec_548ca070448erow1_col3\" class=\"data row1 col3\" >20.0 (20.0, 20.0)</td>\n",
       "                        <td id=\"T_61801d1c_6758_11ea_95ec_548ca070448erow1_col4\" class=\"data row1 col4\" >4.4 (2.3223, 6.4777)</td>\n",
       "            </tr>\n",
       "            <tr>\n",
       "                        <th id=\"T_61801d1c_6758_11ea_95ec_548ca070448elevel0_row2\" class=\"row_heading level0 row2\" >0.1</th>\n",
       "                        <td id=\"T_61801d1c_6758_11ea_95ec_548ca070448erow2_col0\" class=\"data row2 col0\" >11.6 (7.6151, 15.5849)</td>\n",
       "                        <td id=\"T_61801d1c_6758_11ea_95ec_548ca070448erow2_col1\" class=\"data row2 col1\" >8.8 (5.4683, 12.1317)</td>\n",
       "                        <td id=\"T_61801d1c_6758_11ea_95ec_548ca070448erow2_col2\" class=\"data row2 col2\" >10.4 (5.7874, 15.0126)</td>\n",
       "                        <td id=\"T_61801d1c_6758_11ea_95ec_548ca070448erow2_col3\" class=\"data row2 col3\" >10.2 (7.2356, 13.1644)</td>\n",
       "                        <td id=\"T_61801d1c_6758_11ea_95ec_548ca070448erow2_col4\" class=\"data row2 col4\" >3.0 (3.0, 3.0)</td>\n",
       "            </tr>\n",
       "            <tr>\n",
       "                        <th id=\"T_61801d1c_6758_11ea_95ec_548ca070448elevel0_row3\" class=\"row_heading level0 row3\" >1.0</th>\n",
       "                        <td id=\"T_61801d1c_6758_11ea_95ec_548ca070448erow3_col0\" class=\"data row3 col0\" >4.4 (0.513, 8.287)</td>\n",
       "                        <td id=\"T_61801d1c_6758_11ea_95ec_548ca070448erow3_col1\" class=\"data row3 col1\" >3.6 (1.9341, 5.2659)</td>\n",
       "                        <td id=\"T_61801d1c_6758_11ea_95ec_548ca070448erow3_col2\" class=\"data row3 col2\" >3.0 (3.0, 3.0)</td>\n",
       "                        <td id=\"T_61801d1c_6758_11ea_95ec_548ca070448erow3_col3\" class=\"data row3 col3\" >3.4 (2.2894, 4.5106)</td>\n",
       "                        <td id=\"T_61801d1c_6758_11ea_95ec_548ca070448erow3_col4\" class=\"data row3 col4\" >3.0 (3.0, 3.0)</td>\n",
       "            </tr>\n",
       "    </tbody></table>"
      ],
      "text/plain": [
       "<pandas.io.formats.style.Styler at 0x1f7b7577088>"
      ]
     },
     "metadata": {},
     "output_type": "display_data"
    },
    {
     "name": "stdout",
     "output_type": "stream",
     "text": [
      "Running time\n"
     ]
    },
    {
     "data": {
      "text/html": [
       "<style  type=\"text/css\" >\n",
       "    #T_61940ca4_6758_11ea_a0c7_548ca070448erow3_col2 {\n",
       "            background-color:  yellow;\n",
       "        }</style><table id=\"T_61940ca4_6758_11ea_a0c7_548ca070448e\" ><thead>    <tr>        <th class=\"blank level0\" ></th>        <th class=\"col_heading level0 col0\" >0.0</th>        <th class=\"col_heading level0 col1\" >0.001</th>        <th class=\"col_heading level0 col2\" >0.01</th>        <th class=\"col_heading level0 col3\" >0.1</th>        <th class=\"col_heading level0 col4\" >1.0</th>    </tr></thead><tbody>\n",
       "                <tr>\n",
       "                        <th id=\"T_61940ca4_6758_11ea_a0c7_548ca070448elevel0_row0\" class=\"row_heading level0 row0\" >0.001</th>\n",
       "                        <td id=\"T_61940ca4_6758_11ea_a0c7_548ca070448erow0_col0\" class=\"data row0 col0\" >35.8612 (34.692, 37.0305)</td>\n",
       "                        <td id=\"T_61940ca4_6758_11ea_a0c7_548ca070448erow0_col1\" class=\"data row0 col1\" >38.7949 (36.4439, 41.1459)</td>\n",
       "                        <td id=\"T_61940ca4_6758_11ea_a0c7_548ca070448erow0_col2\" class=\"data row0 col2\" >37.8698 (37.1626, 38.5769)</td>\n",
       "                        <td id=\"T_61940ca4_6758_11ea_a0c7_548ca070448erow0_col3\" class=\"data row0 col3\" >38.3274 (34.8935, 41.7613)</td>\n",
       "                        <td id=\"T_61940ca4_6758_11ea_a0c7_548ca070448erow0_col4\" class=\"data row0 col4\" >11.3099 (5.8704, 16.7493)</td>\n",
       "            </tr>\n",
       "            <tr>\n",
       "                        <th id=\"T_61940ca4_6758_11ea_a0c7_548ca070448elevel0_row1\" class=\"row_heading level0 row1\" >0.01</th>\n",
       "                        <td id=\"T_61940ca4_6758_11ea_a0c7_548ca070448erow1_col0\" class=\"data row1 col0\" >36.8232 (32.6254, 41.0209)</td>\n",
       "                        <td id=\"T_61940ca4_6758_11ea_a0c7_548ca070448erow1_col1\" class=\"data row1 col1\" >38.2655 (37.467, 39.0639)</td>\n",
       "                        <td id=\"T_61940ca4_6758_11ea_a0c7_548ca070448erow1_col2\" class=\"data row1 col2\" >39.3911 (36.0127, 42.7695)</td>\n",
       "                        <td id=\"T_61940ca4_6758_11ea_a0c7_548ca070448erow1_col3\" class=\"data row1 col3\" >35.8582 (35.3977, 36.3188)</td>\n",
       "                        <td id=\"T_61940ca4_6758_11ea_a0c7_548ca070448erow1_col4\" class=\"data row1 col4\" >9.8816 (5.822, 13.9411)</td>\n",
       "            </tr>\n",
       "            <tr>\n",
       "                        <th id=\"T_61940ca4_6758_11ea_a0c7_548ca070448elevel0_row2\" class=\"row_heading level0 row2\" >0.1</th>\n",
       "                        <td id=\"T_61940ca4_6758_11ea_a0c7_548ca070448erow2_col0\" class=\"data row2 col0\" >19.8715 (13.3599, 26.383)</td>\n",
       "                        <td id=\"T_61940ca4_6758_11ea_a0c7_548ca070448erow2_col1\" class=\"data row2 col1\" >16.65 (9.9745, 23.3255)</td>\n",
       "                        <td id=\"T_61940ca4_6758_11ea_a0c7_548ca070448erow2_col2\" class=\"data row2 col2\" >20.3154 (11.9734, 28.6575)</td>\n",
       "                        <td id=\"T_61940ca4_6758_11ea_a0c7_548ca070448erow2_col3\" class=\"data row2 col3\" >19.5185 (14.4659, 24.5711)</td>\n",
       "                        <td id=\"T_61940ca4_6758_11ea_a0c7_548ca070448erow2_col4\" class=\"data row2 col4\" >6.23 (5.6493, 6.8107)</td>\n",
       "            </tr>\n",
       "            <tr>\n",
       "                        <th id=\"T_61940ca4_6758_11ea_a0c7_548ca070448elevel0_row3\" class=\"row_heading level0 row3\" >1.0</th>\n",
       "                        <td id=\"T_61940ca4_6758_11ea_a0c7_548ca070448erow3_col0\" class=\"data row3 col0\" >8.5353 (1.2297, 15.841)</td>\n",
       "                        <td id=\"T_61940ca4_6758_11ea_a0c7_548ca070448erow3_col1\" class=\"data row3 col1\" >7.1028 (4.1091, 10.0966)</td>\n",
       "                        <td id=\"T_61940ca4_6758_11ea_a0c7_548ca070448erow3_col2\" class=\"data row3 col2\" >6.1477 (5.4858, 6.8095)</td>\n",
       "                        <td id=\"T_61940ca4_6758_11ea_a0c7_548ca070448erow3_col3\" class=\"data row3 col3\" >6.8892 (4.756, 9.0225)</td>\n",
       "                        <td id=\"T_61940ca4_6758_11ea_a0c7_548ca070448erow3_col4\" class=\"data row3 col4\" >6.3643 (5.2068, 7.5218)</td>\n",
       "            </tr>\n",
       "    </tbody></table>"
      ],
      "text/plain": [
       "<pandas.io.formats.style.Styler at 0x1f7d9281f08>"
      ]
     },
     "metadata": {},
     "output_type": "display_data"
    },
    {
     "name": "stdout",
     "output_type": "stream",
     "text": [
      "The best number of learning rate is eta = 0.1\n",
      "The best number of momentum is alpha = 0\n"
     ]
    },
    {
     "data": {
      "image/png": "[encoded data removed]",
      "text/plain": [
       "<Figure size 720x720 with 4 Axes>"
      ]
     },
     "metadata": {
      "needs_background": "light"
     },
     "output_type": "display_data"
    },
    {
     "name": "stdout",
     "output_type": "stream",
     "text": [
      "The best batch size hyper parameter is batch_size = 8\n"
     ]
    }
   ],
   "source": [
    "M = 5\n",
    "scale = [1/100, 1/10, 1, 10, 100]\n",
    "nHiddenlayers = [0, 1, 2]\n",
    "nHiddenunits = [1, 5, 10, 50, 100, 500, 1000]\n",
    "lr = [0.001, 0.01, 0.1, 1]\n",
    "momentum = [0, 0.001, 0.01, 0.1, 1]\n",
    "batch_size = [8, 16, 32, 64, 128]\n",
    "scale1, nHiddenlayers1, nHiddenunits1, lr1, momentum1, batch_size1 = hyperpara(\n",
    "    M = M, loss = \"mse\", activation = \"relu\", \n",
    "    scale = scale, nHiddenlayers = nHiddenlayers, nHiddenunits = nHiddenunits, \n",
    "    lr = lr, momentum = momentum, batch_size = batch_size\n",
    ")"
   ]
  },
  {
   "cell_type": "markdown",
   "metadata": {},
   "source": [
    "The hyper parameters are as follows:"
   ]
  },
  {
   "cell_type": "code",
   "execution_count": 5,
   "metadata": {
    "scrolled": false
   },
   "outputs": [
    {
     "data": {
      "text/plain": [
       "(1, 2, 1000, 0.1, 0.0, 8)"
      ]
     },
     "execution_count": 5,
     "metadata": {},
     "output_type": "execute_result"
    }
   ],
   "source": [
    "scale1, nHiddenlayers1, nHiddenunits1, lr1, momentum1, batch_size1"
   ]
  },
  {
   "cell_type": "markdown",
   "metadata": {},
   "source": [
    "### Performance of sum-of-square error; ReLU"
   ]
  },
  {
   "cell_type": "code",
   "execution_count": 29,
   "metadata": {},
   "outputs": [
    {
     "name": "stdout",
     "output_type": "stream",
     "text": [
      "Model: \"sequential_774\"\n",
      "_________________________________________________________________\n",
      "Layer (type)                 Output Shape              Param #   \n",
      "=================================================================\n",
      "dense_1929 (Dense)           multiple                  65000     \n",
      "_________________________________________________________________\n",
      "dense_1930 (Dense)           multiple                  1001000   \n",
      "_________________________________________________________________\n",
      "dense_1931 (Dense)           multiple                  10010     \n",
      "=================================================================\n",
      "Total params: 1,076,010\n",
      "Trainable params: 1,076,010\n",
      "Non-trainable params: 0\n",
      "_________________________________________________________________\n",
      "None\n"
     ]
    }
   ],
   "source": [
    "overallacc_test1, classacc_test1, con_mat_test1, overallacc_train1, classacc_train1, con_mat_train1, model_summary = perform(\n",
    "    loss = \"mse\", activation = \"relu\", scale = scale1, \n",
    "    nHiddenlayers = nHiddenlayers1, nHiddenunits = nHiddenunits1, \n",
    "    lr = lr1, momentum = momentum1, batch_size = batch_size1)\n",
    "print(model_summary)"
   ]
  },
  {
   "cell_type": "code",
   "execution_count": 30,
   "metadata": {
    "scrolled": false
   },
   "outputs": [
    {
     "name": "stdout",
     "output_type": "stream",
     "text": [
      "Overall classification Accuracy for training data = 0.9937\n",
      "\n",
      "Class Accuracy for training data\n",
      "              precision    recall  f1-score   support\n",
      "\n",
      "           0       1.00      1.00      1.00       376\n",
      "           1       1.00      0.97      0.99       389\n",
      "           2       0.99      0.99      0.99       380\n",
      "           3       0.98      0.99      0.99       389\n",
      "           4       0.99      1.00      1.00       387\n",
      "           5       1.00      0.99      0.99       376\n",
      "           6       0.99      1.00      1.00       377\n",
      "           7       1.00      1.00      1.00       387\n",
      "           8       0.99      1.00      0.99       380\n",
      "           9       0.98      0.99      0.99       382\n",
      "\n",
      "    accuracy                           0.99      3823\n",
      "   macro avg       0.99      0.99      0.99      3823\n",
      "weighted avg       0.99      0.99      0.99      3823\n",
      "\n",
      "Confusion matrix for training data\n",
      "[[1.   0.   0.   0.   0.   0.   0.   0.   0.   0.  ]\n",
      " [0.   0.97 0.01 0.01 0.   0.   0.   0.   0.01 0.01]\n",
      " [0.   0.   0.99 0.   0.   0.   0.   0.   0.   0.  ]\n",
      " [0.   0.   0.   0.99 0.   0.   0.   0.   0.   0.  ]\n",
      " [0.   0.   0.   0.   1.   0.   0.   0.   0.   0.  ]\n",
      " [0.   0.   0.   0.   0.   0.99 0.   0.   0.   0.01]\n",
      " [0.   0.   0.   0.   0.   0.   1.   0.   0.   0.  ]\n",
      " [0.   0.   0.   0.   0.   0.   0.   1.   0.   0.  ]\n",
      " [0.   0.   0.   0.   0.   0.   0.   0.   1.   0.  ]\n",
      " [0.   0.   0.   0.01 0.   0.   0.   0.   0.   0.99]]\n",
      "-------------------------------------------------------------\n",
      "Overall classification Accuracy for test data = 0.9649\n",
      "\n",
      "Class Accuracy for test data\n",
      "              precision    recall  f1-score   support\n",
      "\n",
      "           0       1.00      0.99      1.00       178\n",
      "           1       0.97      0.95      0.96       182\n",
      "           2       0.99      0.98      0.99       177\n",
      "           3       0.96      0.98      0.97       183\n",
      "           4       0.97      0.98      0.98       181\n",
      "           5       0.98      0.98      0.98       182\n",
      "           6       0.99      0.98      0.98       181\n",
      "           7       0.99      0.92      0.95       179\n",
      "           8       0.94      0.93      0.94       174\n",
      "           9       0.86      0.97      0.91       180\n",
      "\n",
      "    accuracy                           0.96      1797\n",
      "   macro avg       0.97      0.96      0.97      1797\n",
      "weighted avg       0.97      0.96      0.97      1797\n",
      "\n",
      "Confusion matrix for test data\n",
      "[[0.99 0.   0.   0.   0.01 0.   0.   0.   0.   0.  ]\n",
      " [0.   0.95 0.01 0.   0.   0.   0.01 0.   0.02 0.02]\n",
      " [0.   0.01 0.98 0.01 0.   0.   0.   0.01 0.   0.  ]\n",
      " [0.   0.   0.   0.98 0.   0.01 0.   0.   0.01 0.01]\n",
      " [0.   0.   0.   0.   0.98 0.   0.   0.   0.01 0.02]\n",
      " [0.   0.   0.   0.01 0.   0.98 0.   0.   0.   0.02]\n",
      " [0.   0.   0.   0.   0.02 0.   0.98 0.   0.01 0.  ]\n",
      " [0.   0.   0.   0.   0.   0.01 0.   0.92 0.01 0.07]\n",
      " [0.   0.03 0.   0.01 0.   0.   0.01 0.   0.93 0.02]\n",
      " [0.   0.   0.   0.01 0.01 0.01 0.   0.   0.01 0.97]]\n"
     ]
    }
   ],
   "source": [
    "print(\"Overall classification Accuracy for training data = %.4f\\n\" % overallacc_train1)\n",
    "print(\"Class Accuracy for training data\")\n",
    "print(classacc_train1)\n",
    "print(\"Confusion matrix for training data\")\n",
    "print(con_mat_train1)\n",
    "\n",
    "print(\"-------------------------------------------------------------\")\n",
    "\n",
    "print(\"Overall classification Accuracy for test data = %.4f\\n\" % overallacc_test1)\n",
    "print(\"Class Accuracy for test data\")\n",
    "print(classacc_test1)\n",
    "print(\"Confusion matrix for test data\")\n",
    "print(con_mat_test1)"
   ]
  },
  {
   "cell_type": "markdown",
   "metadata": {},
   "source": [
    "### Hyperparameter for cross-entropy error; ReLU"
   ]
  },
  {
   "cell_type": "code",
   "execution_count": 6,
   "metadata": {
    "scrolled": true
   },
   "outputs": [
    {
     "data": {
      "image/png": "[encoded data removed]",
      "text/plain": [
       "<Figure size 720x720 with 4 Axes>"
      ]
     },
     "metadata": {
      "needs_background": "light"
     },
     "output_type": "display_data"
    },
    {
     "name": "stdout",
     "output_type": "stream",
     "text": [
      "The best scale hyper parameter is scale = 1\n",
      "Accuracy of validation set\n"
     ]
    },
    {
     "data": {
      "text/html": [
       "<style  type=\"text/css\" >\n",
       "    #T_28af5e0a_675b_11ea_a64d_548ca070448erow2_col6 {\n",
       "            background-color:  yellow;\n",
       "        }</style><table id=\"T_28af5e0a_675b_11ea_a64d_548ca070448e\" ><thead>    <tr>        <th class=\"blank level0\" ></th>        <th class=\"col_heading level0 col0\" >1</th>        <th class=\"col_heading level0 col1\" >5</th>        <th class=\"col_heading level0 col2\" >10</th>        <th class=\"col_heading level0 col3\" >50</th>        <th class=\"col_heading level0 col4\" >100</th>        <th class=\"col_heading level0 col5\" >500</th>        <th class=\"col_heading level0 col6\" >1000</th>    </tr></thead><tbody>\n",
       "                <tr>\n",
       "                        <th id=\"T_28af5e0a_675b_11ea_a64d_548ca070448elevel0_row0\" class=\"row_heading level0 row0\" >0</th>\n",
       "                        <td id=\"T_28af5e0a_675b_11ea_a64d_548ca070448erow0_col0\" class=\"data row0 col0\" >0.9519 (0.938, 0.9658)</td>\n",
       "                        <td id=\"T_28af5e0a_675b_11ea_a64d_548ca070448erow0_col1\" class=\"data row0 col1\" >0.9527 (0.9455, 0.9599)</td>\n",
       "                        <td id=\"T_28af5e0a_675b_11ea_a64d_548ca070448erow0_col2\" class=\"data row0 col2\" >0.9495 (0.9422, 0.9569)</td>\n",
       "                        <td id=\"T_28af5e0a_675b_11ea_a64d_548ca070448erow0_col3\" class=\"data row0 col3\" >0.9529 (0.9444, 0.9615)</td>\n",
       "                        <td id=\"T_28af5e0a_675b_11ea_a64d_548ca070448erow0_col4\" class=\"data row0 col4\" >0.9535 (0.9398, 0.9671)</td>\n",
       "                        <td id=\"T_28af5e0a_675b_11ea_a64d_548ca070448erow0_col5\" class=\"data row0 col5\" >0.9537 (0.9528, 0.9546)</td>\n",
       "                        <td id=\"T_28af5e0a_675b_11ea_a64d_548ca070448erow0_col6\" class=\"data row0 col6\" >0.948 (0.9293, 0.9666)</td>\n",
       "            </tr>\n",
       "            <tr>\n",
       "                        <th id=\"T_28af5e0a_675b_11ea_a64d_548ca070448elevel0_row1\" class=\"row_heading level0 row1\" >1</th>\n",
       "                        <td id=\"T_28af5e0a_675b_11ea_a64d_548ca070448erow1_col0\" class=\"data row1 col0\" >0.2055 (0.1914, 0.2196)</td>\n",
       "                        <td id=\"T_28af5e0a_675b_11ea_a64d_548ca070448erow1_col1\" class=\"data row1 col1\" >0.7169 (0.6067, 0.827)</td>\n",
       "                        <td id=\"T_28af5e0a_675b_11ea_a64d_548ca070448erow1_col2\" class=\"data row1 col2\" >0.9417 (0.9333, 0.9501)</td>\n",
       "                        <td id=\"T_28af5e0a_675b_11ea_a64d_548ca070448erow1_col3\" class=\"data row1 col3\" >0.9694 (0.9606, 0.9782)</td>\n",
       "                        <td id=\"T_28af5e0a_675b_11ea_a64d_548ca070448erow1_col4\" class=\"data row1 col4\" >0.9634 (0.9519, 0.9749)</td>\n",
       "                        <td id=\"T_28af5e0a_675b_11ea_a64d_548ca070448erow1_col5\" class=\"data row1 col5\" >0.9718 (0.9606, 0.9829)</td>\n",
       "                        <td id=\"T_28af5e0a_675b_11ea_a64d_548ca070448erow1_col6\" class=\"data row1 col6\" >0.9715 (0.958, 0.9851)</td>\n",
       "            </tr>\n",
       "            <tr>\n",
       "                        <th id=\"T_28af5e0a_675b_11ea_a64d_548ca070448elevel0_row2\" class=\"row_heading level0 row2\" >2</th>\n",
       "                        <td id=\"T_28af5e0a_675b_11ea_a64d_548ca070448erow2_col0\" class=\"data row2 col0\" >0.138 (0.061, 0.2151)</td>\n",
       "                        <td id=\"T_28af5e0a_675b_11ea_a64d_548ca070448erow2_col1\" class=\"data row2 col1\" >0.7827 (0.679, 0.8865)</td>\n",
       "                        <td id=\"T_28af5e0a_675b_11ea_a64d_548ca070448erow2_col2\" class=\"data row2 col2\" >0.9213 (0.9074, 0.9352)</td>\n",
       "                        <td id=\"T_28af5e0a_675b_11ea_a64d_548ca070448erow2_col3\" class=\"data row2 col3\" >0.9618 (0.9466, 0.977)</td>\n",
       "                        <td id=\"T_28af5e0a_675b_11ea_a64d_548ca070448erow2_col4\" class=\"data row2 col4\" >0.9668 (0.9534, 0.9802)</td>\n",
       "                        <td id=\"T_28af5e0a_675b_11ea_a64d_548ca070448erow2_col5\" class=\"data row2 col5\" >0.9757 (0.9679, 0.9834)</td>\n",
       "                        <td id=\"T_28af5e0a_675b_11ea_a64d_548ca070448erow2_col6\" class=\"data row2 col6\" >0.9791 (0.9706, 0.9876)</td>\n",
       "            </tr>\n",
       "    </tbody></table>"
      ],
      "text/plain": [
       "<pandas.io.formats.style.Styler at 0x1f7b788cdc8>"
      ]
     },
     "metadata": {},
     "output_type": "display_data"
    },
    {
     "name": "stdout",
     "output_type": "stream",
     "text": [
      "The best accuracy of validation set is attained when # of hidden layers = 2 , # of hidden units = 1000\n",
      "\n",
      "Accuracy of training set\n"
     ]
    },
    {
     "data": {
      "text/html": [
       "<style  type=\"text/css\" >\n",
       "    #T_28c1ef36_675b_11ea_99a2_548ca070448erow2_col6 {\n",
       "            background-color:  yellow;\n",
       "        }</style><table id=\"T_28c1ef36_675b_11ea_99a2_548ca070448e\" ><thead>    <tr>        <th class=\"blank level0\" ></th>        <th class=\"col_heading level0 col0\" >1</th>        <th class=\"col_heading level0 col1\" >5</th>        <th class=\"col_heading level0 col2\" >10</th>        <th class=\"col_heading level0 col3\" >50</th>        <th class=\"col_heading level0 col4\" >100</th>        <th class=\"col_heading level0 col5\" >500</th>        <th class=\"col_heading level0 col6\" >1000</th>    </tr></thead><tbody>\n",
       "                <tr>\n",
       "                        <th id=\"T_28c1ef36_675b_11ea_99a2_548ca070448elevel0_row0\" class=\"row_heading level0 row0\" >0</th>\n",
       "                        <td id=\"T_28c1ef36_675b_11ea_99a2_548ca070448erow0_col0\" class=\"data row0 col0\" >0.9641 (0.9486, 0.9796)</td>\n",
       "                        <td id=\"T_28c1ef36_675b_11ea_99a2_548ca070448erow0_col1\" class=\"data row0 col1\" >0.9617 (0.9515, 0.9719)</td>\n",
       "                        <td id=\"T_28c1ef36_675b_11ea_99a2_548ca070448erow0_col2\" class=\"data row0 col2\" >0.9646 (0.9529, 0.9763)</td>\n",
       "                        <td id=\"T_28c1ef36_675b_11ea_99a2_548ca070448erow0_col3\" class=\"data row0 col3\" >0.9657 (0.955, 0.9764)</td>\n",
       "                        <td id=\"T_28c1ef36_675b_11ea_99a2_548ca070448erow0_col4\" class=\"data row0 col4\" >0.9659 (0.9517, 0.9801)</td>\n",
       "                        <td id=\"T_28c1ef36_675b_11ea_99a2_548ca070448erow0_col5\" class=\"data row0 col5\" >0.9677 (0.9643, 0.9711)</td>\n",
       "                        <td id=\"T_28c1ef36_675b_11ea_99a2_548ca070448erow0_col6\" class=\"data row0 col6\" >0.9595 (0.9373, 0.9817)</td>\n",
       "            </tr>\n",
       "            <tr>\n",
       "                        <th id=\"T_28c1ef36_675b_11ea_99a2_548ca070448elevel0_row1\" class=\"row_heading level0 row1\" >1</th>\n",
       "                        <td id=\"T_28c1ef36_675b_11ea_99a2_548ca070448erow1_col0\" class=\"data row1 col0\" >0.2166 (0.2023, 0.2309)</td>\n",
       "                        <td id=\"T_28c1ef36_675b_11ea_99a2_548ca070448erow1_col1\" class=\"data row1 col1\" >0.7173 (0.6055, 0.8291)</td>\n",
       "                        <td id=\"T_28c1ef36_675b_11ea_99a2_548ca070448erow1_col2\" class=\"data row1 col2\" >0.9506 (0.9413, 0.9599)</td>\n",
       "                        <td id=\"T_28c1ef36_675b_11ea_99a2_548ca070448erow1_col3\" class=\"data row1 col3\" >0.9872 (0.9792, 0.9951)</td>\n",
       "                        <td id=\"T_28c1ef36_675b_11ea_99a2_548ca070448erow1_col4\" class=\"data row1 col4\" >0.9835 (0.9654, 1.0017)</td>\n",
       "                        <td id=\"T_28c1ef36_675b_11ea_99a2_548ca070448erow1_col5\" class=\"data row1 col5\" >0.9872 (0.9662, 1.0081)</td>\n",
       "                        <td id=\"T_28c1ef36_675b_11ea_99a2_548ca070448erow1_col6\" class=\"data row1 col6\" >0.9915 (0.9789, 1.0041)</td>\n",
       "            </tr>\n",
       "            <tr>\n",
       "                        <th id=\"T_28c1ef36_675b_11ea_99a2_548ca070448elevel0_row2\" class=\"row_heading level0 row2\" >2</th>\n",
       "                        <td id=\"T_28c1ef36_675b_11ea_99a2_548ca070448erow2_col0\" class=\"data row2 col0\" >0.15 (0.0714, 0.2286)</td>\n",
       "                        <td id=\"T_28c1ef36_675b_11ea_99a2_548ca070448erow2_col1\" class=\"data row2 col1\" >0.7801 (0.6709, 0.8894)</td>\n",
       "                        <td id=\"T_28c1ef36_675b_11ea_99a2_548ca070448erow2_col2\" class=\"data row2 col2\" >0.934 (0.9154, 0.9526)</td>\n",
       "                        <td id=\"T_28c1ef36_675b_11ea_99a2_548ca070448erow2_col3\" class=\"data row2 col3\" >0.9757 (0.9552, 0.9962)</td>\n",
       "                        <td id=\"T_28c1ef36_675b_11ea_99a2_548ca070448erow2_col4\" class=\"data row2 col4\" >0.9854 (0.971, 0.9998)</td>\n",
       "                        <td id=\"T_28c1ef36_675b_11ea_99a2_548ca070448erow2_col5\" class=\"data row2 col5\" >0.9919 (0.9804, 1.0034)</td>\n",
       "                        <td id=\"T_28c1ef36_675b_11ea_99a2_548ca070448erow2_col6\" class=\"data row2 col6\" >0.9954 (0.9863, 1.0044)</td>\n",
       "            </tr>\n",
       "    </tbody></table>"
      ],
      "text/plain": [
       "<pandas.io.formats.style.Styler at 0x1f80a0561c8>"
      ]
     },
     "metadata": {},
     "output_type": "display_data"
    },
    {
     "name": "stdout",
     "output_type": "stream",
     "text": [
      "The best accuracy of training set is attained when # of hidden layers = 2 , # of hidden units = 1000\n",
      "\n",
      "Number of iteration\n"
     ]
    },
    {
     "data": {
      "text/html": [
       "<style  type=\"text/css\" >\n",
       "    #T_28d51bae_675b_11ea_a628_548ca070448erow2_col5 {\n",
       "            background-color:  yellow;\n",
       "        }</style><table id=\"T_28d51bae_675b_11ea_a628_548ca070448e\" ><thead>    <tr>        <th class=\"blank level0\" ></th>        <th class=\"col_heading level0 col0\" >1</th>        <th class=\"col_heading level0 col1\" >5</th>        <th class=\"col_heading level0 col2\" >10</th>        <th class=\"col_heading level0 col3\" >50</th>        <th class=\"col_heading level0 col4\" >100</th>        <th class=\"col_heading level0 col5\" >500</th>        <th class=\"col_heading level0 col6\" >1000</th>    </tr></thead><tbody>\n",
       "                <tr>\n",
       "                        <th id=\"T_28d51bae_675b_11ea_a628_548ca070448elevel0_row0\" class=\"row_heading level0 row0\" >0</th>\n",
       "                        <td id=\"T_28d51bae_675b_11ea_a628_548ca070448erow0_col0\" class=\"data row0 col0\" >13.4 (7.6026, 19.1974)</td>\n",
       "                        <td id=\"T_28d51bae_675b_11ea_a628_548ca070448erow0_col1\" class=\"data row0 col1\" >10.0 (8.0368, 11.9632)</td>\n",
       "                        <td id=\"T_28d51bae_675b_11ea_a628_548ca070448erow0_col2\" class=\"data row0 col2\" >12.8 (6.2063, 19.3937)</td>\n",
       "                        <td id=\"T_28d51bae_675b_11ea_a628_548ca070448erow0_col3\" class=\"data row0 col3\" >11.6 (6.5107, 16.6893)</td>\n",
       "                        <td id=\"T_28d51bae_675b_11ea_a628_548ca070448erow0_col4\" class=\"data row0 col4\" >11.6 (7.2453, 15.9547)</td>\n",
       "                        <td id=\"T_28d51bae_675b_11ea_a628_548ca070448erow0_col5\" class=\"data row0 col5\" >12.8 (9.8356, 15.7644)</td>\n",
       "                        <td id=\"T_28d51bae_675b_11ea_a628_548ca070448erow0_col6\" class=\"data row0 col6\" >9.6 (5.713, 13.487)</td>\n",
       "            </tr>\n",
       "            <tr>\n",
       "                        <th id=\"T_28d51bae_675b_11ea_a628_548ca070448elevel0_row1\" class=\"row_heading level0 row1\" >1</th>\n",
       "                        <td id=\"T_28d51bae_675b_11ea_a628_548ca070448erow1_col0\" class=\"data row1 col0\" >18.2 (13.8631, 22.5369)</td>\n",
       "                        <td id=\"T_28d51bae_675b_11ea_a628_548ca070448erow1_col1\" class=\"data row1 col1\" >20.0 (20.0, 20.0)</td>\n",
       "                        <td id=\"T_28d51bae_675b_11ea_a628_548ca070448erow1_col2\" class=\"data row1 col2\" >17.4 (14.5415, 20.2585)</td>\n",
       "                        <td id=\"T_28d51bae_675b_11ea_a628_548ca070448erow1_col3\" class=\"data row1 col3\" >16.6 (13.0228, 20.1772)</td>\n",
       "                        <td id=\"T_28d51bae_675b_11ea_a628_548ca070448erow1_col4\" class=\"data row1 col4\" >11.4 (6.8718, 15.9282)</td>\n",
       "                        <td id=\"T_28d51bae_675b_11ea_a628_548ca070448erow1_col5\" class=\"data row1 col5\" >9.8 (5.5529, 14.0471)</td>\n",
       "                        <td id=\"T_28d51bae_675b_11ea_a628_548ca070448erow1_col6\" class=\"data row1 col6\" >11.6 (10.1843, 13.0157)</td>\n",
       "            </tr>\n",
       "            <tr>\n",
       "                        <th id=\"T_28d51bae_675b_11ea_a628_548ca070448elevel0_row2\" class=\"row_heading level0 row2\" >2</th>\n",
       "                        <td id=\"T_28d51bae_675b_11ea_a628_548ca070448erow2_col0\" class=\"data row2 col0\" >10.2 (-0.9197, 21.3197)</td>\n",
       "                        <td id=\"T_28d51bae_675b_11ea_a628_548ca070448erow2_col1\" class=\"data row2 col1\" >19.0 (16.8494, 21.1506)</td>\n",
       "                        <td id=\"T_28d51bae_675b_11ea_a628_548ca070448erow2_col2\" class=\"data row2 col2\" >19.0 (16.2236, 21.7764)</td>\n",
       "                        <td id=\"T_28d51bae_675b_11ea_a628_548ca070448erow2_col3\" class=\"data row2 col3\" >9.8 (5.6446, 13.9554)</td>\n",
       "                        <td id=\"T_28d51bae_675b_11ea_a628_548ca070448erow2_col4\" class=\"data row2 col4\" >10.2 (4.9761, 15.4239)</td>\n",
       "                        <td id=\"T_28d51bae_675b_11ea_a628_548ca070448erow2_col5\" class=\"data row2 col5\" >8.2 (2.9761, 13.4239)</td>\n",
       "                        <td id=\"T_28d51bae_675b_11ea_a628_548ca070448erow2_col6\" class=\"data row2 col6\" >9.0 (5.8344, 12.1656)</td>\n",
       "            </tr>\n",
       "    </tbody></table>"
      ],
      "text/plain": [
       "<pandas.io.formats.style.Styler at 0x1f7b799f048>"
      ]
     },
     "metadata": {},
     "output_type": "display_data"
    },
    {
     "name": "stdout",
     "output_type": "stream",
     "text": [
      "The best number of iteration is attained when # of hidden layers = 2 , # of hidden units = 500\n",
      "\n",
      "Running time\n"
     ]
    },
    {
     "data": {
      "text/html": [
       "<style  type=\"text/css\" >\n",
       "    #T_28e31bf0_675b_11ea_86d2_548ca070448erow0_col6 {\n",
       "            background-color:  yellow;\n",
       "        }</style><table id=\"T_28e31bf0_675b_11ea_86d2_548ca070448e\" ><thead>    <tr>        <th class=\"blank level0\" ></th>        <th class=\"col_heading level0 col0\" >1</th>        <th class=\"col_heading level0 col1\" >5</th>        <th class=\"col_heading level0 col2\" >10</th>        <th class=\"col_heading level0 col3\" >50</th>        <th class=\"col_heading level0 col4\" >100</th>        <th class=\"col_heading level0 col5\" >500</th>        <th class=\"col_heading level0 col6\" >1000</th>    </tr></thead><tbody>\n",
       "                <tr>\n",
       "                        <th id=\"T_28e31bf0_675b_11ea_86d2_548ca070448elevel0_row0\" class=\"row_heading level0 row0\" >0</th>\n",
       "                        <td id=\"T_28e31bf0_675b_11ea_86d2_548ca070448erow0_col0\" class=\"data row0 col0\" >3.7904 (2.7422, 4.8385)</td>\n",
       "                        <td id=\"T_28e31bf0_675b_11ea_86d2_548ca070448erow0_col1\" class=\"data row0 col1\" >3.1506 (2.6559, 3.6453)</td>\n",
       "                        <td id=\"T_28e31bf0_675b_11ea_86d2_548ca070448erow0_col2\" class=\"data row0 col2\" >2.995 (1.7801, 4.2098)</td>\n",
       "                        <td id=\"T_28e31bf0_675b_11ea_86d2_548ca070448erow0_col3\" class=\"data row0 col3\" >2.603 (1.7264, 3.4796)</td>\n",
       "                        <td id=\"T_28e31bf0_675b_11ea_86d2_548ca070448erow0_col4\" class=\"data row0 col4\" >2.667 (1.886, 3.4481)</td>\n",
       "                        <td id=\"T_28e31bf0_675b_11ea_86d2_548ca070448erow0_col5\" class=\"data row0 col5\" >2.9298 (2.4055, 3.4541)</td>\n",
       "                        <td id=\"T_28e31bf0_675b_11ea_86d2_548ca070448erow0_col6\" class=\"data row0 col6\" >2.5962 (1.3278, 3.8647)</td>\n",
       "            </tr>\n",
       "            <tr>\n",
       "                        <th id=\"T_28e31bf0_675b_11ea_86d2_548ca070448elevel0_row1\" class=\"row_heading level0 row1\" >1</th>\n",
       "                        <td id=\"T_28e31bf0_675b_11ea_86d2_548ca070448erow1_col0\" class=\"data row1 col0\" >3.9249 (3.0998, 4.75)</td>\n",
       "                        <td id=\"T_28e31bf0_675b_11ea_86d2_548ca070448erow1_col1\" class=\"data row1 col1\" >4.4529 (4.2281, 4.6778)</td>\n",
       "                        <td id=\"T_28e31bf0_675b_11ea_86d2_548ca070448erow1_col2\" class=\"data row1 col2\" >3.9624 (3.4186, 4.5062)</td>\n",
       "                        <td id=\"T_28e31bf0_675b_11ea_86d2_548ca070448erow1_col3\" class=\"data row1 col3\" >3.8128 (3.093, 4.5327)</td>\n",
       "                        <td id=\"T_28e31bf0_675b_11ea_86d2_548ca070448erow1_col4\" class=\"data row1 col4\" >3.196 (1.7217, 4.6703)</td>\n",
       "                        <td id=\"T_28e31bf0_675b_11ea_86d2_548ca070448erow1_col5\" class=\"data row1 col5\" >3.0366 (1.9872, 4.086)</td>\n",
       "                        <td id=\"T_28e31bf0_675b_11ea_86d2_548ca070448erow1_col6\" class=\"data row1 col6\" >4.4194 (3.1511, 5.6877)</td>\n",
       "            </tr>\n",
       "            <tr>\n",
       "                        <th id=\"T_28e31bf0_675b_11ea_86d2_548ca070448elevel0_row2\" class=\"row_heading level0 row2\" >2</th>\n",
       "                        <td id=\"T_28e31bf0_675b_11ea_86d2_548ca070448erow2_col0\" class=\"data row2 col0\" >3.1359 (0.5627, 5.7091)</td>\n",
       "                        <td id=\"T_28e31bf0_675b_11ea_86d2_548ca070448erow2_col1\" class=\"data row2 col1\" >4.6688 (4.1208, 5.2168)</td>\n",
       "                        <td id=\"T_28e31bf0_675b_11ea_86d2_548ca070448erow2_col2\" class=\"data row2 col2\" >4.7631 (3.6867, 5.8395)</td>\n",
       "                        <td id=\"T_28e31bf0_675b_11ea_86d2_548ca070448erow2_col3\" class=\"data row2 col3\" >3.0814 (1.9755, 4.1874)</td>\n",
       "                        <td id=\"T_28e31bf0_675b_11ea_86d2_548ca070448erow2_col4\" class=\"data row2 col4\" >3.0701 (1.806, 4.3343)</td>\n",
       "                        <td id=\"T_28e31bf0_675b_11ea_86d2_548ca070448erow2_col5\" class=\"data row2 col5\" >5.6746 (2.3124, 9.0368)</td>\n",
       "                        <td id=\"T_28e31bf0_675b_11ea_86d2_548ca070448erow2_col6\" class=\"data row2 col6\" >15.545 (10.4807, 20.6093)</td>\n",
       "            </tr>\n",
       "    </tbody></table>"
      ],
      "text/plain": [
       "<pandas.io.formats.style.Styler at 0x1f80a009488>"
      ]
     },
     "metadata": {},
     "output_type": "display_data"
    },
    {
     "name": "stdout",
     "output_type": "stream",
     "text": [
      "The best running time is attained when # of hidden layers = 0 , # of hidden units = 1000\n",
      "\n",
      "The best number of hidden layers is nHiddenlayers = 2\n",
      "The best number of hidden units is nHiddenunits = 1000\n"
     ]
    },
    {
     "name": "stderr",
     "output_type": "stream",
     "text": [
      "C:\\Users\\ghkfk\\AppData\\Roaming\\Python\\Python37\\site-packages\\tensorflow_core\\python\\keras\\callbacks.py:1225: RuntimeWarning: invalid value encountered in less\n",
      "  if self.monitor_op(current - self.min_delta, self.best):\n",
      "C:\\Users\\ghkfk\\AppData\\Roaming\\Python\\Python37\\site-packages\\tensorflow_core\\python\\keras\\callbacks.py:1225: RuntimeWarning: invalid value encountered in less\n",
      "  if self.monitor_op(current - self.min_delta, self.best):\n",
      "C:\\Users\\ghkfk\\AppData\\Roaming\\Python\\Python37\\site-packages\\tensorflow_core\\python\\keras\\callbacks.py:1225: RuntimeWarning: invalid value encountered in less\n",
      "  if self.monitor_op(current - self.min_delta, self.best):\n",
      "C:\\Users\\ghkfk\\AppData\\Roaming\\Python\\Python37\\site-packages\\tensorflow_core\\python\\keras\\callbacks.py:1225: RuntimeWarning: invalid value encountered in less\n",
      "  if self.monitor_op(current - self.min_delta, self.best):\n",
      "C:\\Users\\ghkfk\\AppData\\Roaming\\Python\\Python37\\site-packages\\tensorflow_core\\python\\keras\\callbacks.py:1225: RuntimeWarning: invalid value encountered in less\n",
      "  if self.monitor_op(current - self.min_delta, self.best):\n",
      "C:\\Users\\ghkfk\\AppData\\Roaming\\Python\\Python37\\site-packages\\tensorflow_core\\python\\keras\\callbacks.py:1225: RuntimeWarning: invalid value encountered in less\n",
      "  if self.monitor_op(current - self.min_delta, self.best):\n",
      "C:\\Users\\ghkfk\\AppData\\Roaming\\Python\\Python37\\site-packages\\tensorflow_core\\python\\keras\\callbacks.py:1225: RuntimeWarning: invalid value encountered in less\n",
      "  if self.monitor_op(current - self.min_delta, self.best):\n",
      "C:\\Users\\ghkfk\\AppData\\Roaming\\Python\\Python37\\site-packages\\tensorflow_core\\python\\keras\\callbacks.py:1225: RuntimeWarning: invalid value encountered in less\n",
      "  if self.monitor_op(current - self.min_delta, self.best):\n",
      "C:\\Users\\ghkfk\\AppData\\Roaming\\Python\\Python37\\site-packages\\tensorflow_core\\python\\keras\\callbacks.py:1225: RuntimeWarning: invalid value encountered in less\n",
      "  if self.monitor_op(current - self.min_delta, self.best):\n",
      "C:\\Users\\ghkfk\\AppData\\Roaming\\Python\\Python37\\site-packages\\tensorflow_core\\python\\keras\\callbacks.py:1225: RuntimeWarning: invalid value encountered in less\n",
      "  if self.monitor_op(current - self.min_delta, self.best):\n",
      "C:\\Users\\ghkfk\\AppData\\Roaming\\Python\\Python37\\site-packages\\tensorflow_core\\python\\keras\\callbacks.py:1225: RuntimeWarning: invalid value encountered in less\n",
      "  if self.monitor_op(current - self.min_delta, self.best):\n",
      "C:\\Users\\ghkfk\\AppData\\Roaming\\Python\\Python37\\site-packages\\tensorflow_core\\python\\keras\\callbacks.py:1225: RuntimeWarning: invalid value encountered in less\n",
      "  if self.monitor_op(current - self.min_delta, self.best):\n",
      "C:\\Users\\ghkfk\\AppData\\Roaming\\Python\\Python37\\site-packages\\tensorflow_core\\python\\keras\\callbacks.py:1225: RuntimeWarning: invalid value encountered in less\n",
      "  if self.monitor_op(current - self.min_delta, self.best):\n",
      "C:\\Users\\ghkfk\\AppData\\Roaming\\Python\\Python37\\site-packages\\tensorflow_core\\python\\keras\\callbacks.py:1225: RuntimeWarning: invalid value encountered in less\n",
      "  if self.monitor_op(current - self.min_delta, self.best):\n",
      "C:\\Users\\ghkfk\\AppData\\Roaming\\Python\\Python37\\site-packages\\tensorflow_core\\python\\keras\\callbacks.py:1225: RuntimeWarning: invalid value encountered in less\n",
      "  if self.monitor_op(current - self.min_delta, self.best):\n",
      "C:\\Users\\ghkfk\\AppData\\Roaming\\Python\\Python37\\site-packages\\tensorflow_core\\python\\keras\\callbacks.py:1225: RuntimeWarning: invalid value encountered in less\n",
      "  if self.monitor_op(current - self.min_delta, self.best):\n",
      "C:\\Users\\ghkfk\\AppData\\Roaming\\Python\\Python37\\site-packages\\tensorflow_core\\python\\keras\\callbacks.py:1225: RuntimeWarning: invalid value encountered in less\n",
      "  if self.monitor_op(current - self.min_delta, self.best):\n",
      "C:\\Users\\ghkfk\\AppData\\Roaming\\Python\\Python37\\site-packages\\tensorflow_core\\python\\keras\\callbacks.py:1225: RuntimeWarning: invalid value encountered in less\n",
      "  if self.monitor_op(current - self.min_delta, self.best):\n",
      "C:\\Users\\ghkfk\\AppData\\Roaming\\Python\\Python37\\site-packages\\tensorflow_core\\python\\keras\\callbacks.py:1225: RuntimeWarning: invalid value encountered in less\n",
      "  if self.monitor_op(current - self.min_delta, self.best):\n",
      "C:\\Users\\ghkfk\\AppData\\Roaming\\Python\\Python37\\site-packages\\tensorflow_core\\python\\keras\\callbacks.py:1225: RuntimeWarning: invalid value encountered in less\n",
      "  if self.monitor_op(current - self.min_delta, self.best):\n",
      "C:\\Users\\ghkfk\\AppData\\Roaming\\Python\\Python37\\site-packages\\tensorflow_core\\python\\keras\\callbacks.py:1225: RuntimeWarning: invalid value encountered in less\n",
      "  if self.monitor_op(current - self.min_delta, self.best):\n",
      "C:\\Users\\ghkfk\\AppData\\Roaming\\Python\\Python37\\site-packages\\tensorflow_core\\python\\keras\\callbacks.py:1225: RuntimeWarning: invalid value encountered in less\n",
      "  if self.monitor_op(current - self.min_delta, self.best):\n",
      "C:\\Users\\ghkfk\\AppData\\Roaming\\Python\\Python37\\site-packages\\tensorflow_core\\python\\keras\\callbacks.py:1225: RuntimeWarning: invalid value encountered in less\n",
      "  if self.monitor_op(current - self.min_delta, self.best):\n",
      "C:\\Users\\ghkfk\\AppData\\Roaming\\Python\\Python37\\site-packages\\tensorflow_core\\python\\keras\\callbacks.py:1225: RuntimeWarning: invalid value encountered in less\n",
      "  if self.monitor_op(current - self.min_delta, self.best):\n",
      "C:\\Users\\ghkfk\\AppData\\Roaming\\Python\\Python37\\site-packages\\tensorflow_core\\python\\keras\\callbacks.py:1225: RuntimeWarning: invalid value encountered in less\n",
      "  if self.monitor_op(current - self.min_delta, self.best):\n",
      "C:\\Users\\ghkfk\\AppData\\Roaming\\Python\\Python37\\site-packages\\tensorflow_core\\python\\keras\\callbacks.py:1225: RuntimeWarning: invalid value encountered in less\n",
      "  if self.monitor_op(current - self.min_delta, self.best):\n"
     ]
    },
    {
     "name": "stdout",
     "output_type": "stream",
     "text": [
      "Accuracy of validation set\n"
     ]
    },
    {
     "data": {
      "text/html": [
       "<style  type=\"text/css\" >\n",
       "    #T_0d4b3ae6_675f_11ea_a52a_548ca070448erow1_col1 {\n",
       "            background-color:  yellow;\n",
       "        }</style><table id=\"T_0d4b3ae6_675f_11ea_a52a_548ca070448e\" ><thead>    <tr>        <th class=\"blank level0\" ></th>        <th class=\"col_heading level0 col0\" >0.0</th>        <th class=\"col_heading level0 col1\" >0.001</th>        <th class=\"col_heading level0 col2\" >0.01</th>        <th class=\"col_heading level0 col3\" >0.1</th>        <th class=\"col_heading level0 col4\" >1.0</th>    </tr></thead><tbody>\n",
       "                <tr>\n",
       "                        <th id=\"T_0d4b3ae6_675f_11ea_a52a_548ca070448elevel0_row0\" class=\"row_heading level0 row0\" >0.001</th>\n",
       "                        <td id=\"T_0d4b3ae6_675f_11ea_a52a_548ca070448erow0_col0\" class=\"data row0 col0\" >0.9778 (0.9736, 0.9819)</td>\n",
       "                        <td id=\"T_0d4b3ae6_675f_11ea_a52a_548ca070448erow0_col1\" class=\"data row0 col1\" >0.977 (0.9725, 0.9815)</td>\n",
       "                        <td id=\"T_0d4b3ae6_675f_11ea_a52a_548ca070448erow0_col2\" class=\"data row0 col2\" >0.9736 (0.9718, 0.9754)</td>\n",
       "                        <td id=\"T_0d4b3ae6_675f_11ea_a52a_548ca070448erow0_col3\" class=\"data row0 col3\" >0.977 (0.9743, 0.9797)</td>\n",
       "                        <td id=\"T_0d4b3ae6_675f_11ea_a52a_548ca070448erow0_col4\" class=\"data row0 col4\" >0.9331 (0.9166, 0.9495)</td>\n",
       "            </tr>\n",
       "            <tr>\n",
       "                        <th id=\"T_0d4b3ae6_675f_11ea_a52a_548ca070448elevel0_row1\" class=\"row_heading level0 row1\" >0.01</th>\n",
       "                        <td id=\"T_0d4b3ae6_675f_11ea_a52a_548ca070448erow1_col0\" class=\"data row1 col0\" >0.9775 (0.974, 0.981)</td>\n",
       "                        <td id=\"T_0d4b3ae6_675f_11ea_a52a_548ca070448erow1_col1\" class=\"data row1 col1\" >0.9812 (0.9782, 0.9841)</td>\n",
       "                        <td id=\"T_0d4b3ae6_675f_11ea_a52a_548ca070448erow1_col2\" class=\"data row1 col2\" >0.9807 (0.9771, 0.9842)</td>\n",
       "                        <td id=\"T_0d4b3ae6_675f_11ea_a52a_548ca070448erow1_col3\" class=\"data row1 col3\" >0.9783 (0.9715, 0.9851)</td>\n",
       "                        <td id=\"T_0d4b3ae6_675f_11ea_a52a_548ca070448erow1_col4\" class=\"data row1 col4\" >0.103 (0.0923, 0.1137)</td>\n",
       "            </tr>\n",
       "            <tr>\n",
       "                        <th id=\"T_0d4b3ae6_675f_11ea_a52a_548ca070448elevel0_row2\" class=\"row_heading level0 row2\" >0.1</th>\n",
       "                        <td id=\"T_0d4b3ae6_675f_11ea_a52a_548ca070448erow2_col0\" class=\"data row2 col0\" >0.0868 (0.0533, 0.1203)</td>\n",
       "                        <td id=\"T_0d4b3ae6_675f_11ea_a52a_548ca070448erow2_col1\" class=\"data row2 col1\" >0.1545 (-0.0042, 0.3132)</td>\n",
       "                        <td id=\"T_0d4b3ae6_675f_11ea_a52a_548ca070448erow2_col2\" class=\"data row2 col2\" >0.1294 (0.0505, 0.2084)</td>\n",
       "                        <td id=\"T_0d4b3ae6_675f_11ea_a52a_548ca070448erow2_col3\" class=\"data row2 col3\" >0.1001 (0.089, 0.1113)</td>\n",
       "                        <td id=\"T_0d4b3ae6_675f_11ea_a52a_548ca070448erow2_col4\" class=\"data row2 col4\" >0.0986 (0.0896, 0.1075)</td>\n",
       "            </tr>\n",
       "            <tr>\n",
       "                        <th id=\"T_0d4b3ae6_675f_11ea_a52a_548ca070448elevel0_row3\" class=\"row_heading level0 row3\" >1.0</th>\n",
       "                        <td id=\"T_0d4b3ae6_675f_11ea_a52a_548ca070448erow3_col0\" class=\"data row3 col0\" >0.1163 (0.1163, 0.1163)</td>\n",
       "                        <td id=\"T_0d4b3ae6_675f_11ea_a52a_548ca070448erow3_col1\" class=\"data row3 col1\" >0.1163 (0.1163, 0.1163)</td>\n",
       "                        <td id=\"T_0d4b3ae6_675f_11ea_a52a_548ca070448erow3_col2\" class=\"data row3 col2\" >0.1163 (0.1163, 0.1163)</td>\n",
       "                        <td id=\"T_0d4b3ae6_675f_11ea_a52a_548ca070448erow3_col3\" class=\"data row3 col3\" >0.1163 (0.1163, 0.1163)</td>\n",
       "                        <td id=\"T_0d4b3ae6_675f_11ea_a52a_548ca070448erow3_col4\" class=\"data row3 col4\" >0.1163 (0.1163, 0.1163)</td>\n",
       "            </tr>\n",
       "    </tbody></table>"
      ],
      "text/plain": [
       "<pandas.io.formats.style.Styler at 0x1f82c8f5088>"
      ]
     },
     "metadata": {},
     "output_type": "display_data"
    },
    {
     "name": "stdout",
     "output_type": "stream",
     "text": [
      "Accuracy of training set\n"
     ]
    },
    {
     "data": {
      "text/html": [
       "<style  type=\"text/css\" >\n",
       "    #T_0d57678c_675f_11ea_be5a_548ca070448erow1_col1 {\n",
       "            background-color:  yellow;\n",
       "        }</style><table id=\"T_0d57678c_675f_11ea_be5a_548ca070448e\" ><thead>    <tr>        <th class=\"blank level0\" ></th>        <th class=\"col_heading level0 col0\" >0.0</th>        <th class=\"col_heading level0 col1\" >0.001</th>        <th class=\"col_heading level0 col2\" >0.01</th>        <th class=\"col_heading level0 col3\" >0.1</th>        <th class=\"col_heading level0 col4\" >1.0</th>    </tr></thead><tbody>\n",
       "                <tr>\n",
       "                        <th id=\"T_0d57678c_675f_11ea_be5a_548ca070448elevel0_row0\" class=\"row_heading level0 row0\" >0.001</th>\n",
       "                        <td id=\"T_0d57678c_675f_11ea_be5a_548ca070448erow0_col0\" class=\"data row0 col0\" >0.9889 (0.9874, 0.9904)</td>\n",
       "                        <td id=\"T_0d57678c_675f_11ea_be5a_548ca070448erow0_col1\" class=\"data row0 col1\" >0.9884 (0.9879, 0.9888)</td>\n",
       "                        <td id=\"T_0d57678c_675f_11ea_be5a_548ca070448erow0_col2\" class=\"data row0 col2\" >0.9874 (0.9854, 0.9895)</td>\n",
       "                        <td id=\"T_0d57678c_675f_11ea_be5a_548ca070448erow0_col3\" class=\"data row0 col3\" >0.9897 (0.9879, 0.9914)</td>\n",
       "                        <td id=\"T_0d57678c_675f_11ea_be5a_548ca070448erow0_col4\" class=\"data row0 col4\" >0.941 (0.9247, 0.9573)</td>\n",
       "            </tr>\n",
       "            <tr>\n",
       "                        <th id=\"T_0d57678c_675f_11ea_be5a_548ca070448elevel0_row1\" class=\"row_heading level0 row1\" >0.01</th>\n",
       "                        <td id=\"T_0d57678c_675f_11ea_be5a_548ca070448erow1_col0\" class=\"data row1 col0\" >0.9952 (0.9882, 1.0022)</td>\n",
       "                        <td id=\"T_0d57678c_675f_11ea_be5a_548ca070448erow1_col1\" class=\"data row1 col1\" >0.9988 (0.9973, 1.0004)</td>\n",
       "                        <td id=\"T_0d57678c_675f_11ea_be5a_548ca070448erow1_col2\" class=\"data row1 col2\" >0.9976 (0.9937, 1.0015)</td>\n",
       "                        <td id=\"T_0d57678c_675f_11ea_be5a_548ca070448erow1_col3\" class=\"data row1 col3\" >0.9944 (0.983, 1.0057)</td>\n",
       "                        <td id=\"T_0d57678c_675f_11ea_be5a_548ca070448erow1_col4\" class=\"data row1 col4\" >0.0994 (0.0952, 0.1036)</td>\n",
       "            </tr>\n",
       "            <tr>\n",
       "                        <th id=\"T_0d57678c_675f_11ea_be5a_548ca070448elevel0_row2\" class=\"row_heading level0 row2\" >0.1</th>\n",
       "                        <td id=\"T_0d57678c_675f_11ea_be5a_548ca070448erow2_col0\" class=\"data row2 col0\" >0.0908 (0.0565, 0.1252)</td>\n",
       "                        <td id=\"T_0d57678c_675f_11ea_be5a_548ca070448erow2_col1\" class=\"data row2 col1\" >0.1631 (-0.0015, 0.3277)</td>\n",
       "                        <td id=\"T_0d57678c_675f_11ea_be5a_548ca070448erow2_col2\" class=\"data row2 col2\" >0.1345 (0.0382, 0.2308)</td>\n",
       "                        <td id=\"T_0d57678c_675f_11ea_be5a_548ca070448erow2_col3\" class=\"data row2 col3\" >0.1051 (0.099, 0.1112)</td>\n",
       "                        <td id=\"T_0d57678c_675f_11ea_be5a_548ca070448erow2_col4\" class=\"data row2 col4\" >0.1005 (0.0979, 0.1031)</td>\n",
       "            </tr>\n",
       "            <tr>\n",
       "                        <th id=\"T_0d57678c_675f_11ea_be5a_548ca070448elevel0_row3\" class=\"row_heading level0 row3\" >1.0</th>\n",
       "                        <td id=\"T_0d57678c_675f_11ea_be5a_548ca070448erow3_col0\" class=\"data row3 col0\" >0.0939 (0.0939, 0.0939)</td>\n",
       "                        <td id=\"T_0d57678c_675f_11ea_be5a_548ca070448erow3_col1\" class=\"data row3 col1\" >0.0939 (0.0939, 0.0939)</td>\n",
       "                        <td id=\"T_0d57678c_675f_11ea_be5a_548ca070448erow3_col2\" class=\"data row3 col2\" >0.0939 (0.0939, 0.0939)</td>\n",
       "                        <td id=\"T_0d57678c_675f_11ea_be5a_548ca070448erow3_col3\" class=\"data row3 col3\" >0.0939 (0.0939, 0.0939)</td>\n",
       "                        <td id=\"T_0d57678c_675f_11ea_be5a_548ca070448erow3_col4\" class=\"data row3 col4\" >0.0939 (0.0939, 0.0939)</td>\n",
       "            </tr>\n",
       "    </tbody></table>"
      ],
      "text/plain": [
       "<pandas.io.formats.style.Styler at 0x1f825981d48>"
      ]
     },
     "metadata": {},
     "output_type": "display_data"
    },
    {
     "name": "stdout",
     "output_type": "stream",
     "text": [
      "Number of iteration\n"
     ]
    },
    {
     "data": {
      "text/html": [
       "<style  type=\"text/css\" >\n",
       "    #T_0d6124e4_675f_11ea_86a9_548ca070448erow3_col0 {\n",
       "            background-color:  yellow;\n",
       "        }    #T_0d6124e4_675f_11ea_86a9_548ca070448erow3_col1 {\n",
       "            background-color:  yellow;\n",
       "        }    #T_0d6124e4_675f_11ea_86a9_548ca070448erow3_col2 {\n",
       "            background-color:  yellow;\n",
       "        }    #T_0d6124e4_675f_11ea_86a9_548ca070448erow3_col3 {\n",
       "            background-color:  yellow;\n",
       "        }    #T_0d6124e4_675f_11ea_86a9_548ca070448erow3_col4 {\n",
       "            background-color:  yellow;\n",
       "        }</style><table id=\"T_0d6124e4_675f_11ea_86a9_548ca070448e\" ><thead>    <tr>        <th class=\"blank level0\" ></th>        <th class=\"col_heading level0 col0\" >0.0</th>        <th class=\"col_heading level0 col1\" >0.001</th>        <th class=\"col_heading level0 col2\" >0.01</th>        <th class=\"col_heading level0 col3\" >0.1</th>        <th class=\"col_heading level0 col4\" >1.0</th>    </tr></thead><tbody>\n",
       "                <tr>\n",
       "                        <th id=\"T_0d6124e4_675f_11ea_86a9_548ca070448elevel0_row0\" class=\"row_heading level0 row0\" >0.001</th>\n",
       "                        <td id=\"T_0d6124e4_675f_11ea_86a9_548ca070448erow0_col0\" class=\"data row0 col0\" >20.0 (20.0, 20.0)</td>\n",
       "                        <td id=\"T_0d6124e4_675f_11ea_86a9_548ca070448erow0_col1\" class=\"data row0 col1\" >19.8 (19.2447, 20.3553)</td>\n",
       "                        <td id=\"T_0d6124e4_675f_11ea_86a9_548ca070448erow0_col2\" class=\"data row0 col2\" >19.2 (16.9788, 21.4212)</td>\n",
       "                        <td id=\"T_0d6124e4_675f_11ea_86a9_548ca070448erow0_col3\" class=\"data row0 col3\" >20.0 (20.0, 20.0)</td>\n",
       "                        <td id=\"T_0d6124e4_675f_11ea_86a9_548ca070448erow0_col4\" class=\"data row0 col4\" >3.2 (2.6447, 3.7553)</td>\n",
       "            </tr>\n",
       "            <tr>\n",
       "                        <th id=\"T_0d6124e4_675f_11ea_86a9_548ca070448elevel0_row1\" class=\"row_heading level0 row1\" >0.01</th>\n",
       "                        <td id=\"T_0d6124e4_675f_11ea_86a9_548ca070448erow1_col0\" class=\"data row1 col0\" >8.0 (5.366, 10.634)</td>\n",
       "                        <td id=\"T_0d6124e4_675f_11ea_86a9_548ca070448erow1_col1\" class=\"data row1 col1\" >11.6 (7.3347, 15.8653)</td>\n",
       "                        <td id=\"T_0d6124e4_675f_11ea_86a9_548ca070448erow1_col2\" class=\"data row1 col2\" >12.2 (7.9529, 16.4471)</td>\n",
       "                        <td id=\"T_0d6124e4_675f_11ea_86a9_548ca070448erow1_col3\" class=\"data row1 col3\" >8.0 (7.122, 8.878)</td>\n",
       "                        <td id=\"T_0d6124e4_675f_11ea_86a9_548ca070448erow1_col4\" class=\"data row1 col4\" >5.4 (2.9796, 7.8204)</td>\n",
       "            </tr>\n",
       "            <tr>\n",
       "                        <th id=\"T_0d6124e4_675f_11ea_86a9_548ca070448elevel0_row2\" class=\"row_heading level0 row2\" >0.1</th>\n",
       "                        <td id=\"T_0d6124e4_675f_11ea_86a9_548ca070448erow2_col0\" class=\"data row2 col0\" >5.6 (2.6097, 8.5903)</td>\n",
       "                        <td id=\"T_0d6124e4_675f_11ea_86a9_548ca070448erow2_col1\" class=\"data row2 col1\" >4.0 (2.7583, 5.2417)</td>\n",
       "                        <td id=\"T_0d6124e4_675f_11ea_86a9_548ca070448erow2_col2\" class=\"data row2 col2\" >4.8 (2.1081, 7.4919)</td>\n",
       "                        <td id=\"T_0d6124e4_675f_11ea_86a9_548ca070448erow2_col3\" class=\"data row2 col3\" >6.4 (1.6232, 11.1768)</td>\n",
       "                        <td id=\"T_0d6124e4_675f_11ea_86a9_548ca070448erow2_col4\" class=\"data row2 col4\" >3.6 (2.4894, 4.7106)</td>\n",
       "            </tr>\n",
       "            <tr>\n",
       "                        <th id=\"T_0d6124e4_675f_11ea_86a9_548ca070448elevel0_row3\" class=\"row_heading level0 row3\" >1.0</th>\n",
       "                        <td id=\"T_0d6124e4_675f_11ea_86a9_548ca070448erow3_col0\" class=\"data row3 col0\" >2.0 (2.0, 2.0)</td>\n",
       "                        <td id=\"T_0d6124e4_675f_11ea_86a9_548ca070448erow3_col1\" class=\"data row3 col1\" >2.0 (2.0, 2.0)</td>\n",
       "                        <td id=\"T_0d6124e4_675f_11ea_86a9_548ca070448erow3_col2\" class=\"data row3 col2\" >2.0 (2.0, 2.0)</td>\n",
       "                        <td id=\"T_0d6124e4_675f_11ea_86a9_548ca070448erow3_col3\" class=\"data row3 col3\" >2.0 (2.0, 2.0)</td>\n",
       "                        <td id=\"T_0d6124e4_675f_11ea_86a9_548ca070448erow3_col4\" class=\"data row3 col4\" >2.0 (2.0, 2.0)</td>\n",
       "            </tr>\n",
       "    </tbody></table>"
      ],
      "text/plain": [
       "<pandas.io.formats.style.Styler at 0x1f82307fe08>"
      ]
     },
     "metadata": {},
     "output_type": "display_data"
    },
    {
     "name": "stdout",
     "output_type": "stream",
     "text": [
      "Running time\n"
     ]
    },
    {
     "data": {
      "text/html": [
       "<style  type=\"text/css\" >\n",
       "    #T_0d6a4674_675f_11ea_92d6_548ca070448erow3_col0 {\n",
       "            background-color:  yellow;\n",
       "        }</style><table id=\"T_0d6a4674_675f_11ea_92d6_548ca070448e\" ><thead>    <tr>        <th class=\"blank level0\" ></th>        <th class=\"col_heading level0 col0\" >0.0</th>        <th class=\"col_heading level0 col1\" >0.001</th>        <th class=\"col_heading level0 col2\" >0.01</th>        <th class=\"col_heading level0 col3\" >0.1</th>        <th class=\"col_heading level0 col4\" >1.0</th>    </tr></thead><tbody>\n",
       "                <tr>\n",
       "                        <th id=\"T_0d6a4674_675f_11ea_92d6_548ca070448elevel0_row0\" class=\"row_heading level0 row0\" >0.001</th>\n",
       "                        <td id=\"T_0d6a4674_675f_11ea_92d6_548ca070448erow0_col0\" class=\"data row0 col0\" >37.2381 (35.571, 38.9051)</td>\n",
       "                        <td id=\"T_0d6a4674_675f_11ea_92d6_548ca070448erow0_col1\" class=\"data row0 col1\" >37.5127 (36.1891, 38.8362)</td>\n",
       "                        <td id=\"T_0d6a4674_675f_11ea_92d6_548ca070448erow0_col2\" class=\"data row0 col2\" >37.7447 (36.6437, 38.8457)</td>\n",
       "                        <td id=\"T_0d6a4674_675f_11ea_92d6_548ca070448erow0_col3\" class=\"data row0 col3\" >38.0553 (36.6778, 39.4328)</td>\n",
       "                        <td id=\"T_0d6a4674_675f_11ea_92d6_548ca070448erow0_col4\" class=\"data row0 col4\" >7.1389 (4.7695, 9.5083)</td>\n",
       "            </tr>\n",
       "            <tr>\n",
       "                        <th id=\"T_0d6a4674_675f_11ea_92d6_548ca070448elevel0_row1\" class=\"row_heading level0 row1\" >0.01</th>\n",
       "                        <td id=\"T_0d6a4674_675f_11ea_92d6_548ca070448erow1_col0\" class=\"data row1 col0\" >15.124 (9.8695, 20.3786)</td>\n",
       "                        <td id=\"T_0d6a4674_675f_11ea_92d6_548ca070448erow1_col1\" class=\"data row1 col1\" >22.4873 (14.1709, 30.8037)</td>\n",
       "                        <td id=\"T_0d6a4674_675f_11ea_92d6_548ca070448erow1_col2\" class=\"data row1 col2\" >24.6693 (16.274, 33.0646)</td>\n",
       "                        <td id=\"T_0d6a4674_675f_11ea_92d6_548ca070448erow1_col3\" class=\"data row1 col3\" >15.5267 (14.046, 17.0074)</td>\n",
       "                        <td id=\"T_0d6a4674_675f_11ea_92d6_548ca070448erow1_col4\" class=\"data row1 col4\" >10.744 (6.4237, 15.0644)</td>\n",
       "            </tr>\n",
       "            <tr>\n",
       "                        <th id=\"T_0d6a4674_675f_11ea_92d6_548ca070448elevel0_row2\" class=\"row_heading level0 row2\" >0.1</th>\n",
       "                        <td id=\"T_0d6a4674_675f_11ea_92d6_548ca070448erow2_col0\" class=\"data row2 col0\" >10.256 (5.2182, 15.2938)</td>\n",
       "                        <td id=\"T_0d6a4674_675f_11ea_92d6_548ca070448erow2_col1\" class=\"data row2 col1\" >8.7716 (5.9519, 11.5914)</td>\n",
       "                        <td id=\"T_0d6a4674_675f_11ea_92d6_548ca070448erow2_col2\" class=\"data row2 col2\" >10.3525 (5.086, 15.6191)</td>\n",
       "                        <td id=\"T_0d6a4674_675f_11ea_92d6_548ca070448erow2_col3\" class=\"data row2 col3\" >13.2596 (5.1107, 21.4085)</td>\n",
       "                        <td id=\"T_0d6a4674_675f_11ea_92d6_548ca070448erow2_col4\" class=\"data row2 col4\" >7.3667 (5.3557, 9.3777)</td>\n",
       "            </tr>\n",
       "            <tr>\n",
       "                        <th id=\"T_0d6a4674_675f_11ea_92d6_548ca070448elevel0_row3\" class=\"row_heading level0 row3\" >1.0</th>\n",
       "                        <td id=\"T_0d6a4674_675f_11ea_92d6_548ca070448erow3_col0\" class=\"data row3 col0\" >4.1432 (3.725, 4.5613)</td>\n",
       "                        <td id=\"T_0d6a4674_675f_11ea_92d6_548ca070448erow3_col1\" class=\"data row3 col1\" >4.3917 (3.9316, 4.8519)</td>\n",
       "                        <td id=\"T_0d6a4674_675f_11ea_92d6_548ca070448erow3_col2\" class=\"data row3 col2\" >5.0448 (3.7513, 6.3383)</td>\n",
       "                        <td id=\"T_0d6a4674_675f_11ea_92d6_548ca070448erow3_col3\" class=\"data row3 col3\" >4.5745 (4.2409, 4.9081)</td>\n",
       "                        <td id=\"T_0d6a4674_675f_11ea_92d6_548ca070448erow3_col4\" class=\"data row3 col4\" >4.6572 (4.3282, 4.9862)</td>\n",
       "            </tr>\n",
       "    </tbody></table>"
      ],
      "text/plain": [
       "<pandas.io.formats.style.Styler at 0x1f8230801c8>"
      ]
     },
     "metadata": {},
     "output_type": "display_data"
    },
    {
     "name": "stdout",
     "output_type": "stream",
     "text": [
      "The best number of learning rate is eta = 0.01\n",
      "The best number of momentum is alpha = 0.001\n"
     ]
    },
    {
     "data": {
      "image/png": "[encoded data removed]",
      "text/plain": [
       "<Figure size 720x720 with 4 Axes>"
      ]
     },
     "metadata": {
      "needs_background": "light"
     },
     "output_type": "display_data"
    },
    {
     "name": "stdout",
     "output_type": "stream",
     "text": [
      "The best batch size hyper parameter is batch_size = 8\n"
     ]
    }
   ],
   "source": [
    "scale2, nHiddenlayers2, nHiddenunits2, lr2, momentum2, batch_size2 = hyperpara(\n",
    "    M = M, loss = \"categorical_crossentropy\", activation = \"relu\", \n",
    "    scale = scale, nHiddenlayers = nHiddenlayers, nHiddenunits = nHiddenunits, \n",
    "    lr = lr, momentum = momentum, batch_size = batch_size\n",
    ")"
   ]
  },
  {
   "cell_type": "markdown",
   "metadata": {},
   "source": [
    "The hyper parameters are as follows:"
   ]
  },
  {
   "cell_type": "code",
   "execution_count": 7,
   "metadata": {},
   "outputs": [
    {
     "data": {
      "text/plain": [
       "(1, 2, 1000, 0.01, 0.001, 8)"
      ]
     },
     "execution_count": 7,
     "metadata": {},
     "output_type": "execute_result"
    }
   ],
   "source": [
    "scale2, nHiddenlayers2, nHiddenunits2, lr2, momentum2, batch_size2"
   ]
  },
  {
   "cell_type": "markdown",
   "metadata": {},
   "source": [
    "### Performance of cross-entropy error; ReLU"
   ]
  },
  {
   "cell_type": "code",
   "execution_count": 31,
   "metadata": {
    "scrolled": true
   },
   "outputs": [
    {
     "name": "stdout",
     "output_type": "stream",
     "text": [
      "Model: \"sequential_775\"\n",
      "_________________________________________________________________\n",
      "Layer (type)                 Output Shape              Param #   \n",
      "=================================================================\n",
      "dense_1932 (Dense)           multiple                  65000     \n",
      "_________________________________________________________________\n",
      "dense_1933 (Dense)           multiple                  1001000   \n",
      "_________________________________________________________________\n",
      "dense_1934 (Dense)           multiple                  10010     \n",
      "=================================================================\n",
      "Total params: 1,076,010\n",
      "Trainable params: 1,076,010\n",
      "Non-trainable params: 0\n",
      "_________________________________________________________________\n",
      "None\n"
     ]
    }
   ],
   "source": [
    "overallacc_test2, classacc_test2, con_mat_test2, overallacc_train2, classacc_train2, con_mat_train2, model_summary = perform(\n",
    "    loss = \"categorical_crossentropy\", activation = \"relu\", scale = scale2, \n",
    "    nHiddenlayers = nHiddenlayers2, nHiddenunits = nHiddenunits2, \n",
    "    lr = lr2, momentum = momentum2, batch_size = batch_size2)\n",
    "print(model_summary)"
   ]
  },
  {
   "cell_type": "code",
   "execution_count": 32,
   "metadata": {
    "scrolled": true
   },
   "outputs": [
    {
     "name": "stdout",
     "output_type": "stream",
     "text": [
      "Overall classification Accuracy for training data = 0.9801\n",
      "\n",
      "Class Accuracy for training data\n",
      "              precision    recall  f1-score   support\n",
      "\n",
      "           0       1.00      1.00      1.00       376\n",
      "           1       0.96      0.98      0.97       389\n",
      "           2       1.00      0.93      0.96       380\n",
      "           3       0.99      0.99      0.99       389\n",
      "           4       0.99      1.00      1.00       387\n",
      "           5       1.00      0.95      0.98       376\n",
      "           6       0.99      1.00      0.99       377\n",
      "           7       1.00      0.99      1.00       387\n",
      "           8       0.91      0.99      0.95       380\n",
      "           9       0.97      0.97      0.97       382\n",
      "\n",
      "    accuracy                           0.98      3823\n",
      "   macro avg       0.98      0.98      0.98      3823\n",
      "weighted avg       0.98      0.98      0.98      3823\n",
      "\n",
      "Confusion matrix for training data\n",
      "[[1.   0.   0.   0.   0.   0.   0.   0.   0.   0.  ]\n",
      " [0.   0.98 0.   0.   0.   0.   0.   0.   0.01 0.01]\n",
      " [0.   0.02 0.93 0.   0.   0.   0.   0.   0.04 0.  ]\n",
      " [0.   0.   0.   0.99 0.   0.   0.   0.   0.01 0.  ]\n",
      " [0.   0.   0.   0.   1.   0.   0.   0.   0.   0.  ]\n",
      " [0.   0.   0.   0.01 0.   0.95 0.01 0.   0.02 0.02]\n",
      " [0.   0.   0.   0.   0.   0.   1.   0.   0.   0.  ]\n",
      " [0.   0.   0.   0.   0.   0.   0.   0.99 0.   0.  ]\n",
      " [0.   0.01 0.   0.   0.   0.   0.   0.   0.99 0.  ]\n",
      " [0.   0.01 0.   0.   0.01 0.   0.   0.   0.02 0.97]]\n",
      "-------------------------------------------------------------\n",
      "Overall classification Accuracy for test data = 0.9505\n",
      "\n",
      "Class Accuracy for test data\n",
      "              precision    recall  f1-score   support\n",
      "\n",
      "           0       1.00      0.99      1.00       178\n",
      "           1       0.92      0.98      0.95       182\n",
      "           2       1.00      0.92      0.96       177\n",
      "           3       0.98      0.92      0.95       183\n",
      "           4       0.96      0.98      0.97       181\n",
      "           5       0.98      0.96      0.97       182\n",
      "           6       0.99      0.98      0.99       181\n",
      "           7       1.00      0.90      0.95       179\n",
      "           8       0.80      0.96      0.87       174\n",
      "           9       0.91      0.92      0.91       180\n",
      "\n",
      "    accuracy                           0.95      1797\n",
      "   macro avg       0.95      0.95      0.95      1797\n",
      "weighted avg       0.95      0.95      0.95      1797\n",
      "\n",
      "Confusion matrix for test data\n",
      "[[0.99 0.   0.   0.   0.01 0.   0.   0.   0.   0.  ]\n",
      " [0.   0.98 0.   0.   0.   0.   0.   0.   0.01 0.01]\n",
      " [0.   0.02 0.92 0.01 0.   0.   0.   0.   0.06 0.  ]\n",
      " [0.   0.   0.   0.92 0.   0.01 0.   0.   0.07 0.01]\n",
      " [0.   0.01 0.   0.   0.98 0.   0.   0.   0.02 0.  ]\n",
      " [0.   0.01 0.   0.01 0.01 0.96 0.01 0.   0.01 0.01]\n",
      " [0.   0.01 0.   0.   0.01 0.   0.98 0.   0.01 0.  ]\n",
      " [0.   0.   0.   0.   0.01 0.01 0.   0.9  0.02 0.07]\n",
      " [0.   0.03 0.   0.   0.   0.   0.   0.   0.96 0.01]\n",
      " [0.   0.01 0.   0.01 0.01 0.01 0.   0.   0.05 0.92]]\n"
     ]
    }
   ],
   "source": [
    "print(\"Overall classification Accuracy for training data = %.4f\\n\" % overallacc_train2)\n",
    "print(\"Class Accuracy for training data\")\n",
    "print(classacc_train2)\n",
    "print(\"Confusion matrix for training data\")\n",
    "print(con_mat_train2)\n",
    "\n",
    "print(\"-------------------------------------------------------------\")\n",
    "\n",
    "print(\"Overall classification Accuracy for test data = %.4f\\n\" % overallacc_test2)\n",
    "print(\"Class Accuracy for test data\")\n",
    "print(classacc_test2)\n",
    "print(\"Confusion matrix for test data\")\n",
    "print(con_mat_test2)"
   ]
  },
  {
   "cell_type": "markdown",
   "metadata": {},
   "source": [
    "### Discussion\n",
    "The hyper parameters with sum-of-square-error and cross-entropy error functions are(scale, nHiddenlayers, nHiddenunits, lr, momentum, batch_size)\n",
    "\n",
    "sum-of-square-error: (1, 2, 1000, 0.1, 0.0, 8)\n",
    "\n",
    "cross-entropy error: (1, 2, 1000, 0.01, 0.001, 8)\n",
    "\n",
    "Both error functions share the same scale, number of hidden layers, number of hidden units batch_size hyper parameter execept lr and momentum hyper parameters. While both sum-of-square and cross-entropy error functions performs best with number of hiddenlayers = 2, nuber of hidden units = 1000, it turns out that it takes about 34.37 seconds to fit the model with sum-of-square error functnion while it takes only 15.55 seconds to fit the model with cross-entropy error function.\n",
    "\n",
    "The overall classification accuracies for test data of sum-of-square error function and cross-entropy error function are 0.9649 and 0.9505 respectively, which indicates that both loss function performs well in this problem."
   ]
  },
  {
   "cell_type": "markdown",
   "metadata": {},
   "source": [
    "## tanh vs. ReLU hidden units"
   ]
  },
  {
   "cell_type": "markdown",
   "metadata": {},
   "source": [
    "### Hyperparameter for tanh; cross-entropy"
   ]
  },
  {
   "cell_type": "code",
   "execution_count": 8,
   "metadata": {
    "scrolled": false
   },
   "outputs": [
    {
     "data": {
      "image/png": "[encoded data removed]",
      "text/plain": [
       "<Figure size 720x720 with 4 Axes>"
      ]
     },
     "metadata": {
      "needs_background": "light"
     },
     "output_type": "display_data"
    },
    {
     "name": "stdout",
     "output_type": "stream",
     "text": [
      "The best scale hyper parameter is scale = 1\n",
      "Accuracy of validation set\n"
     ]
    },
    {
     "data": {
      "text/html": [
       "<style  type=\"text/css\" >\n",
       "    #T_3f3e1582_6762_11ea_a37f_548ca070448erow2_col6 {\n",
       "            background-color:  yellow;\n",
       "        }</style><table id=\"T_3f3e1582_6762_11ea_a37f_548ca070448e\" ><thead>    <tr>        <th class=\"blank level0\" ></th>        <th class=\"col_heading level0 col0\" >1</th>        <th class=\"col_heading level0 col1\" >5</th>        <th class=\"col_heading level0 col2\" >10</th>        <th class=\"col_heading level0 col3\" >50</th>        <th class=\"col_heading level0 col4\" >100</th>        <th class=\"col_heading level0 col5\" >500</th>        <th class=\"col_heading level0 col6\" >1000</th>    </tr></thead><tbody>\n",
       "                <tr>\n",
       "                        <th id=\"T_3f3e1582_6762_11ea_a37f_548ca070448elevel0_row0\" class=\"row_heading level0 row0\" >0</th>\n",
       "                        <td id=\"T_3f3e1582_6762_11ea_a37f_548ca070448erow0_col0\" class=\"data row0 col0\" >0.9451 (0.9318, 0.9584)</td>\n",
       "                        <td id=\"T_3f3e1582_6762_11ea_a37f_548ca070448erow0_col1\" class=\"data row0 col1\" >0.9456 (0.9363, 0.9549)</td>\n",
       "                        <td id=\"T_3f3e1582_6762_11ea_a37f_548ca070448erow0_col2\" class=\"data row0 col2\" >0.9464 (0.9287, 0.9641)</td>\n",
       "                        <td id=\"T_3f3e1582_6762_11ea_a37f_548ca070448erow0_col3\" class=\"data row0 col3\" >0.9556 (0.9486, 0.9625)</td>\n",
       "                        <td id=\"T_3f3e1582_6762_11ea_a37f_548ca070448erow0_col4\" class=\"data row0 col4\" >0.9532 (0.9461, 0.9603)</td>\n",
       "                        <td id=\"T_3f3e1582_6762_11ea_a37f_548ca070448erow0_col5\" class=\"data row0 col5\" >0.9435 (0.9273, 0.9597)</td>\n",
       "                        <td id=\"T_3f3e1582_6762_11ea_a37f_548ca070448erow0_col6\" class=\"data row0 col6\" >0.9522 (0.9393, 0.965)</td>\n",
       "            </tr>\n",
       "            <tr>\n",
       "                        <th id=\"T_3f3e1582_6762_11ea_a37f_548ca070448elevel0_row1\" class=\"row_heading level0 row1\" >1</th>\n",
       "                        <td id=\"T_3f3e1582_6762_11ea_a37f_548ca070448erow1_col0\" class=\"data row1 col0\" >0.1856 (0.1799, 0.1914)</td>\n",
       "                        <td id=\"T_3f3e1582_6762_11ea_a37f_548ca070448erow1_col1\" class=\"data row1 col1\" >0.7354 (0.6181, 0.8527)</td>\n",
       "                        <td id=\"T_3f3e1582_6762_11ea_a37f_548ca070448erow1_col2\" class=\"data row1 col2\" >0.8426 (0.7563, 0.9289)</td>\n",
       "                        <td id=\"T_3f3e1582_6762_11ea_a37f_548ca070448erow1_col3\" class=\"data row1 col3\" >0.9579 (0.9513, 0.9645)</td>\n",
       "                        <td id=\"T_3f3e1582_6762_11ea_a37f_548ca070448erow1_col4\" class=\"data row1 col4\" >0.9684 (0.9613, 0.9755)</td>\n",
       "                        <td id=\"T_3f3e1582_6762_11ea_a37f_548ca070448erow1_col5\" class=\"data row1 col5\" >0.9812 (0.9785, 0.9839)</td>\n",
       "                        <td id=\"T_3f3e1582_6762_11ea_a37f_548ca070448erow1_col6\" class=\"data row1 col6\" >0.9799 (0.9758, 0.9839)</td>\n",
       "            </tr>\n",
       "            <tr>\n",
       "                        <th id=\"T_3f3e1582_6762_11ea_a37f_548ca070448elevel0_row2\" class=\"row_heading level0 row2\" >2</th>\n",
       "                        <td id=\"T_3f3e1582_6762_11ea_a37f_548ca070448erow2_col0\" class=\"data row2 col0\" >0.1658 (0.1164, 0.2151)</td>\n",
       "                        <td id=\"T_3f3e1582_6762_11ea_a37f_548ca070448erow2_col1\" class=\"data row2 col1\" >0.5694 (0.3729, 0.766)</td>\n",
       "                        <td id=\"T_3f3e1582_6762_11ea_a37f_548ca070448erow2_col2\" class=\"data row2 col2\" >0.8735 (0.8119, 0.935)</td>\n",
       "                        <td id=\"T_3f3e1582_6762_11ea_a37f_548ca070448erow2_col3\" class=\"data row2 col3\" >0.9626 (0.9602, 0.9651)</td>\n",
       "                        <td id=\"T_3f3e1582_6762_11ea_a37f_548ca070448erow2_col4\" class=\"data row2 col4\" >0.971 (0.9681, 0.9739)</td>\n",
       "                        <td id=\"T_3f3e1582_6762_11ea_a37f_548ca070448erow2_col5\" class=\"data row2 col5\" >0.9801 (0.9764, 0.9838)</td>\n",
       "                        <td id=\"T_3f3e1582_6762_11ea_a37f_548ca070448erow2_col6\" class=\"data row2 col6\" >0.9814 (0.9785, 0.9843)</td>\n",
       "            </tr>\n",
       "    </tbody></table>"
      ],
      "text/plain": [
       "<pandas.io.formats.style.Styler at 0x1f82a869e48>"
      ]
     },
     "metadata": {},
     "output_type": "display_data"
    },
    {
     "name": "stdout",
     "output_type": "stream",
     "text": [
      "The best accuracy of validation set is attained when # of hidden layers = 2 , # of hidden units = 1000\n",
      "\n",
      "Accuracy of training set\n"
     ]
    },
    {
     "data": {
      "text/html": [
       "<style  type=\"text/css\" >\n",
       "    #T_3f61b1d0_6762_11ea_9d93_548ca070448erow2_col6 {\n",
       "            background-color:  yellow;\n",
       "        }</style><table id=\"T_3f61b1d0_6762_11ea_9d93_548ca070448e\" ><thead>    <tr>        <th class=\"blank level0\" ></th>        <th class=\"col_heading level0 col0\" >1</th>        <th class=\"col_heading level0 col1\" >5</th>        <th class=\"col_heading level0 col2\" >10</th>        <th class=\"col_heading level0 col3\" >50</th>        <th class=\"col_heading level0 col4\" >100</th>        <th class=\"col_heading level0 col5\" >500</th>        <th class=\"col_heading level0 col6\" >1000</th>    </tr></thead><tbody>\n",
       "                <tr>\n",
       "                        <th id=\"T_3f61b1d0_6762_11ea_9d93_548ca070448elevel0_row0\" class=\"row_heading level0 row0\" >0</th>\n",
       "                        <td id=\"T_3f61b1d0_6762_11ea_9d93_548ca070448erow0_col0\" class=\"data row0 col0\" >0.9553 (0.9394, 0.9712)</td>\n",
       "                        <td id=\"T_3f61b1d0_6762_11ea_9d93_548ca070448erow0_col1\" class=\"data row0 col1\" >0.957 (0.9446, 0.9694)</td>\n",
       "                        <td id=\"T_3f61b1d0_6762_11ea_9d93_548ca070448erow0_col2\" class=\"data row0 col2\" >0.9553 (0.9401, 0.9705)</td>\n",
       "                        <td id=\"T_3f61b1d0_6762_11ea_9d93_548ca070448erow0_col3\" class=\"data row0 col3\" >0.9695 (0.9598, 0.9793)</td>\n",
       "                        <td id=\"T_3f61b1d0_6762_11ea_9d93_548ca070448erow0_col4\" class=\"data row0 col4\" >0.9682 (0.9648, 0.9716)</td>\n",
       "                        <td id=\"T_3f61b1d0_6762_11ea_9d93_548ca070448erow0_col5\" class=\"data row0 col5\" >0.9571 (0.9438, 0.9704)</td>\n",
       "                        <td id=\"T_3f61b1d0_6762_11ea_9d93_548ca070448erow0_col6\" class=\"data row0 col6\" >0.96 (0.9464, 0.9737)</td>\n",
       "            </tr>\n",
       "            <tr>\n",
       "                        <th id=\"T_3f61b1d0_6762_11ea_9d93_548ca070448elevel0_row1\" class=\"row_heading level0 row1\" >1</th>\n",
       "                        <td id=\"T_3f61b1d0_6762_11ea_9d93_548ca070448erow1_col0\" class=\"data row1 col0\" >0.1961 (0.1891, 0.203)</td>\n",
       "                        <td id=\"T_3f61b1d0_6762_11ea_9d93_548ca070448erow1_col1\" class=\"data row1 col1\" >0.7453 (0.6465, 0.8442)</td>\n",
       "                        <td id=\"T_3f61b1d0_6762_11ea_9d93_548ca070448erow1_col2\" class=\"data row1 col2\" >0.8464 (0.7642, 0.9287)</td>\n",
       "                        <td id=\"T_3f61b1d0_6762_11ea_9d93_548ca070448erow1_col3\" class=\"data row1 col3\" >0.9781 (0.9761, 0.9801)</td>\n",
       "                        <td id=\"T_3f61b1d0_6762_11ea_9d93_548ca070448erow1_col4\" class=\"data row1 col4\" >0.9888 (0.9864, 0.9911)</td>\n",
       "                        <td id=\"T_3f61b1d0_6762_11ea_9d93_548ca070448erow1_col5\" class=\"data row1 col5\" >0.9983 (0.9979, 0.9987)</td>\n",
       "                        <td id=\"T_3f61b1d0_6762_11ea_9d93_548ca070448erow1_col6\" class=\"data row1 col6\" >0.998 (0.9959, 1.0002)</td>\n",
       "            </tr>\n",
       "            <tr>\n",
       "                        <th id=\"T_3f61b1d0_6762_11ea_9d93_548ca070448elevel0_row2\" class=\"row_heading level0 row2\" >2</th>\n",
       "                        <td id=\"T_3f61b1d0_6762_11ea_9d93_548ca070448erow2_col0\" class=\"data row2 col0\" >0.1772 (0.1239, 0.2305)</td>\n",
       "                        <td id=\"T_3f61b1d0_6762_11ea_9d93_548ca070448erow2_col1\" class=\"data row2 col1\" >0.5759 (0.3836, 0.7682)</td>\n",
       "                        <td id=\"T_3f61b1d0_6762_11ea_9d93_548ca070448erow2_col2\" class=\"data row2 col2\" >0.8892 (0.8367, 0.9417)</td>\n",
       "                        <td id=\"T_3f61b1d0_6762_11ea_9d93_548ca070448erow2_col3\" class=\"data row2 col3\" >0.9839 (0.9811, 0.9867)</td>\n",
       "                        <td id=\"T_3f61b1d0_6762_11ea_9d93_548ca070448erow2_col4\" class=\"data row2 col4\" >0.9925 (0.9916, 0.9935)</td>\n",
       "                        <td id=\"T_3f61b1d0_6762_11ea_9d93_548ca070448erow2_col5\" class=\"data row2 col5\" >0.999 (0.9985, 0.9995)</td>\n",
       "                        <td id=\"T_3f61b1d0_6762_11ea_9d93_548ca070448erow2_col6\" class=\"data row2 col6\" >0.9993 (0.9985, 1.0002)</td>\n",
       "            </tr>\n",
       "    </tbody></table>"
      ],
      "text/plain": [
       "<pandas.io.formats.style.Styler at 0x1f836364808>"
      ]
     },
     "metadata": {},
     "output_type": "display_data"
    },
    {
     "name": "stdout",
     "output_type": "stream",
     "text": [
      "The best accuracy of training set is attained when # of hidden layers = 2 , # of hidden units = 1000\n",
      "\n",
      "Number of iteration\n"
     ]
    },
    {
     "data": {
      "text/html": [
       "<style  type=\"text/css\" >\n",
       "    #T_3f7af4ec_6762_11ea_a817_548ca070448erow0_col1 {\n",
       "            background-color:  yellow;\n",
       "        }</style><table id=\"T_3f7af4ec_6762_11ea_a817_548ca070448e\" ><thead>    <tr>        <th class=\"blank level0\" ></th>        <th class=\"col_heading level0 col0\" >1</th>        <th class=\"col_heading level0 col1\" >5</th>        <th class=\"col_heading level0 col2\" >10</th>        <th class=\"col_heading level0 col3\" >50</th>        <th class=\"col_heading level0 col4\" >100</th>        <th class=\"col_heading level0 col5\" >500</th>        <th class=\"col_heading level0 col6\" >1000</th>    </tr></thead><tbody>\n",
       "                <tr>\n",
       "                        <th id=\"T_3f7af4ec_6762_11ea_a817_548ca070448elevel0_row0\" class=\"row_heading level0 row0\" >0</th>\n",
       "                        <td id=\"T_3f7af4ec_6762_11ea_a817_548ca070448erow0_col0\" class=\"data row0 col0\" >9.8 (6.2444, 13.3556)</td>\n",
       "                        <td id=\"T_3f7af4ec_6762_11ea_a817_548ca070448erow0_col1\" class=\"data row0 col1\" >9.0 (5.0735, 12.9265)</td>\n",
       "                        <td id=\"T_3f7af4ec_6762_11ea_a817_548ca070448erow0_col2\" class=\"data row0 col2\" >10.0 (6.275, 13.725)</td>\n",
       "                        <td id=\"T_3f7af4ec_6762_11ea_a817_548ca070448erow0_col3\" class=\"data row0 col3\" >13.6 (8.9046, 18.2954)</td>\n",
       "                        <td id=\"T_3f7af4ec_6762_11ea_a817_548ca070448erow0_col4\" class=\"data row0 col4\" >13.6 (9.8134, 17.3866)</td>\n",
       "                        <td id=\"T_3f7af4ec_6762_11ea_a817_548ca070448erow0_col5\" class=\"data row0 col5\" >9.2 (4.4394, 13.9606)</td>\n",
       "                        <td id=\"T_3f7af4ec_6762_11ea_a817_548ca070448erow0_col6\" class=\"data row0 col6\" >10.8 (6.3751, 15.2249)</td>\n",
       "            </tr>\n",
       "            <tr>\n",
       "                        <th id=\"T_3f7af4ec_6762_11ea_a817_548ca070448elevel0_row1\" class=\"row_heading level0 row1\" >1</th>\n",
       "                        <td id=\"T_3f7af4ec_6762_11ea_a817_548ca070448erow1_col0\" class=\"data row1 col0\" >20.0 (20.0, 20.0)</td>\n",
       "                        <td id=\"T_3f7af4ec_6762_11ea_a817_548ca070448erow1_col1\" class=\"data row1 col1\" >20.0 (20.0, 20.0)</td>\n",
       "                        <td id=\"T_3f7af4ec_6762_11ea_a817_548ca070448erow1_col2\" class=\"data row1 col2\" >20.0 (20.0, 20.0)</td>\n",
       "                        <td id=\"T_3f7af4ec_6762_11ea_a817_548ca070448erow1_col3\" class=\"data row1 col3\" >20.0 (20.0, 20.0)</td>\n",
       "                        <td id=\"T_3f7af4ec_6762_11ea_a817_548ca070448erow1_col4\" class=\"data row1 col4\" >20.0 (20.0, 20.0)</td>\n",
       "                        <td id=\"T_3f7af4ec_6762_11ea_a817_548ca070448erow1_col5\" class=\"data row1 col5\" >20.0 (20.0, 20.0)</td>\n",
       "                        <td id=\"T_3f7af4ec_6762_11ea_a817_548ca070448erow1_col6\" class=\"data row1 col6\" >17.2 (12.4394, 21.9606)</td>\n",
       "            </tr>\n",
       "            <tr>\n",
       "                        <th id=\"T_3f7af4ec_6762_11ea_a817_548ca070448elevel0_row2\" class=\"row_heading level0 row2\" >2</th>\n",
       "                        <td id=\"T_3f7af4ec_6762_11ea_a817_548ca070448erow2_col0\" class=\"data row2 col0\" >16.2 (8.6269, 23.7731)</td>\n",
       "                        <td id=\"T_3f7af4ec_6762_11ea_a817_548ca070448erow2_col1\" class=\"data row2 col1\" >20.0 (20.0, 20.0)</td>\n",
       "                        <td id=\"T_3f7af4ec_6762_11ea_a817_548ca070448erow2_col2\" class=\"data row2 col2\" >20.0 (20.0, 20.0)</td>\n",
       "                        <td id=\"T_3f7af4ec_6762_11ea_a817_548ca070448erow2_col3\" class=\"data row2 col3\" >20.0 (20.0, 20.0)</td>\n",
       "                        <td id=\"T_3f7af4ec_6762_11ea_a817_548ca070448erow2_col4\" class=\"data row2 col4\" >20.0 (20.0, 20.0)</td>\n",
       "                        <td id=\"T_3f7af4ec_6762_11ea_a817_548ca070448erow2_col5\" class=\"data row2 col5\" >19.6 (18.4894, 20.7106)</td>\n",
       "                        <td id=\"T_3f7af4ec_6762_11ea_a817_548ca070448erow2_col6\" class=\"data row2 col6\" >16.8 (12.9329, 20.6671)</td>\n",
       "            </tr>\n",
       "    </tbody></table>"
      ],
      "text/plain": [
       "<pandas.io.formats.style.Styler at 0x1f8365d8e88>"
      ]
     },
     "metadata": {},
     "output_type": "display_data"
    },
    {
     "name": "stdout",
     "output_type": "stream",
     "text": [
      "The best number of iteration is attained when # of hidden layers = 0 , # of hidden units = 5\n",
      "\n",
      "Running time\n"
     ]
    },
    {
     "data": {
      "text/html": [
       "<style  type=\"text/css\" >\n",
       "    #T_3f921682_6762_11ea_80ed_548ca070448erow0_col1 {\n",
       "            background-color:  yellow;\n",
       "        }</style><table id=\"T_3f921682_6762_11ea_80ed_548ca070448e\" ><thead>    <tr>        <th class=\"blank level0\" ></th>        <th class=\"col_heading level0 col0\" >1</th>        <th class=\"col_heading level0 col1\" >5</th>        <th class=\"col_heading level0 col2\" >10</th>        <th class=\"col_heading level0 col3\" >50</th>        <th class=\"col_heading level0 col4\" >100</th>        <th class=\"col_heading level0 col5\" >500</th>        <th class=\"col_heading level0 col6\" >1000</th>    </tr></thead><tbody>\n",
       "                <tr>\n",
       "                        <th id=\"T_3f921682_6762_11ea_80ed_548ca070448elevel0_row0\" class=\"row_heading level0 row0\" >0</th>\n",
       "                        <td id=\"T_3f921682_6762_11ea_80ed_548ca070448erow0_col0\" class=\"data row0 col0\" >2.9018 (1.5692, 4.2344)</td>\n",
       "                        <td id=\"T_3f921682_6762_11ea_80ed_548ca070448erow0_col1\" class=\"data row0 col1\" >2.1969 (1.5602, 2.8336)</td>\n",
       "                        <td id=\"T_3f921682_6762_11ea_80ed_548ca070448erow0_col2\" class=\"data row0 col2\" >2.3947 (1.6902, 3.0992)</td>\n",
       "                        <td id=\"T_3f921682_6762_11ea_80ed_548ca070448erow0_col3\" class=\"data row0 col3\" >2.9589 (2.2405, 3.6773)</td>\n",
       "                        <td id=\"T_3f921682_6762_11ea_80ed_548ca070448erow0_col4\" class=\"data row0 col4\" >3.0301 (2.4838, 3.5763)</td>\n",
       "                        <td id=\"T_3f921682_6762_11ea_80ed_548ca070448erow0_col5\" class=\"data row0 col5\" >2.2427 (1.45, 3.0354)</td>\n",
       "                        <td id=\"T_3f921682_6762_11ea_80ed_548ca070448erow0_col6\" class=\"data row0 col6\" >3.2723 (1.9645, 4.5801)</td>\n",
       "            </tr>\n",
       "            <tr>\n",
       "                        <th id=\"T_3f921682_6762_11ea_80ed_548ca070448elevel0_row1\" class=\"row_heading level0 row1\" >1</th>\n",
       "                        <td id=\"T_3f921682_6762_11ea_80ed_548ca070448erow1_col0\" class=\"data row1 col0\" >4.6154 (3.7463, 5.4845)</td>\n",
       "                        <td id=\"T_3f921682_6762_11ea_80ed_548ca070448erow1_col1\" class=\"data row1 col1\" >5.0047 (4.7121, 5.2972)</td>\n",
       "                        <td id=\"T_3f921682_6762_11ea_80ed_548ca070448erow1_col2\" class=\"data row1 col2\" >5.7053 (4.2846, 7.1259)</td>\n",
       "                        <td id=\"T_3f921682_6762_11ea_80ed_548ca070448erow1_col3\" class=\"data row1 col3\" >5.4271 (5.2689, 5.5853)</td>\n",
       "                        <td id=\"T_3f921682_6762_11ea_80ed_548ca070448erow1_col4\" class=\"data row1 col4\" >5.6397 (5.5408, 5.7386)</td>\n",
       "                        <td id=\"T_3f921682_6762_11ea_80ed_548ca070448erow1_col5\" class=\"data row1 col5\" >6.5808 (6.5193, 6.6423)</td>\n",
       "                        <td id=\"T_3f921682_6762_11ea_80ed_548ca070448erow1_col6\" class=\"data row1 col6\" >6.7889 (5.1585, 8.4192)</td>\n",
       "            </tr>\n",
       "            <tr>\n",
       "                        <th id=\"T_3f921682_6762_11ea_80ed_548ca070448elevel0_row2\" class=\"row_heading level0 row2\" >2</th>\n",
       "                        <td id=\"T_3f921682_6762_11ea_80ed_548ca070448erow2_col0\" class=\"data row2 col0\" >4.4141 (2.7882, 6.0399)</td>\n",
       "                        <td id=\"T_3f921682_6762_11ea_80ed_548ca070448erow2_col1\" class=\"data row2 col1\" >5.2838 (5.1783, 5.3894)</td>\n",
       "                        <td id=\"T_3f921682_6762_11ea_80ed_548ca070448erow2_col2\" class=\"data row2 col2\" >5.3122 (5.082, 5.5424)</td>\n",
       "                        <td id=\"T_3f921682_6762_11ea_80ed_548ca070448erow2_col3\" class=\"data row2 col3\" >6.9711 (5.8298, 8.1125)</td>\n",
       "                        <td id=\"T_3f921682_6762_11ea_80ed_548ca070448erow2_col4\" class=\"data row2 col4\" >6.6663 (5.9822, 7.3504)</td>\n",
       "                        <td id=\"T_3f921682_6762_11ea_80ed_548ca070448erow2_col5\" class=\"data row2 col5\" >16.3064 (15.6433, 16.9695)</td>\n",
       "                        <td id=\"T_3f921682_6762_11ea_80ed_548ca070448erow2_col6\" class=\"data row2 col6\" >36.1894 (28.4915, 43.8873)</td>\n",
       "            </tr>\n",
       "    </tbody></table>"
      ],
      "text/plain": [
       "<pandas.io.formats.style.Styler at 0x1f8365c4f08>"
      ]
     },
     "metadata": {},
     "output_type": "display_data"
    },
    {
     "name": "stdout",
     "output_type": "stream",
     "text": [
      "The best running time is attained when # of hidden layers = 0 , # of hidden units = 5\n",
      "\n",
      "The best number of hidden layers is nHiddenlayers = 2\n",
      "The best number of hidden units is nHiddenunits = 1000\n",
      "Accuracy of validation set\n"
     ]
    },
    {
     "data": {
      "text/html": [
       "<style  type=\"text/css\" >\n",
       "    #T_624f4474_6767_11ea_9d35_548ca070448erow1_col0 {\n",
       "            background-color:  yellow;\n",
       "        }</style><table id=\"T_624f4474_6767_11ea_9d35_548ca070448e\" ><thead>    <tr>        <th class=\"blank level0\" ></th>        <th class=\"col_heading level0 col0\" >0.0</th>        <th class=\"col_heading level0 col1\" >0.001</th>        <th class=\"col_heading level0 col2\" >0.01</th>        <th class=\"col_heading level0 col3\" >0.1</th>        <th class=\"col_heading level0 col4\" >1.0</th>    </tr></thead><tbody>\n",
       "                <tr>\n",
       "                        <th id=\"T_624f4474_6767_11ea_9d35_548ca070448elevel0_row0\" class=\"row_heading level0 row0\" >0.001</th>\n",
       "                        <td id=\"T_624f4474_6767_11ea_9d35_548ca070448erow0_col0\" class=\"data row0 col0\" >0.9699 (0.9641, 0.9758)</td>\n",
       "                        <td id=\"T_624f4474_6767_11ea_9d35_548ca070448erow0_col1\" class=\"data row0 col1\" >0.9705 (0.968, 0.9729)</td>\n",
       "                        <td id=\"T_624f4474_6767_11ea_9d35_548ca070448erow0_col2\" class=\"data row0 col2\" >0.9692 (0.9664, 0.9719)</td>\n",
       "                        <td id=\"T_624f4474_6767_11ea_9d35_548ca070448erow0_col3\" class=\"data row0 col3\" >0.9736 (0.9718, 0.9754)</td>\n",
       "                        <td id=\"T_624f4474_6767_11ea_9d35_548ca070448erow0_col4\" class=\"data row0 col4\" >0.9315 (0.9021, 0.9609)</td>\n",
       "            </tr>\n",
       "            <tr>\n",
       "                        <th id=\"T_624f4474_6767_11ea_9d35_548ca070448elevel0_row1\" class=\"row_heading level0 row1\" >0.01</th>\n",
       "                        <td id=\"T_624f4474_6767_11ea_9d35_548ca070448erow1_col0\" class=\"data row1 col0\" >0.9833 (0.9825, 0.984)</td>\n",
       "                        <td id=\"T_624f4474_6767_11ea_9d35_548ca070448erow1_col1\" class=\"data row1 col1\" >0.9812 (0.9778, 0.9845)</td>\n",
       "                        <td id=\"T_624f4474_6767_11ea_9d35_548ca070448erow1_col2\" class=\"data row1 col2\" >0.9809 (0.9785, 0.9834)</td>\n",
       "                        <td id=\"T_624f4474_6767_11ea_9d35_548ca070448erow1_col3\" class=\"data row1 col3\" >0.9822 (0.9808, 0.9837)</td>\n",
       "                        <td id=\"T_624f4474_6767_11ea_9d35_548ca070448erow1_col4\" class=\"data row1 col4\" >0.5906 (0.2999, 0.8813)</td>\n",
       "            </tr>\n",
       "            <tr>\n",
       "                        <th id=\"T_624f4474_6767_11ea_9d35_548ca070448elevel0_row2\" class=\"row_heading level0 row2\" >0.1</th>\n",
       "                        <td id=\"T_624f4474_6767_11ea_9d35_548ca070448erow2_col0\" class=\"data row2 col0\" >0.9807 (0.9782, 0.9831)</td>\n",
       "                        <td id=\"T_624f4474_6767_11ea_9d35_548ca070448erow2_col1\" class=\"data row2 col1\" >0.9516 (0.9035, 0.9997)</td>\n",
       "                        <td id=\"T_624f4474_6767_11ea_9d35_548ca070448erow2_col2\" class=\"data row2 col2\" >0.977 (0.9745, 0.9795)</td>\n",
       "                        <td id=\"T_624f4474_6767_11ea_9d35_548ca070448erow2_col3\" class=\"data row2 col3\" >0.959 (0.9306, 0.9873)</td>\n",
       "                        <td id=\"T_624f4474_6767_11ea_9d35_548ca070448erow2_col4\" class=\"data row2 col4\" >0.1004 (0.0918, 0.1089)</td>\n",
       "            </tr>\n",
       "            <tr>\n",
       "                        <th id=\"T_624f4474_6767_11ea_9d35_548ca070448elevel0_row3\" class=\"row_heading level0 row3\" >1.0</th>\n",
       "                        <td id=\"T_624f4474_6767_11ea_9d35_548ca070448erow3_col0\" class=\"data row3 col0\" >0.0949 (0.0924, 0.0974)</td>\n",
       "                        <td id=\"T_624f4474_6767_11ea_9d35_548ca070448erow3_col1\" class=\"data row3 col1\" >0.0991 (0.0943, 0.1039)</td>\n",
       "                        <td id=\"T_624f4474_6767_11ea_9d35_548ca070448erow3_col2\" class=\"data row3 col2\" >0.0946 (0.0925, 0.0968)</td>\n",
       "                        <td id=\"T_624f4474_6767_11ea_9d35_548ca070448erow3_col3\" class=\"data row3 col3\" >0.0986 (0.0896, 0.1075)</td>\n",
       "                        <td id=\"T_624f4474_6767_11ea_9d35_548ca070448erow3_col4\" class=\"data row3 col4\" >0.0991 (0.0906, 0.1075)</td>\n",
       "            </tr>\n",
       "    </tbody></table>"
      ],
      "text/plain": [
       "<pandas.io.formats.style.Styler at 0x1f836a62488>"
      ]
     },
     "metadata": {},
     "output_type": "display_data"
    },
    {
     "name": "stdout",
     "output_type": "stream",
     "text": [
      "Accuracy of training set\n"
     ]
    },
    {
     "data": {
      "text/html": [
       "<style  type=\"text/css\" >\n",
       "    #T_625b4a2c_6767_11ea_8bf9_548ca070448erow1_col3 {\n",
       "            background-color:  yellow;\n",
       "        }</style><table id=\"T_625b4a2c_6767_11ea_8bf9_548ca070448e\" ><thead>    <tr>        <th class=\"blank level0\" ></th>        <th class=\"col_heading level0 col0\" >0.0</th>        <th class=\"col_heading level0 col1\" >0.001</th>        <th class=\"col_heading level0 col2\" >0.01</th>        <th class=\"col_heading level0 col3\" >0.1</th>        <th class=\"col_heading level0 col4\" >1.0</th>    </tr></thead><tbody>\n",
       "                <tr>\n",
       "                        <th id=\"T_625b4a2c_6767_11ea_8bf9_548ca070448elevel0_row0\" class=\"row_heading level0 row0\" >0.001</th>\n",
       "                        <td id=\"T_625b4a2c_6767_11ea_8bf9_548ca070448erow0_col0\" class=\"data row0 col0\" >0.9802 (0.9781, 0.9823)</td>\n",
       "                        <td id=\"T_625b4a2c_6767_11ea_8bf9_548ca070448erow0_col1\" class=\"data row0 col1\" >0.9806 (0.9793, 0.982)</td>\n",
       "                        <td id=\"T_625b4a2c_6767_11ea_8bf9_548ca070448erow0_col2\" class=\"data row0 col2\" >0.9807 (0.9777, 0.9837)</td>\n",
       "                        <td id=\"T_625b4a2c_6767_11ea_8bf9_548ca070448erow0_col3\" class=\"data row0 col3\" >0.9818 (0.98, 0.9836)</td>\n",
       "                        <td id=\"T_625b4a2c_6767_11ea_8bf9_548ca070448erow0_col4\" class=\"data row0 col4\" >0.9408 (0.9163, 0.9653)</td>\n",
       "            </tr>\n",
       "            <tr>\n",
       "                        <th id=\"T_625b4a2c_6767_11ea_8bf9_548ca070448elevel0_row1\" class=\"row_heading level0 row1\" >0.01</th>\n",
       "                        <td id=\"T_625b4a2c_6767_11ea_8bf9_548ca070448erow1_col0\" class=\"data row1 col0\" >0.9994 (0.9989, 0.9999)</td>\n",
       "                        <td id=\"T_625b4a2c_6767_11ea_8bf9_548ca070448erow1_col1\" class=\"data row1 col1\" >0.999 (0.9984, 0.9995)</td>\n",
       "                        <td id=\"T_625b4a2c_6767_11ea_8bf9_548ca070448erow1_col2\" class=\"data row1 col2\" >0.9983 (0.996, 1.0006)</td>\n",
       "                        <td id=\"T_625b4a2c_6767_11ea_8bf9_548ca070448erow1_col3\" class=\"data row1 col3\" >0.9995 (0.999, 0.9999)</td>\n",
       "                        <td id=\"T_625b4a2c_6767_11ea_8bf9_548ca070448erow1_col4\" class=\"data row1 col4\" >0.5944 (0.3055, 0.8833)</td>\n",
       "            </tr>\n",
       "            <tr>\n",
       "                        <th id=\"T_625b4a2c_6767_11ea_8bf9_548ca070448elevel0_row2\" class=\"row_heading level0 row2\" >0.1</th>\n",
       "                        <td id=\"T_625b4a2c_6767_11ea_8bf9_548ca070448erow2_col0\" class=\"data row2 col0\" >0.9993 (0.9979, 1.0008)</td>\n",
       "                        <td id=\"T_625b4a2c_6767_11ea_8bf9_548ca070448erow2_col1\" class=\"data row2 col1\" >0.965 (0.9123, 1.0177)</td>\n",
       "                        <td id=\"T_625b4a2c_6767_11ea_8bf9_548ca070448erow2_col2\" class=\"data row2 col2\" >0.9986 (0.9971, 1.0)</td>\n",
       "                        <td id=\"T_625b4a2c_6767_11ea_8bf9_548ca070448erow2_col3\" class=\"data row2 col3\" >0.9788 (0.9451, 1.0126)</td>\n",
       "                        <td id=\"T_625b4a2c_6767_11ea_8bf9_548ca070448erow2_col4\" class=\"data row2 col4\" >0.1007 (0.099, 0.1023)</td>\n",
       "            </tr>\n",
       "            <tr>\n",
       "                        <th id=\"T_625b4a2c_6767_11ea_8bf9_548ca070448elevel0_row3\" class=\"row_heading level0 row3\" >1.0</th>\n",
       "                        <td id=\"T_625b4a2c_6767_11ea_8bf9_548ca070448erow3_col0\" class=\"data row3 col0\" >0.1016 (0.0987, 0.1044)</td>\n",
       "                        <td id=\"T_625b4a2c_6767_11ea_8bf9_548ca070448erow3_col1\" class=\"data row3 col1\" >0.101 (0.0995, 0.1025)</td>\n",
       "                        <td id=\"T_625b4a2c_6767_11ea_8bf9_548ca070448erow3_col2\" class=\"data row3 col2\" >0.1014 (0.0983, 0.1045)</td>\n",
       "                        <td id=\"T_625b4a2c_6767_11ea_8bf9_548ca070448erow3_col3\" class=\"data row3 col3\" >0.1013 (0.0985, 0.1041)</td>\n",
       "                        <td id=\"T_625b4a2c_6767_11ea_8bf9_548ca070448erow3_col4\" class=\"data row3 col4\" >0.1005 (0.0989, 0.1021)</td>\n",
       "            </tr>\n",
       "    </tbody></table>"
      ],
      "text/plain": [
       "<pandas.io.formats.style.Styler at 0x1f812a058c8>"
      ]
     },
     "metadata": {},
     "output_type": "display_data"
    },
    {
     "name": "stdout",
     "output_type": "stream",
     "text": [
      "Number of iteration\n"
     ]
    },
    {
     "data": {
      "text/html": [
       "<style  type=\"text/css\" >\n",
       "    #T_626a5b14_6767_11ea_8b87_548ca070448erow2_col4 {\n",
       "            background-color:  yellow;\n",
       "        }</style><table id=\"T_626a5b14_6767_11ea_8b87_548ca070448e\" ><thead>    <tr>        <th class=\"blank level0\" ></th>        <th class=\"col_heading level0 col0\" >0.0</th>        <th class=\"col_heading level0 col1\" >0.001</th>        <th class=\"col_heading level0 col2\" >0.01</th>        <th class=\"col_heading level0 col3\" >0.1</th>        <th class=\"col_heading level0 col4\" >1.0</th>    </tr></thead><tbody>\n",
       "                <tr>\n",
       "                        <th id=\"T_626a5b14_6767_11ea_8b87_548ca070448elevel0_row0\" class=\"row_heading level0 row0\" >0.001</th>\n",
       "                        <td id=\"T_626a5b14_6767_11ea_8b87_548ca070448erow0_col0\" class=\"data row0 col0\" >20.0 (20.0, 20.0)</td>\n",
       "                        <td id=\"T_626a5b14_6767_11ea_8b87_548ca070448erow0_col1\" class=\"data row0 col1\" >20.0 (20.0, 20.0)</td>\n",
       "                        <td id=\"T_626a5b14_6767_11ea_8b87_548ca070448erow0_col2\" class=\"data row0 col2\" >20.0 (20.0, 20.0)</td>\n",
       "                        <td id=\"T_626a5b14_6767_11ea_8b87_548ca070448erow0_col3\" class=\"data row0 col3\" >20.0 (20.0, 20.0)</td>\n",
       "                        <td id=\"T_626a5b14_6767_11ea_8b87_548ca070448erow0_col4\" class=\"data row0 col4\" >3.8 (2.7611, 4.8389)</td>\n",
       "            </tr>\n",
       "            <tr>\n",
       "                        <th id=\"T_626a5b14_6767_11ea_8b87_548ca070448elevel0_row1\" class=\"row_heading level0 row1\" >0.01</th>\n",
       "                        <td id=\"T_626a5b14_6767_11ea_8b87_548ca070448erow1_col0\" class=\"data row1 col0\" >18.6 (15.3621, 21.8379)</td>\n",
       "                        <td id=\"T_626a5b14_6767_11ea_8b87_548ca070448erow1_col1\" class=\"data row1 col1\" >16.0 (13.6771, 18.3229)</td>\n",
       "                        <td id=\"T_626a5b14_6767_11ea_8b87_548ca070448erow1_col2\" class=\"data row1 col2\" >14.4 (9.0883, 19.7117)</td>\n",
       "                        <td id=\"T_626a5b14_6767_11ea_8b87_548ca070448erow1_col3\" class=\"data row1 col3\" >16.8 (13.2444, 20.3556)</td>\n",
       "                        <td id=\"T_626a5b14_6767_11ea_8b87_548ca070448erow1_col4\" class=\"data row1 col4\" >3.4 (2.2894, 4.5106)</td>\n",
       "            </tr>\n",
       "            <tr>\n",
       "                        <th id=\"T_626a5b14_6767_11ea_8b87_548ca070448elevel0_row2\" class=\"row_heading level0 row2\" >0.1</th>\n",
       "                        <td id=\"T_626a5b14_6767_11ea_8b87_548ca070448erow2_col0\" class=\"data row2 col0\" >8.4 (7.2894, 9.5106)</td>\n",
       "                        <td id=\"T_626a5b14_6767_11ea_8b87_548ca070448erow2_col1\" class=\"data row2 col1\" >5.8 (1.9329, 9.6671)</td>\n",
       "                        <td id=\"T_626a5b14_6767_11ea_8b87_548ca070448erow2_col2\" class=\"data row2 col2\" >8.0 (5.5167, 10.4833)</td>\n",
       "                        <td id=\"T_626a5b14_6767_11ea_8b87_548ca070448erow2_col3\" class=\"data row2 col3\" >7.0 (4.366, 9.634)</td>\n",
       "                        <td id=\"T_626a5b14_6767_11ea_8b87_548ca070448erow2_col4\" class=\"data row2 col4\" >3.0 (3.0, 3.0)</td>\n",
       "            </tr>\n",
       "            <tr>\n",
       "                        <th id=\"T_626a5b14_6767_11ea_8b87_548ca070448elevel0_row3\" class=\"row_heading level0 row3\" >1.0</th>\n",
       "                        <td id=\"T_626a5b14_6767_11ea_8b87_548ca070448erow3_col0\" class=\"data row3 col0\" >4.4 (2.5169, 6.2831)</td>\n",
       "                        <td id=\"T_626a5b14_6767_11ea_8b87_548ca070448erow3_col1\" class=\"data row3 col1\" >4.8 (2.2553, 7.3447)</td>\n",
       "                        <td id=\"T_626a5b14_6767_11ea_8b87_548ca070448erow3_col2\" class=\"data row3 col2\" >4.4 (2.3223, 6.4777)</td>\n",
       "                        <td id=\"T_626a5b14_6767_11ea_8b87_548ca070448erow3_col3\" class=\"data row3 col3\" >4.2 (1.9788, 6.4212)</td>\n",
       "                        <td id=\"T_626a5b14_6767_11ea_8b87_548ca070448erow3_col4\" class=\"data row3 col4\" >3.2 (2.6447, 3.7553)</td>\n",
       "            </tr>\n",
       "    </tbody></table>"
      ],
      "text/plain": [
       "<pandas.io.formats.style.Styler at 0x1f8365ee248>"
      ]
     },
     "metadata": {},
     "output_type": "display_data"
    },
    {
     "name": "stdout",
     "output_type": "stream",
     "text": [
      "Running time\n"
     ]
    },
    {
     "data": {
      "text/html": [
       "<style  type=\"text/css\" >\n",
       "    #T_62774a9e_6767_11ea_9e60_548ca070448erow2_col4 {\n",
       "            background-color:  yellow;\n",
       "        }</style><table id=\"T_62774a9e_6767_11ea_9e60_548ca070448e\" ><thead>    <tr>        <th class=\"blank level0\" ></th>        <th class=\"col_heading level0 col0\" >0.0</th>        <th class=\"col_heading level0 col1\" >0.001</th>        <th class=\"col_heading level0 col2\" >0.01</th>        <th class=\"col_heading level0 col3\" >0.1</th>        <th class=\"col_heading level0 col4\" >1.0</th>    </tr></thead><tbody>\n",
       "                <tr>\n",
       "                        <th id=\"T_62774a9e_6767_11ea_9e60_548ca070448elevel0_row0\" class=\"row_heading level0 row0\" >0.001</th>\n",
       "                        <td id=\"T_62774a9e_6767_11ea_9e60_548ca070448erow0_col0\" class=\"data row0 col0\" >44.5608 (39.3065, 49.8151)</td>\n",
       "                        <td id=\"T_62774a9e_6767_11ea_9e60_548ca070448erow0_col1\" class=\"data row0 col1\" >40.7789 (37.6618, 43.8961)</td>\n",
       "                        <td id=\"T_62774a9e_6767_11ea_9e60_548ca070448erow0_col2\" class=\"data row0 col2\" >39.2682 (38.3077, 40.2287)</td>\n",
       "                        <td id=\"T_62774a9e_6767_11ea_9e60_548ca070448erow0_col3\" class=\"data row0 col3\" >38.3548 (35.1931, 41.5165)</td>\n",
       "                        <td id=\"T_62774a9e_6767_11ea_9e60_548ca070448erow0_col4\" class=\"data row0 col4\" >7.8869 (5.8394, 9.9344)</td>\n",
       "            </tr>\n",
       "            <tr>\n",
       "                        <th id=\"T_62774a9e_6767_11ea_9e60_548ca070448elevel0_row1\" class=\"row_heading level0 row1\" >0.01</th>\n",
       "                        <td id=\"T_62774a9e_6767_11ea_9e60_548ca070448erow1_col0\" class=\"data row1 col0\" >33.9763 (31.4048, 36.5478)</td>\n",
       "                        <td id=\"T_62774a9e_6767_11ea_9e60_548ca070448erow1_col1\" class=\"data row1 col1\" >31.326 (25.0502, 37.6018)</td>\n",
       "                        <td id=\"T_62774a9e_6767_11ea_9e60_548ca070448erow1_col2\" class=\"data row1 col2\" >30.9453 (18.3613, 43.5292)</td>\n",
       "                        <td id=\"T_62774a9e_6767_11ea_9e60_548ca070448erow1_col3\" class=\"data row1 col3\" >33.8614 (26.8954, 40.8274)</td>\n",
       "                        <td id=\"T_62774a9e_6767_11ea_9e60_548ca070448erow1_col4\" class=\"data row1 col4\" >7.4286 (5.3887, 9.4686)</td>\n",
       "            </tr>\n",
       "            <tr>\n",
       "                        <th id=\"T_62774a9e_6767_11ea_9e60_548ca070448elevel0_row2\" class=\"row_heading level0 row2\" >0.1</th>\n",
       "                        <td id=\"T_62774a9e_6767_11ea_9e60_548ca070448erow2_col0\" class=\"data row2 col0\" >18.2347 (13.2328, 23.2367)</td>\n",
       "                        <td id=\"T_62774a9e_6767_11ea_9e60_548ca070448erow2_col1\" class=\"data row2 col1\" >13.5977 (6.7779, 20.4174)</td>\n",
       "                        <td id=\"T_62774a9e_6767_11ea_9e60_548ca070448erow2_col2\" class=\"data row2 col2\" >15.7629 (11.2347, 20.2911)</td>\n",
       "                        <td id=\"T_62774a9e_6767_11ea_9e60_548ca070448erow2_col3\" class=\"data row2 col3\" >13.7705 (8.8854, 18.6557)</td>\n",
       "                        <td id=\"T_62774a9e_6767_11ea_9e60_548ca070448erow2_col4\" class=\"data row2 col4\" >6.7206 (6.3831, 7.058)</td>\n",
       "            </tr>\n",
       "            <tr>\n",
       "                        <th id=\"T_62774a9e_6767_11ea_9e60_548ca070448elevel0_row3\" class=\"row_heading level0 row3\" >1.0</th>\n",
       "                        <td id=\"T_62774a9e_6767_11ea_9e60_548ca070448erow3_col0\" class=\"data row3 col0\" >9.4033 (5.4607, 13.3459)</td>\n",
       "                        <td id=\"T_62774a9e_6767_11ea_9e60_548ca070448erow3_col1\" class=\"data row3 col1\" >11.4684 (6.3221, 16.6147)</td>\n",
       "                        <td id=\"T_62774a9e_6767_11ea_9e60_548ca070448erow3_col2\" class=\"data row3 col2\" >10.1869 (5.9648, 14.4091)</td>\n",
       "                        <td id=\"T_62774a9e_6767_11ea_9e60_548ca070448erow3_col3\" class=\"data row3 col3\" >9.3612 (4.9056, 13.8167)</td>\n",
       "                        <td id=\"T_62774a9e_6767_11ea_9e60_548ca070448erow3_col4\" class=\"data row3 col4\" >7.133 (6.2115, 8.0544)</td>\n",
       "            </tr>\n",
       "    </tbody></table>"
      ],
      "text/plain": [
       "<pandas.io.formats.style.Styler at 0x1f812a17e48>"
      ]
     },
     "metadata": {},
     "output_type": "display_data"
    },
    {
     "name": "stdout",
     "output_type": "stream",
     "text": [
      "The best number of learning rate is eta = 0.01\n",
      "The best number of momentum is alpha = 0\n"
     ]
    },
    {
     "data": {
      "image/png": "[encoded data removed]",
      "text/plain": [
       "<Figure size 720x720 with 4 Axes>"
      ]
     },
     "metadata": {
      "needs_background": "light"
     },
     "output_type": "display_data"
    },
    {
     "name": "stdout",
     "output_type": "stream",
     "text": [
      "The best batch size hyper parameter is batch_size = 32\n"
     ]
    }
   ],
   "source": [
    "scale3, nHiddenlayers3, nHiddenunits3, lr3, momentum3, batch_size3 = hyperpara(\n",
    "    M = M, loss = \"categorical_crossentropy\", activation = \"tanh\", \n",
    "    scale = scale, nHiddenlayers = nHiddenlayers, nHiddenunits = nHiddenunits, \n",
    "    lr = lr, momentum = momentum, batch_size = batch_size\n",
    ")"
   ]
  },
  {
   "cell_type": "markdown",
   "metadata": {},
   "source": [
    "The hyper parameters are as follows:"
   ]
  },
  {
   "cell_type": "code",
   "execution_count": 9,
   "metadata": {},
   "outputs": [
    {
     "data": {
      "text/plain": [
       "(1, 2, 1000, 0.01, 0.0, 32)"
      ]
     },
     "execution_count": 9,
     "metadata": {},
     "output_type": "execute_result"
    }
   ],
   "source": [
    "scale3, nHiddenlayers3, nHiddenunits3, lr3, momentum3, batch_size3"
   ]
  },
  {
   "cell_type": "markdown",
   "metadata": {},
   "source": [
    "### Performance of tanh; cross-entropy"
   ]
  },
  {
   "cell_type": "code",
   "execution_count": 90,
   "metadata": {},
   "outputs": [
    {
     "name": "stdout",
     "output_type": "stream",
     "text": [
      "Model: \"sequential_811\"\n",
      "_________________________________________________________________\n",
      "Layer (type)                 Output Shape              Param #   \n",
      "=================================================================\n",
      "dense_1980 (Dense)           multiple                  65000     \n",
      "_________________________________________________________________\n",
      "dense_1981 (Dense)           multiple                  1001000   \n",
      "_________________________________________________________________\n",
      "dense_1982 (Dense)           multiple                  10010     \n",
      "=================================================================\n",
      "Total params: 1,076,010\n",
      "Trainable params: 1,076,010\n",
      "Non-trainable params: 0\n",
      "_________________________________________________________________\n",
      "None\n"
     ]
    }
   ],
   "source": [
    "overallacc_test3, classacc_test3, con_mat_test3, overallacc_train3, classacc_train3, con_mat_train3, model_summary = perform(\n",
    "    loss = \"categorical_crossentropy\", activation = \"tanh\", scale = scale3, \n",
    "    nHiddenlayers = nHiddenlayers3, nHiddenunits = nHiddenunits3, \n",
    "    lr = lr3, momentum = momentum3, batch_size = batch_size3)\n",
    "print(model_summary)"
   ]
  },
  {
   "cell_type": "code",
   "execution_count": 91,
   "metadata": {
    "scrolled": true
   },
   "outputs": [
    {
     "name": "stdout",
     "output_type": "stream",
     "text": [
      "Overall classification Accuracy for training data = 0.9948\n",
      "\n",
      "Class Accuracy for training data\n",
      "              precision    recall  f1-score   support\n",
      "\n",
      "           0       1.00      0.99      1.00       376\n",
      "           1       0.99      0.99      0.99       389\n",
      "           2       1.00      1.00      1.00       380\n",
      "           3       0.99      0.99      0.99       389\n",
      "           4       0.99      0.99      0.99       387\n",
      "           5       1.00      0.99      0.99       376\n",
      "           6       0.99      0.99      0.99       377\n",
      "           7       1.00      1.00      1.00       387\n",
      "           8       1.00      0.99      1.00       380\n",
      "           9       0.98      0.99      0.99       382\n",
      "\n",
      "    accuracy                           0.99      3823\n",
      "   macro avg       0.99      0.99      0.99      3823\n",
      "weighted avg       0.99      0.99      0.99      3823\n",
      "\n",
      "Confusion matrix for training data\n",
      "[[0.99 0.   0.   0.   0.   0.   0.   0.   0.   0.  ]\n",
      " [0.   0.99 0.   0.   0.   0.   0.   0.   0.   0.01]\n",
      " [0.   0.   1.   0.   0.   0.   0.   0.   0.   0.  ]\n",
      " [0.   0.   0.   0.99 0.   0.   0.   0.   0.   0.  ]\n",
      " [0.   0.   0.   0.   0.99 0.   0.   0.   0.   0.  ]\n",
      " [0.   0.   0.   0.   0.   0.99 0.   0.   0.   0.01]\n",
      " [0.   0.   0.   0.   0.   0.   0.99 0.   0.   0.  ]\n",
      " [0.   0.   0.   0.   0.   0.   0.   1.   0.   0.  ]\n",
      " [0.   0.01 0.   0.   0.   0.   0.   0.   0.99 0.  ]\n",
      " [0.   0.   0.   0.   0.   0.   0.   0.   0.   0.99]]\n",
      "-------------------------------------------------------------\n",
      "Overall classification Accuracy for test data = 0.9588\n",
      "\n",
      "Class Accuracy for test data\n",
      "              precision    recall  f1-score   support\n",
      "\n",
      "           0       1.00      0.99      0.99       178\n",
      "           1       0.92      0.98      0.95       182\n",
      "           2       0.99      0.97      0.98       177\n",
      "           3       1.00      0.93      0.96       183\n",
      "           4       0.97      0.97      0.97       181\n",
      "           5       0.95      0.99      0.97       182\n",
      "           6       1.00      0.98      0.99       181\n",
      "           7       0.98      0.91      0.94       179\n",
      "           8       0.94      0.89      0.91       174\n",
      "           9       0.86      0.99      0.92       180\n",
      "\n",
      "    accuracy                           0.96      1797\n",
      "   macro avg       0.96      0.96      0.96      1797\n",
      "weighted avg       0.96      0.96      0.96      1797\n",
      "\n",
      "Confusion matrix for test data\n",
      "[[0.99 0.   0.   0.   0.01 0.01 0.   0.   0.   0.  ]\n",
      " [0.   0.98 0.   0.   0.   0.01 0.   0.   0.01 0.01]\n",
      " [0.   0.03 0.97 0.   0.   0.   0.   0.01 0.   0.  ]\n",
      " [0.   0.   0.01 0.93 0.   0.01 0.   0.01 0.02 0.02]\n",
      " [0.   0.01 0.   0.   0.97 0.   0.   0.01 0.02 0.  ]\n",
      " [0.   0.   0.   0.   0.   0.99 0.   0.   0.   0.01]\n",
      " [0.   0.01 0.   0.   0.01 0.   0.98 0.   0.01 0.  ]\n",
      " [0.   0.   0.   0.   0.01 0.02 0.   0.91 0.   0.07]\n",
      " [0.   0.05 0.   0.   0.   0.01 0.   0.   0.89 0.05]\n",
      " [0.   0.   0.   0.   0.   0.01 0.   0.   0.01 0.99]]\n"
     ]
    }
   ],
   "source": [
    "print(\"Overall classification Accuracy for training data = %.4f\\n\" % overallacc_train3)\n",
    "print(\"Class Accuracy for training data\")\n",
    "print(classacc_train3)\n",
    "print(\"Confusion matrix for training data\")\n",
    "print(con_mat_train3)\n",
    "\n",
    "print(\"-------------------------------------------------------------\")\n",
    "\n",
    "print(\"Overall classification Accuracy for test data = %.4f\\n\" % overallacc_test3)\n",
    "print(\"Class Accuracy for test data\")\n",
    "print(classacc_test3)\n",
    "print(\"Confusion matrix for test data\")\n",
    "print(con_mat_test3)"
   ]
  },
  {
   "cell_type": "markdown",
   "metadata": {},
   "source": [
    "### Hyperparameter for ReLU; cross-entropy error"
   ]
  },
  {
   "cell_type": "markdown",
   "metadata": {},
   "source": [
    "The hyper parameters are as follows:"
   ]
  },
  {
   "cell_type": "code",
   "execution_count": 7,
   "metadata": {},
   "outputs": [
    {
     "data": {
      "text/plain": [
       "(1, 2, 1000, 0.01, 0.001, 8)"
      ]
     },
     "execution_count": 7,
     "metadata": {},
     "output_type": "execute_result"
    }
   ],
   "source": [
    "scale2, nHiddenlayers2, nHiddenunits2, lr2, momentum2, batch_size2"
   ]
  },
  {
   "cell_type": "markdown",
   "metadata": {},
   "source": [
    "### Performance of ReLU; cross-entropy error"
   ]
  },
  {
   "cell_type": "code",
   "execution_count": 35,
   "metadata": {
    "scrolled": false
   },
   "outputs": [
    {
     "name": "stdout",
     "output_type": "stream",
     "text": [
      "Overall classification Accuracy for training data = 0.9801\n",
      "\n",
      "Class Accuracy for training data\n",
      "              precision    recall  f1-score   support\n",
      "\n",
      "           0       1.00      1.00      1.00       376\n",
      "           1       0.96      0.98      0.97       389\n",
      "           2       1.00      0.93      0.96       380\n",
      "           3       0.99      0.99      0.99       389\n",
      "           4       0.99      1.00      1.00       387\n",
      "           5       1.00      0.95      0.98       376\n",
      "           6       0.99      1.00      0.99       377\n",
      "           7       1.00      0.99      1.00       387\n",
      "           8       0.91      0.99      0.95       380\n",
      "           9       0.97      0.97      0.97       382\n",
      "\n",
      "    accuracy                           0.98      3823\n",
      "   macro avg       0.98      0.98      0.98      3823\n",
      "weighted avg       0.98      0.98      0.98      3823\n",
      "\n",
      "Confusion matrix for training data\n",
      "[[1.   0.   0.   0.   0.   0.   0.   0.   0.   0.  ]\n",
      " [0.   0.98 0.   0.   0.   0.   0.   0.   0.01 0.01]\n",
      " [0.   0.02 0.93 0.   0.   0.   0.   0.   0.04 0.  ]\n",
      " [0.   0.   0.   0.99 0.   0.   0.   0.   0.01 0.  ]\n",
      " [0.   0.   0.   0.   1.   0.   0.   0.   0.   0.  ]\n",
      " [0.   0.   0.   0.01 0.   0.95 0.01 0.   0.02 0.02]\n",
      " [0.   0.   0.   0.   0.   0.   1.   0.   0.   0.  ]\n",
      " [0.   0.   0.   0.   0.   0.   0.   0.99 0.   0.  ]\n",
      " [0.   0.01 0.   0.   0.   0.   0.   0.   0.99 0.  ]\n",
      " [0.   0.01 0.   0.   0.01 0.   0.   0.   0.02 0.97]]\n",
      "-------------------------------------------------------------\n",
      "Overall classification Accuracy for test data = 0.9505\n",
      "\n",
      "Class Accuracy for test data\n",
      "              precision    recall  f1-score   support\n",
      "\n",
      "           0       1.00      0.99      1.00       178\n",
      "           1       0.92      0.98      0.95       182\n",
      "           2       1.00      0.92      0.96       177\n",
      "           3       0.98      0.92      0.95       183\n",
      "           4       0.96      0.98      0.97       181\n",
      "           5       0.98      0.96      0.97       182\n",
      "           6       0.99      0.98      0.99       181\n",
      "           7       1.00      0.90      0.95       179\n",
      "           8       0.80      0.96      0.87       174\n",
      "           9       0.91      0.92      0.91       180\n",
      "\n",
      "    accuracy                           0.95      1797\n",
      "   macro avg       0.95      0.95      0.95      1797\n",
      "weighted avg       0.95      0.95      0.95      1797\n",
      "\n",
      "Confusion matrix for test data\n",
      "[[0.99 0.   0.   0.   0.01 0.   0.   0.   0.   0.  ]\n",
      " [0.   0.98 0.   0.   0.   0.   0.   0.   0.01 0.01]\n",
      " [0.   0.02 0.92 0.01 0.   0.   0.   0.   0.06 0.  ]\n",
      " [0.   0.   0.   0.92 0.   0.01 0.   0.   0.07 0.01]\n",
      " [0.   0.01 0.   0.   0.98 0.   0.   0.   0.02 0.  ]\n",
      " [0.   0.01 0.   0.01 0.01 0.96 0.01 0.   0.01 0.01]\n",
      " [0.   0.01 0.   0.   0.01 0.   0.98 0.   0.01 0.  ]\n",
      " [0.   0.   0.   0.   0.01 0.01 0.   0.9  0.02 0.07]\n",
      " [0.   0.03 0.   0.   0.   0.   0.   0.   0.96 0.01]\n",
      " [0.   0.01 0.   0.01 0.01 0.01 0.   0.   0.05 0.92]]\n"
     ]
    }
   ],
   "source": [
    "print(\"Overall classification Accuracy for training data = %.4f\\n\" % overallacc_train2)\n",
    "print(\"Class Accuracy for training data\")\n",
    "print(classacc_train2)\n",
    "print(\"Confusion matrix for training data\")\n",
    "print(con_mat_train2)\n",
    "\n",
    "print(\"-------------------------------------------------------------\")\n",
    "\n",
    "print(\"Overall classification Accuracy for test data = %.4f\\n\" % overallacc_test2)\n",
    "print(\"Class Accuracy for test data\")\n",
    "print(classacc_test2)\n",
    "print(\"Confusion matrix for test data\")\n",
    "print(con_mat_test2)"
   ]
  },
  {
   "cell_type": "markdown",
   "metadata": {},
   "source": [
    "### Discussion\n",
    "The hyper parameters with tanh and ReLu hidden units are(scale, nHiddenlayers, nHiddenunits, lr, momentum, batch_size)\n",
    "\n",
    "tanh: (1, 2, 1000, 0.01, 0.0, 32)\n",
    "\n",
    "ReLu: (1, 2, 1000, 0.01, 0.001, 8)\n",
    "\n",
    "Both error functions share the same scale, number of hidden layers, number of hidden units, and lr hyper parameter execept batch size and momentum hyper parameters. Observe that running time decreases as we increase the batch size regardless of loss function or activation function. Hence we might want to increase the batch size in order to same time in the other case.\n",
    "\n",
    "The overall classification accuracies for test data of tanh activation function and ReLu activation function are 0.9588 and 0.9505 respectively, which indicates that both loss function performs well in this problem."
   ]
  },
  {
   "cell_type": "markdown",
   "metadata": {},
   "source": [
    "## Convolutional Neural Network"
   ]
  },
  {
   "cell_type": "markdown",
   "metadata": {},
   "source": [
    "### Hyperparameter for ReLU; cross-entropy error"
   ]
  },
  {
   "cell_type": "code",
   "execution_count": 75,
   "metadata": {
    "scrolled": true
   },
   "outputs": [],
   "source": [
    "filtersize = [5, 10, 20]\n",
    "nconv = [1,1,1,1,1,1,1,1,2,2,2]\n",
    "height = [1,1,2,2,2,3,3,3,1,2,2]\n",
    "pool_size = [2,3,1,2,3,1,2,3,2,1,2]\n",
    "\n",
    "res = np.empty((0, 8))\n",
    "for i in range(len(filtersize)):\n",
    "    for j in range(len(nconv)):\n",
    "        #print(i, j)\n",
    "        tmp1, tmp2, tmp3, tmp4 = validation2(filtersize = filtersize[i], nconv = nconv[j],\n",
    "                                           height = height[j], pool_size = pool_size[j])\n",
    "        res = np.append(res, np.array([(filtersize[i], nconv[j], height[j], pool_size[j], \n",
    "                                       tmp1, tmp2, tmp3, tmp4)]), axis = 0)"
   ]
  },
  {
   "cell_type": "code",
   "execution_count": 76,
   "metadata": {},
   "outputs": [
    {
     "name": "stdout",
     "output_type": "stream",
     "text": [
      " filtersize  nconv  height  pool_size  running time  numofIter  train_acc  val_acc\n",
      "        5.0    1.0     1.0        2.0        2.0940        5.0     0.7780   0.8105\n",
      "        5.0    1.0     1.0        3.0        1.3882        3.0     0.1037   0.0915\n",
      "        5.0    1.0     2.0        1.0        2.0687        5.0     0.9529   0.9582\n",
      "        5.0    1.0     2.0        2.0        2.3915        5.0     0.8793   0.8915\n",
      "        5.0    1.0     2.0        3.0        2.5264        5.0     0.4712   0.4340\n",
      "        5.0    1.0     3.0        1.0        2.5608        5.0     0.9601   0.9582\n",
      "        5.0    1.0     3.0        2.0        2.8243        5.0     0.8986   0.9046\n",
      "        5.0    1.0     3.0        3.0        3.4226        5.0     0.4519   0.4366\n",
      "        5.0    2.0     1.0        2.0        1.9732        3.0     0.1037   0.0915\n",
      "        5.0    2.0     2.0        1.0        4.2099        5.0     0.9418   0.9373\n",
      "        5.0    2.0     2.0        2.0        3.2883        5.0     0.2511   0.2523\n",
      "       10.0    1.0     1.0        2.0        3.3738        5.0     0.7927   0.7908\n",
      "       10.0    1.0     1.0        3.0        1.8855        4.0     0.2959   0.3150\n",
      "       10.0    1.0     2.0        1.0        2.2950        5.0     0.9653   0.9621\n",
      "       10.0    1.0     2.0        2.0        2.1693        5.0     0.9150   0.9150\n",
      "       10.0    1.0     2.0        3.0        2.0852        5.0     0.8414   0.8497\n",
      "       10.0    1.0     3.0        1.0        2.2445        5.0     0.9699   0.9673\n",
      "       10.0    1.0     3.0        2.0        2.4035        5.0     0.9264   0.9281\n",
      "       10.0    1.0     3.0        3.0        2.1170        5.0     0.8976   0.9033\n",
      "       10.0    2.0     1.0        2.0        2.4173        5.0     0.1890   0.2157\n",
      "       10.0    2.0     2.0        1.0        3.1567        5.0     0.9088   0.9085\n",
      "       10.0    2.0     2.0        2.0        2.5151        5.0     0.3986   0.3922\n",
      "       20.0    1.0     1.0        2.0        1.7813        4.0     0.7695   0.7791\n",
      "       20.0    1.0     1.0        3.0        1.9241        5.0     0.2770   0.3072\n",
      "       20.0    1.0     2.0        1.0        2.2834        5.0     0.9591   0.9582\n",
      "       20.0    1.0     2.0        2.0        2.1296        5.0     0.9388   0.9477\n",
      "       20.0    1.0     2.0        3.0        2.1658        5.0     0.8980   0.9046\n",
      "       20.0    1.0     3.0        1.0        2.2115        5.0     0.9768   0.9712\n",
      "       20.0    1.0     3.0        2.0        3.2488        5.0     0.9670   0.9686\n",
      "       20.0    1.0     3.0        3.0        2.1963        5.0     0.9441   0.9529\n",
      "       20.0    2.0     1.0        2.0        2.6008        5.0     0.1913   0.1673\n",
      "       20.0    2.0     2.0        1.0        3.5500        5.0     0.9738   0.9765\n",
      "       20.0    2.0     2.0        2.0        2.6146        5.0     0.8581   0.8627\n"
     ]
    }
   ],
   "source": [
    "res2 = pd.DataFrame(res, columns=[\"filtersize\", \"nconv\", \"height\", \"pool_size\",\n",
    "                                \"running time\", \"numofIter\", \"train_acc\", \"val_acc\"]).round(4)\n",
    "print(res2.to_string(index=False))"
   ]
  },
  {
   "cell_type": "code",
   "execution_count": 79,
   "metadata": {
    "scrolled": true
   },
   "outputs": [
    {
     "name": "stdout",
     "output_type": "stream",
     "text": [
      " filtersize  nconv  height  pool_size  running time  numofIter  train_acc  val_acc\n",
      "       20.0    2.0     2.0        1.0          3.55        5.0     0.9738   0.9765\n",
      "20\n"
     ]
    }
   ],
   "source": [
    "print(res2.iloc[[res[:,7].argmax()]].to_string(index=False))\n",
    "filtersize5, nconv5, height5, pool_size5 = res[res[:,7].argmax(),:4].reshape(4).astype(\"int\")"
   ]
  },
  {
   "cell_type": "code",
   "execution_count": 81,
   "metadata": {},
   "outputs": [],
   "source": [
    "batch_size = [16, 32]\n",
    "lr = [0.01, 0.1]\n",
    "momentum = [0, 0.01]\n",
    "\n",
    "res = np.empty((0, 7))\n",
    "for i in range(len(batch_size)):\n",
    "    for j in range(len(lr)):\n",
    "        for k in range(len(momentum)):\n",
    "            tmp1, tmp2, tmp3, tmp4 = validation2(filtersize = filtersize5, nconv = nconv5,\n",
    "                                             height = height5, pool_size = pool_size5,\n",
    "                                            batch_size = batch_size[i], lr = lr[j], momentum = momentum[k])\n",
    "            res = np.append(res, np.array([(batch_size[i], lr[j], momentum[k],\n",
    "                                       tmp1, tmp2, tmp3, tmp4)]), axis = 0)"
   ]
  },
  {
   "cell_type": "code",
   "execution_count": 82,
   "metadata": {},
   "outputs": [
    {
     "name": "stdout",
     "output_type": "stream",
     "text": [
      " batch_size    lr  momentum  running time  numofIter  train_acc  val_acc\n",
      "       16.0  0.01      0.00        5.0396        5.0     0.9722   0.9725\n",
      "       16.0  0.01      0.01        4.9593        5.0     0.9823   0.9712\n",
      "       16.0  0.10      0.00        5.6145        5.0     0.9912   0.9778\n",
      "       16.0  0.10      0.01        5.0569        5.0     0.9716   0.9686\n",
      "       32.0  0.01      0.00        3.2989        5.0     0.9755   0.9752\n",
      "       32.0  0.01      0.01        3.6006        5.0     0.9768   0.9712\n",
      "       32.0  0.10      0.00        3.5622        5.0     0.9931   0.9856\n",
      "       32.0  0.10      0.01        3.5290        5.0     0.9513   0.9464\n"
     ]
    }
   ],
   "source": [
    "res2 = pd.DataFrame(res, columns=[\"batch_size\", \"lr\", \"momentum\",\n",
    "                                \"running time\", \"numofIter\", \"train_acc\", \"val_acc\"]).round(4)\n",
    "print(res2.to_string(index=False))"
   ]
  },
  {
   "cell_type": "code",
   "execution_count": 86,
   "metadata": {
    "scrolled": true
   },
   "outputs": [
    {
     "name": "stdout",
     "output_type": "stream",
     "text": [
      " batch_size   lr  momentum  running time  numofIter  train_acc  val_acc\n",
      "       32.0  0.1       0.0        3.5622        5.0     0.9931   0.9856\n"
     ]
    }
   ],
   "source": [
    "print(res2.iloc[[res[:,6].argmax()]].to_string(index=False))\n",
    "batch_size5, lr5, momentum5 = res[res[:,6].argmax(),:3].reshape(3)\n",
    "batch_size5 = int(batch_size5)"
   ]
  },
  {
   "cell_type": "markdown",
   "metadata": {},
   "source": [
    "### Performance of ReLU; cross-entropy error"
   ]
  },
  {
   "cell_type": "code",
   "execution_count": 87,
   "metadata": {},
   "outputs": [
    {
     "name": "stdout",
     "output_type": "stream",
     "text": [
      "Model: \"sequential_249\"\n",
      "_________________________________________________________________\n",
      "Layer (type)                 Output Shape              Param #   \n",
      "=================================================================\n",
      "conv2d_312 (Conv2D)          (None, 7, 7, 20)          100       \n",
      "_________________________________________________________________\n",
      "max_pooling2d_307 (MaxPoolin (None, 7, 7, 20)          0         \n",
      "_________________________________________________________________\n",
      "conv2d_313 (Conv2D)          (None, 6, 6, 20)          1620      \n",
      "_________________________________________________________________\n",
      "max_pooling2d_308 (MaxPoolin (None, 6, 6, 20)          0         \n",
      "_________________________________________________________________\n",
      "flatten_244 (Flatten)        (None, 720)               0         \n",
      "_________________________________________________________________\n",
      "dense_244 (Dense)            (None, 10)                7210      \n",
      "=================================================================\n",
      "Total params: 8,930\n",
      "Trainable params: 8,930\n",
      "Non-trainable params: 0\n",
      "_________________________________________________________________\n",
      "None\n"
     ]
    }
   ],
   "source": [
    "overallacc_test5, classacc_test5, con_mat_test5, overallacc_train5, classacc_train5, con_mat_train5, model_summary = perform2(\n",
    "    filtersize = filtersize5, height = height5, nconv = nconv5, pool_size = pool_size5,\n",
    "                lr = lr5, epoch = 50,\n",
    "                momentum = momentum5, batch_size = batch_size5\n",
    ")\n",
    "print(model_summary)"
   ]
  },
  {
   "cell_type": "code",
   "execution_count": 88,
   "metadata": {},
   "outputs": [
    {
     "name": "stdout",
     "output_type": "stream",
     "text": [
      "Overall classification Accuracy for training data = 0.9812\n",
      "\n",
      "Class Accuracy for training data\n",
      "              precision    recall  f1-score   support\n",
      "\n",
      "           0       1.00      1.00      1.00       376\n",
      "           1       1.00      0.89      0.94       389\n",
      "           2       0.99      1.00      0.99       380\n",
      "           3       0.99      0.99      0.99       389\n",
      "           4       0.97      0.98      0.98       387\n",
      "           5       0.98      1.00      0.99       376\n",
      "           6       0.99      0.99      0.99       377\n",
      "           7       1.00      1.00      1.00       387\n",
      "           8       0.93      0.99      0.96       380\n",
      "           9       0.97      0.97      0.97       382\n",
      "\n",
      "    accuracy                           0.98      3823\n",
      "   macro avg       0.98      0.98      0.98      3823\n",
      "weighted avg       0.98      0.98      0.98      3823\n",
      "\n",
      "Confusion matrix for training data\n",
      "[[1.   0.   0.   0.   0.   0.   0.   0.   0.   0.  ]\n",
      " [0.   0.89 0.01 0.01 0.01 0.   0.   0.   0.07 0.01]\n",
      " [0.   0.   1.   0.   0.   0.   0.   0.   0.   0.  ]\n",
      " [0.   0.   0.   0.99 0.   0.   0.   0.   0.   0.  ]\n",
      " [0.   0.   0.   0.   0.98 0.   0.   0.   0.   0.01]\n",
      " [0.   0.   0.   0.   0.   1.   0.   0.   0.   0.  ]\n",
      " [0.   0.   0.   0.   0.   0.   0.99 0.   0.   0.  ]\n",
      " [0.   0.   0.   0.   0.   0.   0.   1.   0.   0.  ]\n",
      " [0.   0.   0.   0.   0.   0.   0.01 0.   0.99 0.  ]\n",
      " [0.   0.   0.   0.   0.01 0.01 0.   0.   0.   0.97]]\n",
      "-------------------------------------------------------------\n",
      "Overall classification Accuracy for test data = 0.9482\n",
      "\n",
      "Class Accuracy for test data\n",
      "              precision    recall  f1-score   support\n",
      "\n",
      "           0       1.00      0.98      0.99       178\n",
      "           1       0.99      0.87      0.93       182\n",
      "           2       0.98      0.97      0.97       177\n",
      "           3       0.94      0.95      0.94       183\n",
      "           4       0.93      0.94      0.93       181\n",
      "           5       0.95      0.99      0.97       182\n",
      "           6       0.99      0.98      0.99       181\n",
      "           7       0.99      0.93      0.96       179\n",
      "           8       0.86      0.97      0.91       174\n",
      "           9       0.88      0.92      0.90       180\n",
      "\n",
      "    accuracy                           0.95      1797\n",
      "   macro avg       0.95      0.95      0.95      1797\n",
      "weighted avg       0.95      0.95      0.95      1797\n",
      "\n",
      "Confusion matrix for test data\n",
      "[[0.98 0.01 0.01 0.   0.   0.01 0.   0.   0.01 0.  ]\n",
      " [0.   0.87 0.02 0.02 0.02 0.   0.   0.   0.08 0.  ]\n",
      " [0.   0.   0.97 0.02 0.01 0.   0.   0.   0.01 0.  ]\n",
      " [0.   0.   0.   0.95 0.   0.   0.   0.01 0.02 0.02]\n",
      " [0.   0.   0.   0.   0.94 0.   0.01 0.   0.01 0.05]\n",
      " [0.   0.   0.   0.01 0.   0.99 0.   0.   0.   0.01]\n",
      " [0.   0.   0.   0.   0.01 0.   0.98 0.   0.01 0.  ]\n",
      " [0.   0.   0.   0.   0.01 0.02 0.   0.93 0.01 0.04]\n",
      " [0.   0.   0.   0.01 0.   0.01 0.01 0.   0.97 0.01]\n",
      " [0.   0.   0.   0.02 0.03 0.02 0.   0.   0.02 0.92]]\n"
     ]
    }
   ],
   "source": [
    "print(\"Overall classification Accuracy for training data = %.4f\\n\" % overallacc_train5)\n",
    "print(\"Class Accuracy for training data\")\n",
    "print(classacc_train5)\n",
    "print(\"Confusion matrix for training data\")\n",
    "print(con_mat_train5)\n",
    "\n",
    "print(\"-------------------------------------------------------------\")\n",
    "\n",
    "print(\"Overall classification Accuracy for test data = %.4f\\n\" % overallacc_test5)\n",
    "print(\"Class Accuracy for test data\")\n",
    "print(classacc_test5)\n",
    "print(\"Confusion matrix for test data\")\n",
    "print(con_mat_test5)"
   ]
  },
  {
   "cell_type": "markdown",
   "metadata": {},
   "source": [
    "### Discussion\n",
    "\n",
    "For convolution network, the number of convolutional layout and height and pool_size are limited because of the small input size($8 \\times 8)$. Hence, we choosed the best hyper parameter based on limited hyper-parameter candidates as described above. Note thate the validation accuracies vary a lot depending on the hyper parameter for model structure(filtersize, number of convolutional layout, height, and pool_size).\n",
    "\n",
    "The best hyper-parameter based on validation accuracy is\n",
    "\n",
    "filtersize = 20, number of convolutional layout = 2  height = 2  pool_size = 1.\n",
    "\n",
    "batch_size = 32, lr = 0.1, momentum = 0.0\n",
    "\n",
    "Overall classification accuracy for training data is 0.9812 and that for test data is 0.9482, which are acceptable. We can check that running time of convolutional networks is shorter compared to that of feed-forward network."
   ]
  },
  {
   "cell_type": "markdown",
   "metadata": {},
   "source": [
    "# Data import and functions defined"
   ]
  },
  {
   "cell_type": "code",
   "execution_count": 1,
   "metadata": {},
   "outputs": [
    {
     "name": "stderr",
     "output_type": "stream",
     "text": [
      "Using TensorFlow backend.\n"
     ]
    }
   ],
   "source": [
    "from __future__ import absolute_import, division, print_function, unicode_literals\n",
    "import functools\n",
    "\n",
    "# TensorFlow and tf.keras\n",
    "import tensorflow as tf\n",
    "from tensorflow import keras\n",
    "from keras.utils import to_categorical\n",
    "\n",
    "# Helper libraries\n",
    "import numpy as np\n",
    "import matplotlib.pyplot as plt\n",
    "import csv\n",
    "\n",
    "from sklearn.metrics import classification_report\n",
    "from sklearn.metrics import accuracy_score\n",
    "from sklearn.model_selection import train_test_split\n",
    "\n",
    "import pandas as pd\n",
    "\n",
    "from timeit import default_timer as timer\n",
    "\n",
    "import scipy.stats"
   ]
  },
  {
   "cell_type": "code",
   "execution_count": 2,
   "metadata": {},
   "outputs": [
    {
     "name": "stdout",
     "output_type": "stream",
     "text": [
      "2.0.0\n",
      "2.2.4-tf\n",
      "0.25.1\n",
      "1.16.5\n"
     ]
    }
   ],
   "source": [
    "print(tf.__version__)\n",
    "print(keras.__version__)\n",
    "print(pd.__version__)\n",
    "print(np.__version__)"
   ]
  },
  {
   "cell_type": "code",
   "execution_count": 3,
   "metadata": {},
   "outputs": [],
   "source": [
    "TRAIN_DATA_URL = \"http://archive.ics.uci.edu/ml/machine-learning-databases/optdigits/optdigits.tra\"\n",
    "TEST_DATA_URL = \"http://archive.ics.uci.edu/ml/machine-learning-databases/optdigits/optdigits.tes\"\n",
    "\n",
    "train_file_path = tf.keras.utils.get_file(\"optdigits.tra\", TRAIN_DATA_URL)\n",
    "test_file_path = tf.keras.utils.get_file(\"optdigits.tes\", TEST_DATA_URL)\n",
    "\n",
    "train_labels = []\n",
    "train_images = []\n",
    "with open(train_file_path, \"r\") as f:\n",
    "    rdr = csv.reader(f)\n",
    "    for line in rdr:\n",
    "        train_labels.append(int(line[64]))\n",
    "        train_images.append([int(i) for i in line[0:64]])\n",
    "\n",
    "test_labels = []\n",
    "test_images = []\n",
    "with open(test_file_path, \"r\") as f:\n",
    "    rdr = csv.reader(f)\n",
    "    for line in rdr:\n",
    "        test_labels.append(int(line[64]))\n",
    "        test_images.append([int(i) for i in line[0:64]])\n",
    "        \n",
    "train_labels = np.array(train_labels)\n",
    "train_images = np.array(train_images)\n",
    "test_labels = np.array(test_labels)\n",
    "test_images = np.array(test_images)\n",
    "train_labels_full = train_labels\n",
    "train_images_full = train_images\n",
    "\n",
    "train_images, val_images, train_labels, val_labels = train_test_split(train_images, train_labels, test_size=0.20, shuffle= True)\n",
    "\n",
    "train_cnn_full = train_images_full.reshape(train_images_full.shape[0], 8, 8, 1).astype('float32')\n",
    "test_cnn = test_images.reshape(test_images.shape[0], 8, 8, 1).astype('float32')\n",
    "\n",
    "train_cnn, val_cnn, train_cnn_labels, val_cnn_labels = train_test_split(train_cnn_full, train_labels_full, \n",
    "                                                                        test_size=0.20, shuffle= True)\n",
    "\n",
    "encoded_train_labels = to_categorical(train_labels)\n",
    "encoded_val_labels = to_categorical(val_labels)\n",
    "encoded_test_labels = to_categorical(test_labels)\n",
    "encoded_train_labels_full = to_categorical(train_labels_full)\n",
    "\n",
    "encoded_train_labels_cnn = to_categorical(train_cnn_labels)\n",
    "encoded_val_labels_cnn = to_categorical(val_cnn_labels)\n",
    "encoded_test_labels_cnn = to_categorical(test_labels)\n",
    "encoded_train_labels_full_cnn = to_categorical(train_labels_full)"
   ]
  },
  {
   "cell_type": "code",
   "execution_count": 89,
   "metadata": {},
   "outputs": [],
   "source": [
    "def validation1(loss, activation, scale = 1, nHiddenlayers = 1, nHiddenunits = 100, lr = 0.01,\n",
    "                momentum = 0.0, batch_size = 32, verbose = 0):\n",
    "    #loss = \"categorical_crossentropy\"\n",
    "    \n",
    "    model = keras.Sequential()\n",
    "\n",
    "    for i in range(int(nHiddenlayers)):\n",
    "        model.add(keras.layers.Dense(nHiddenunits, activation=activation))\n",
    "\n",
    "    model.add(keras.layers.Dense(10, activation='softmax'))\n",
    "    \n",
    "    model.compile(optimizer=keras.optimizers.SGD(lr = lr, momentum = momentum),\n",
    "              loss= loss,\n",
    "              metrics=['accuracy'])\n",
    "\n",
    "    callbacks = [\n",
    "        # Interrupt training if `val_loss` stops improving for over 2 epochs\n",
    "        tf.keras.callbacks.EarlyStopping(patience=2, monitor='val_loss')\n",
    "        ]\n",
    "    \n",
    "    start = timer()\n",
    "    modelFit = model.fit(train_images*scale, encoded_train_labels , epochs=20, callbacks=callbacks,\n",
    "         validation_data=(val_images*scale, encoded_val_labels), verbose = verbose, batch_size = batch_size)\n",
    "    end = timer()\n",
    "    \n",
    "    time = end - start\n",
    "    num_iter = len(modelFit.history['loss'])\n",
    "    \n",
    "    train_acc = model.evaluate(train_images, encoded_train_labels, verbose=0)[1]\n",
    "    val_acc = model.evaluate(val_images, encoded_val_labels, verbose=0)[1]\n",
    "    \n",
    "    return time, num_iter, train_acc, val_acc\n",
    "\n",
    "def mean_confidence_interval(data, confidence=0.95):\n",
    "    a = 1.0 * np.array(data)\n",
    "    n = len(a)\n",
    "    m, se = np.mean(a), scipy.stats.sem(a)\n",
    "    h = se * scipy.stats.t.ppf((1 + confidence) / 2., n-1)\n",
    "    return m-h,m, m+h, h\n",
    "\n",
    "def performance(M, loss, activation, scale = [1], nHiddenlayers = [1], nHiddenunits = [100], \n",
    "                lr = [0.01], momentum = [0.0], batch_size = [32]):\n",
    "    res = np.empty((0, 8))\n",
    "    for i1 in scale:\n",
    "        for i2 in nHiddenlayers:\n",
    "            for i3 in nHiddenunits:\n",
    "                for i4 in lr:\n",
    "                    for i5 in momentum:\n",
    "                        for i6 in batch_size:\n",
    "                            res2 = np.empty((0, 4))\n",
    "                            for i in range(M):\n",
    "                                res2 = np.append(\n",
    "                                    res2, np.array([\n",
    "                                        validation1(scale = i1, nHiddenlayers = i2,\n",
    "                                                   nHiddenunits = i3, lr = i4,\n",
    "                                                   momentum = i5, batch_size = i6,\n",
    "                                                   loss = loss, activation = activation)]), axis = 0)\n",
    "                            res = np.append(res, np.array([np.reshape(np.apply_along_axis(mean_confidence_interval, 0, res2)[[1,3],:], 8, order = 'F')]), axis = 0)\n",
    "    return(res)\n",
    "\n",
    "def plotCI(res,  x, xscale = \"linear\", basex = 2):\n",
    "    plt.figure(figsize=(10,10))\n",
    "    plotLabel = [\"val_acc\", \"train_acc\", \"num of iteration\", \"running time\"]\n",
    "    for i in range(4):\n",
    "        plt.subplot(2, 2, (i + 1))\n",
    "        plt.errorbar(x, res[:,(6-2*i)], yerr=res[:,(7-2*i)], fmt='.k');\n",
    "        plt.title(plotLabel[i])\n",
    "        if(xscale == \"linear\"): \n",
    "            plt.xscale(\"linear\")\n",
    "        elif(xscale == \"log\"): \n",
    "            plt.xscale('log', basex=basex)\n",
    "            \n",
    "def TablePerf(res, row, col, val = 0):\n",
    "    if(val == 0): attr = \"Accuracy of validation set\"\n",
    "    elif(val == 1): attr = \"Accuracy of training set\"\n",
    "    elif(val == 2): attr = \"Number of iteration\"\n",
    "    elif(val == 3): attr = \"Running time\"\n",
    "    elif(val == 4):\n",
    "        mean1 = np.reshape(res, (len(row), len(col), 8))[:,:,6-2*0].reshape(len(row), len(col))\n",
    "        df = pd.DataFrame(mean1, columns = col, index = row).round(4)\n",
    "        return df.stack().index[np.argmax(df.values)]\n",
    "    mean = np.reshape(res, (len(row), len(col), 8))[:,:,6-2*val].reshape(len(row), len(col))\n",
    "    size = np.reshape(res, (len(row), len(col), 8))[:,:,7-2*val].reshape(len(row), len(col))\n",
    "    ui = mean + size\n",
    "    li = mean - size\n",
    "\n",
    "    df = pd.DataFrame(mean, columns=col, index=row).round(4)\n",
    "    dfm = df.applymap(str)\n",
    "    dfu = pd.DataFrame(ui, columns=col, index=row).round(4).applymap(str)\n",
    "    dfl = pd.DataFrame(li, columns=col, index=row).round(4).applymap(str)\n",
    "    \n",
    "    dfm = dfm.apply(lambda x: x + \" (\" + dfl[x.name] + \", \"+ dfu[x.name] + \")\" )\n",
    "    if(val ==  0 or val == 1): \n",
    "        bool_matrix = df == df.max().max()\n",
    "        tmp = df.stack().index[np.argmax(df.values)]\n",
    "    elif(val == 2 or val == 3):\n",
    "        bool_matrix = df == df.min().min()\n",
    "        tmp = df.stack().index[np.argmin(df.values)]\n",
    "    def highlight(value):\n",
    "        return bool_matrix.applymap(lambda x: 'background-color: yellow' if x else '')\n",
    "    \n",
    "    #print(\"The best \" + attr + \" is attained when # of hidden layers = %g , # of hidden units = %g\\n\" % tmp)\n",
    "\n",
    "    print(attr)\n",
    "    return(tmp, dfm.style.apply(highlight, axis=None))\n",
    "\n",
    "def hyperpara(M, loss, activation, scale, nHiddenlayers, nHiddenunits,\n",
    "             lr, momentum, batch_size):\n",
    "    attr = [\"accuracy of validation set\", \"accuracy of training set\", \"number of iteration\", \"running time\"]\n",
    "    \n",
    "    res = performance(M, loss = loss, activation = activation, scale = scale)\n",
    "    plotCI(res, scale, xscale = \"log\", basex = scale[1] / scale[0])\n",
    "    plt.show()\n",
    "    scale1 = scale[np.argmax(res[:,6])]\n",
    "    print(\"The best scale hyper parameter is scale = %g\" % scale1)\n",
    "\n",
    "    res = performance(M, loss = loss, activation = activation, \n",
    "                      nHiddenlayers = nHiddenlayers, nHiddenunits = nHiddenunits, \n",
    "                      scale = [scale1])\n",
    "    for i in range(4):\n",
    "        a , b = TablePerf(res, val = i, row = nHiddenlayers, col = nHiddenunits); display(b)\n",
    "        print(\"The best \" + attr[i] + \" is attained when # of hidden layers = %g , # of hidden units = %g\\n\" % a)\n",
    "    nHiddenlayers1, nHiddenunits1 = TablePerf(res, val = 4, row = nHiddenlayers, col = nHiddenunits);\n",
    "    print(\"The best number of hidden layers is nHiddenlayers = %g\" % nHiddenlayers1)\n",
    "    print(\"The best number of hidden units is nHiddenunits = %g\" % nHiddenunits1)\n",
    "\n",
    "    res = performance(M, loss = loss, activation = activation, scale = [scale1], \n",
    "                  nHiddenlayers = [nHiddenlayers1], nHiddenunits = [nHiddenunits1],\n",
    "                  lr = lr, momentum = momentum)\n",
    "    for i in range(4):\n",
    "        a , b = TablePerf(res, val = i, row = lr, col = momentum); display(b)\n",
    "    lr1, momentum1 = TablePerf(res, val = 4, row = lr, col = momentum);\n",
    "    print(\"The best number of learning rate is eta = %g\" % lr1)\n",
    "    print(\"The best number of momentum is alpha = %g\" % momentum1)\n",
    "\n",
    "    res = performance(M, loss = loss, activation = activation, scale = [scale1], \n",
    "                  nHiddenlayers = [nHiddenlayers1], nHiddenunits = [nHiddenunits1],\n",
    "                  lr = [lr1], momentum = [momentum1], batch_size = batch_size)\n",
    "\n",
    "    plotCI(res, batch_size, xscale = \"log\", basex = batch_size[1] / batch_size[0])\n",
    "    plt.show()\n",
    "    batch_size1 = batch_size[np.argmax(res[:,6])]\n",
    "    print(\"The best batch size hyper parameter is batch_size = %g\" % batch_size1)\n",
    "\n",
    "    return scale1, nHiddenlayers1, nHiddenunits1, lr1, momentum1, batch_size1\n",
    "\n",
    "def perform(loss, activation, scale, nHiddenlayers, nHiddenunits, lr ,\n",
    "                momentum, batch_size, verbose = 0):\n",
    "    model = keras.Sequential()\n",
    "\n",
    "    for i in range(int(nHiddenlayers)):\n",
    "        model.add(keras.layers.Dense(nHiddenunits, activation=activation))\n",
    "\n",
    "    model.add(keras.layers.Dense(10, activation='softmax'))\n",
    "    \n",
    "    model.compile(optimizer=keras.optimizers.SGD(lr = lr, momentum = momentum),\n",
    "              loss= loss,\n",
    "              metrics=['accuracy'])\n",
    "\n",
    "    callbacks = [\n",
    "        # Interrupt training if `val_loss` stops improving for over 2 epochs\n",
    "        tf.keras.callbacks.EarlyStopping(patience=2, monitor='val_loss')\n",
    "        ]\n",
    "    \n",
    "    modelFit = model.fit(train_images*scale, encoded_train_labels , epochs=100, callbacks=callbacks,\n",
    "         validation_data=(val_images*scale, encoded_val_labels), verbose = verbose, batch_size = batch_size)\n",
    "    \n",
    "    predictions=model.predict_classes(test_images)\n",
    "    \n",
    "    overallacc = accuracy_score(test_labels, predictions)\n",
    "    classacc = classification_report(test_labels, predictions)\n",
    "    con_mat = tf.math.confusion_matrix(labels=test_labels, predictions=predictions).numpy()\n",
    "    con_mat = np.around(con_mat.astype('float') / con_mat.sum(axis=1)[:, np.newaxis], decimals=2)\n",
    "    \n",
    "    predictions2 = model.predict_classes(train_images_full)\n",
    "    \n",
    "    overallacc2 = accuracy_score(train_labels_full, predictions2)\n",
    "    classacc2 = classification_report(train_labels_full, predictions2)\n",
    "    con_mat2 = tf.math.confusion_matrix(labels=train_labels_full, predictions=predictions2).numpy()\n",
    "    con_mat2 = np.around(con_mat2.astype('float') / con_mat2.sum(axis=1)[:, np.newaxis], decimals=2)\n",
    "    \n",
    "    return overallacc, classacc, con_mat, overallacc2, classacc2, con_mat2, model.summary()\n",
    "\n",
    "def validation2(filtersize, height = 2, nconv = 1, pool_size = 2,\n",
    "                lr = 0.01, epoch = 5,\n",
    "                momentum = 0.0, batch_size = 32, verbose = 0):\n",
    "    #loss = \"categorical_crossentropy\"\n",
    "    \n",
    "    model = keras.Sequential()\n",
    "    \n",
    "    model.add(keras.layers.Conv2D(filtersize, (height, height), activation='relu', input_shape=(8, 8, 1)))\n",
    "    model.add(keras.layers.MaxPooling2D((pool_size, pool_size)))\n",
    "\n",
    "    if(nconv == 2):\n",
    "        model.add(keras.layers.Conv2D(filtersize, (height, height), activation='relu'))\n",
    "        model.add(keras.layers.MaxPooling2D((pool_size, pool_size)))\n",
    "\n",
    "    model.add(keras.layers.Flatten())\n",
    "    model.add(keras.layers.Dense(10, activation='softmax'))\n",
    "    \n",
    "    model.compile(optimizer=keras.optimizers.SGD(lr = lr, momentum = momentum),\n",
    "              loss=\"categorical_crossentropy\",\n",
    "              metrics=['accuracy'])\n",
    "\n",
    "    callbacks = [\n",
    "        # Interrupt training if `val_loss` stops improving for over 2 epochs\n",
    "        tf.keras.callbacks.EarlyStopping(patience=2, monitor='val_loss')\n",
    "        ]\n",
    "    \n",
    "    start = timer()\n",
    "    modelFit = model.fit(train_cnn, encoded_train_labels_cnn , epochs=epoch, callbacks=callbacks,\n",
    "    validation_data=(val_cnn, encoded_val_labels_cnn), verbose = verbose, batch_size = batch_size)\n",
    "    end = timer()\n",
    "    \n",
    "    time = end - start\n",
    "    num_iter = len(modelFit.history['loss'])\n",
    "    \n",
    "    train_acc = model.evaluate(train_cnn, encoded_train_labels_cnn, verbose=0)[1]\n",
    "    val_acc = model.evaluate(val_cnn, encoded_val_labels_cnn, verbose=0)[1]\n",
    "    \n",
    "    return time, num_iter, train_acc, val_acc\n",
    "\n",
    "def perform2(filtersize, height, nconv, pool_size,\n",
    "                lr, epoch,\n",
    "                momentum, batch_size, verbose = 0):\n",
    "    model = keras.Sequential()\n",
    "    \n",
    "    model.add(keras.layers.Conv2D(filtersize, (height, height), activation='relu', input_shape=(8, 8, 1)))\n",
    "    model.add(keras.layers.MaxPooling2D((pool_size, pool_size)))\n",
    "\n",
    "    if(nconv == 2):\n",
    "        model.add(keras.layers.Conv2D(filtersize, (height, height), activation='relu'))\n",
    "        model.add(keras.layers.MaxPooling2D((pool_size, pool_size)))\n",
    "\n",
    "    model.add(keras.layers.Flatten())\n",
    "    model.add(keras.layers.Dense(10, activation='softmax'))\n",
    "    \n",
    "    model.compile(optimizer=keras.optimizers.SGD(lr = lr, momentum = momentum),\n",
    "              loss=\"categorical_crossentropy\",\n",
    "              metrics=['accuracy'])\n",
    "\n",
    "    callbacks = [\n",
    "        # Interrupt training if `val_loss` stops improving for over 2 epochs\n",
    "        tf.keras.callbacks.EarlyStopping(patience=2, monitor='val_loss')\n",
    "        ]\n",
    "    \n",
    "    modelFit = model.fit(train_cnn, encoded_train_labels_cnn, epochs=epoch, callbacks=callbacks,\n",
    "    validation_data=(val_cnn, encoded_val_labels_cnn), verbose = verbose, batch_size = batch_size)\n",
    "    \n",
    "    predictions=model.predict_classes(test_cnn)\n",
    "    \n",
    "    overallacc = accuracy_score(test_labels, predictions)\n",
    "    classacc = classification_report(test_labels, predictions)\n",
    "    con_mat = tf.math.confusion_matrix(labels=test_labels, predictions=predictions).numpy()\n",
    "    con_mat = np.around(con_mat.astype('float') / con_mat.sum(axis=1)[:, np.newaxis], decimals=2)\n",
    "    \n",
    "    predictions2 = model.predict_classes(train_cnn_full)\n",
    "    \n",
    "    overallacc2 = accuracy_score(train_labels_full, predictions2)\n",
    "    classacc2 = classification_report(train_labels_full, predictions2)\n",
    "    con_mat2 = tf.math.confusion_matrix(labels=train_labels_full, predictions=predictions2).numpy()\n",
    "    con_mat2 = np.around(con_mat2.astype('float') / con_mat2.sum(axis=1)[:, np.newaxis], decimals=2)\n",
    "    \n",
    "    return overallacc, classacc, con_mat, overallacc2, classacc2, con_mat2, model.summary()\n"
   ]
  }
 ],
 "metadata": {
  "kernelspec": {
   "display_name": "Python 3",
   "language": "python",
   "name": "python3"
  },
  "language_info": {
   "codemirror_mode": {
    "name": "ipython",
    "version": 3
   },
   "file_extension": ".py",
   "mimetype": "text/x-python",
   "name": "python",
   "nbconvert_exporter": "python",
   "pygments_lexer": "ipython3",
   "version": "3.7.6"
  }
 },
 "nbformat": 4,
 "nbformat_minor": 2
}
